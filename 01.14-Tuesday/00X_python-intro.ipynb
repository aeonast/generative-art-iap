{
  "nbformat": 4,
  "nbformat_minor": 0,
  "metadata": {
    "colab": {
      "name": "intro-python.ipynb",
      "provenance": [],
      "collapsed_sections": [],
      "authorship_tag": "ABX9TyOnyXAvhje1HsNJE/t+fmdl",
      "include_colab_link": true
    },
    "kernelspec": {
      "name": "python3",
      "display_name": "Python 3"
    }
  },
  "cells": [
    {
      "cell_type": "markdown",
      "metadata": {
        "id": "view-in-github",
        "colab_type": "text"
      },
      "source": [
        "<a href=\"https://colab.research.google.com/github/gvarnavi/generative-art-iap/blob/master/01.14-Tuesday/intro_python.ipynb\" target=\"_parent\"><img src=\"https://colab.research.google.com/assets/colab-badge.svg\" alt=\"Open In Colab\"/></a>"
      ]
    },
    {
      "cell_type": "markdown",
      "metadata": {
        "id": "AtqpCbOyy0Cf",
        "colab_type": "text"
      },
      "source": [
        "# Python Tutorial\n",
        "Here we will cover some of basic programming in Python that will appear in the workshop examples. We will focus primarily on the skills needed to follow along in the examples.\n",
        "### Working in a Google Colab python notebook\n",
        "During this workshop, we'll be using Google Colab, a cloud-based free Jupyter notebook environment. The notebooks can be downloaded to run locally as well.\n",
        "\n",
        "To run a code cell in Google Colab, first select the code cell anywhere with your cursor. You will see a \"play\" button appear on the left margin of the cell. You may execute the cell by clicking the button, or by typing any of the following shortcuts: Shift+Enter, Command+Enter, Ctrl+Enter.\n",
        "Test running the following cell:"
      ]
    },
    {
      "cell_type": "code",
      "metadata": {
        "id": "l-iK5mxn1_ga",
        "colab_type": "code",
        "colab": {}
      },
      "source": [
        "pi = 22/7\n",
        "print(\"{} is an approximation for pi.\".format(pi))"
      ],
      "execution_count": 0,
      "outputs": []
    },
    {
      "cell_type": "markdown",
      "metadata": {
        "id": "0nSl4cKR1_yS",
        "colab_type": "text"
      },
      "source": [
        "### Python syntax\n",
        "Defining variables and printing values:"
      ]
    },
    {
      "cell_type": "code",
      "metadata": {
        "id": "pEZVcAY4yw7i",
        "colab_type": "code",
        "colab": {}
      },
      "source": [
        "a = 1.0\n",
        "b = -1.0\n",
        "c = 1./2\n",
        "x = 0.5\n",
        "y = a*x**2 + b*x + c # c = ax^2 + bx + c\n",
        "print(a, b, c, x, y)"
      ],
      "execution_count": 0,
      "outputs": []
    },
    {
      "cell_type": "markdown",
      "metadata": {
        "id": "88nnNcxRwVdr",
        "colab_type": "text"
      },
      "source": [
        "Example using a multiple assignment statement:"
      ]
    },
    {
      "cell_type": "code",
      "metadata": {
        "id": "CsQFbDxswSAP",
        "colab_type": "code",
        "colab": {}
      },
      "source": [
        "a, b, c = 1.0, -1.0, 1./2\n",
        "x = 0.5\n",
        "y = a*x**2 + b*x + c # c = ax^2 + bx + c\n",
        "print(a, b, c, x, y)"
      ],
      "execution_count": 0,
      "outputs": []
    },
    {
      "cell_type": "markdown",
      "metadata": {
        "id": "r9KiOMuBwZrz",
        "colab_type": "text"
      },
      "source": [
        "### Lists and Loops"
      ]
    },
    {
      "cell_type": "code",
      "metadata": {
        "id": "YL9i0LPlwXXP",
        "colab_type": "code",
        "colab": {}
      },
      "source": [
        "list1 = [1, 4]\n",
        "list2 = [9, 16, 25]\n",
        "squares = list1 + list2 # addition concatenates lists together\n",
        "print(squares)"
      ],
      "execution_count": 0,
      "outputs": []
    },
    {
      "cell_type": "markdown",
      "metadata": {
        "id": "IGH6iawHwd8Z",
        "colab_type": "text"
      },
      "source": [
        "Iterating over values in a list:"
      ]
    },
    {
      "cell_type": "code",
      "metadata": {
        "id": "Fk49mFtAwbcf",
        "colab_type": "code",
        "colab": {}
      },
      "source": [
        "for square in squares:\n",
        "    print(square)"
      ],
      "execution_count": 0,
      "outputs": []
    },
    {
      "cell_type": "markdown",
      "metadata": {
        "id": "WaSNX-Vjwj_K",
        "colab_type": "text"
      },
      "source": [
        "Iterating over values while also incrementing a counter, which starts at zero:"
      ]
    },
    {
      "cell_type": "code",
      "metadata": {
        "id": "Qi-0k22jwhTf",
        "colab_type": "code",
        "colab": {}
      },
      "source": [
        "for i,square in enumerate(squares):\n",
        "    print(\"{} squared is {}\".format(i+1,square))"
      ],
      "execution_count": 0,
      "outputs": []
    },
    {
      "cell_type": "markdown",
      "metadata": {
        "id": "0IQ_QZrlwutS",
        "colab_type": "text"
      },
      "source": [
        "### Scientific computing\n",
        "Numpy is a fundamental Python library for scientific computing. We will use it to work efficiently with arrays and matrices, generate random numbers, and have access to common trigonometric functions and special constants."
      ]
    },
    {
      "cell_type": "code",
      "metadata": {
        "id": "mCCP-Z6Cwncc",
        "colab_type": "code",
        "colab": {}
      },
      "source": [
        "import numpy as np # import numpy library and give it an alias (short name)"
      ],
      "execution_count": 0,
      "outputs": []
    },
    {
      "cell_type": "code",
      "metadata": {
        "id": "C4LDcp0-xJT5",
        "colab_type": "code",
        "colab": {}
      },
      "source": [
        "np.random.seed(12) # seed the random number generator, for reproducible results.\n",
        "\n",
        "x = np.random.random(100) # generate 100 random numbers on the interval [0,1).\n",
        "\n",
        "y = np.cos(4*np.pi*x) # use trig functions and built in pi."
      ],
      "execution_count": 0,
      "outputs": []
    },
    {
      "cell_type": "markdown",
      "metadata": {
        "id": "3Yc2sveXxP8M",
        "colab_type": "text"
      },
      "source": [
        "### Plotting\n",
        "As our goal is to make algorithmic art, we will need some plotting tools! To display plots embedded in the notebook and not in a separate window, we run the following:"
      ]
    },
    {
      "cell_type": "code",
      "metadata": {
        "id": "_3WmxulTxLdE",
        "colab_type": "code",
        "colab": {}
      },
      "source": [
        "%matplotlib inline"
      ],
      "execution_count": 0,
      "outputs": []
    },
    {
      "cell_type": "markdown",
      "metadata": {
        "id": "b9DyIy8NxTVh",
        "colab_type": "text"
      },
      "source": [
        "Next, we import pyplot from the Python plotting package matplotlib:"
      ]
    },
    {
      "cell_type": "code",
      "metadata": {
        "id": "n5d9NMmCxRhO",
        "colab_type": "code",
        "colab": {}
      },
      "source": [
        "import matplotlib.pyplot as plt"
      ],
      "execution_count": 0,
      "outputs": []
    },
    {
      "cell_type": "markdown",
      "metadata": {
        "id": "c8yth4gaxWsO",
        "colab_type": "text"
      },
      "source": [
        "Let's make a scatter plot of our randomly generated points:"
      ]
    },
    {
      "cell_type": "code",
      "metadata": {
        "id": "UH8VJawuxU8X",
        "colab_type": "code",
        "colab": {}
      },
      "source": [
        "fig, ax = plt.subplots(1,1,figsize=(8,5)) # initialize a single figure window and axes\n",
        "ax.scatter(x, y)\n",
        "ax.tick_params(labelsize=14)              # enlarge the tick labels\n",
        "ax.set_xlim(0,1); ax.set_ylim(-1.1,1.1)   # optionally specify fixed limits.\n",
        "plt.show()"
      ],
      "execution_count": 0,
      "outputs": []
    },
    {
      "cell_type": "markdown",
      "metadata": {
        "id": "uVJlsXUxxbf4",
        "colab_type": "text"
      },
      "source": [
        "### Solving systems of ODES\n",
        "Many of the interesting systems we'll explore, such as strange attractors, reaction-diffusion systems, etc., are solutions to continuous differential equations. We will use solve_ivp (initial value problem) from the scipy library to integrate single equations or systems of ordinary differential equations."
      ]
    },
    {
      "cell_type": "code",
      "metadata": {
        "id": "4_7VwGoxxYfm",
        "colab_type": "code",
        "colab": {}
      },
      "source": [
        "from scipy.integrate import solve_ivp"
      ],
      "execution_count": 0,
      "outputs": []
    },
    {
      "cell_type": "markdown",
      "metadata": {
        "id": "DSB1M-H1xhSy",
        "colab_type": "text"
      },
      "source": [
        "Here, we will demonstrate solving the ODE system\n",
        "$$\n",
        "    \\begin{align}\n",
        "    \\frac{dx}{dt} &= a\\sin(\\pi t) \\\\\n",
        "    \\frac{dy}{dt} &= bx + ct\n",
        "    \\end{align}\n",
        "$$\n",
        "\n",
        "First, we define a function that takes $t$, $(x,y)$, and any model parameters $(a,b,c)$ as input, and returns the derivatives, $(dx/dt,dy/dt)$. The following is syntax for defining a function:"
      ]
    },
    {
      "cell_type": "code",
      "metadata": {
        "id": "MDp2g5TBxgm7",
        "colab_type": "code",
        "colab": {}
      },
      "source": [
        "# Define derivative function\n",
        "def fun(t, q, a, b, c):\n",
        "    x, y = q[0], q[1]          # unpack our two variables with a multiple assignment statement\n",
        "    dxdt = a*np.sin(np.pi*t)\n",
        "    dydt = b*x + c*t\n",
        "    return [dxdt, dydt]"
      ],
      "execution_count": 0,
      "outputs": []
    },
    {
      "cell_type": "markdown",
      "metadata": {
        "id": "tuK7uZnKyA8A",
        "colab_type": "text"
      },
      "source": [
        "Now let's integrate our ODE from $t=0$ to $t=5$. The solver uses adaptive time steps to achieve a desired integration accuracy, so we will ask the solver to interpolate our solution at 200 evenly spaced time points."
      ]
    },
    {
      "cell_type": "code",
      "metadata": {
        "id": "iCq4o5TOx-wn",
        "colab_type": "code",
        "colab": {}
      },
      "source": [
        "ti = 0; tf = 5\n",
        "t_span = [ti, tf]                      # We will integrate from t=0 to t=5.\n",
        "t_eval = np.linspace(ti, tf, 200)      # Generate 200 evenly spaced values of t at which to output solution.\n",
        "\n",
        "a = -1; b = -2; c = 0.5                # define extra parameters.\n",
        "q0 = [1, -1]                           # set initial conditions in the format (x0, y0).\n",
        "\n",
        "# plug in all our inputs to solve_ivp and integrate.\n",
        "sol = solve_ivp(lambda t, q: fun(t,q,a,b,c), t_span, q0, t_eval=t_eval)"
      ],
      "execution_count": 0,
      "outputs": []
    },
    {
      "cell_type": "markdown",
      "metadata": {
        "id": "ECBM41VeyIcq",
        "colab_type": "text"
      },
      "source": [
        "The solve_ivp routine returns an object with the following fields:"
      ]
    },
    {
      "cell_type": "code",
      "metadata": {
        "id": "iMrKSevHyF7B",
        "colab_type": "code",
        "colab": {}
      },
      "source": [
        "sol.t   # The time points at which the solution is evaluated (same as t_eval)\n",
        "sol.y   # The solution at all requested time points.\n",
        "        # The shape is (number of variables, number of time points) = (2,200) here.\n",
        "print(sol.y.shape)\n",
        "\n",
        "x_pts = sol.y[0,:]  # extract all the x-components\n",
        "y_pts = sol.y[1,:]  # extract all the y-components"
      ],
      "execution_count": 0,
      "outputs": []
    },
    {
      "cell_type": "markdown",
      "metadata": {
        "id": "l7uOm04fyVnR",
        "colab_type": "text"
      },
      "source": [
        "Finally we plot the solutions over time:"
      ]
    },
    {
      "cell_type": "code",
      "metadata": {
        "id": "W3WRS76YyOdx",
        "colab_type": "code",
        "colab": {}
      },
      "source": [
        "fig, (ax1, ax2) = plt.subplots(1,2,figsize=(14,4)) # initialize two figure axes side by side.\n",
        "ax1.scatter(sol.t, x_pts, s=10)  # adjust the size of the scatter points.\n",
        "ax1.tick_params(labelsize=14)\n",
        "ax1.set_xlabel('t', size=14); ax1.set_ylabel('x', size=14) # set axis labels for the first plot.\n",
        "ax2.scatter(sol.t, y_pts, s=10)\n",
        "ax2.tick_params(labelsize=14)\n",
        "ax2.set_xlabel('t', size=14); ax2.set_ylabel('y', size=14) # set axis labels for the second plot.\n",
        "plt.show()"
      ],
      "execution_count": 0,
      "outputs": []
    },
    {
      "cell_type": "code",
      "metadata": {
        "id": "I5q7cq44yXYd",
        "colab_type": "code",
        "colab": {}
      },
      "source": [
        ""
      ],
      "execution_count": 0,
      "outputs": []
    }
  ]
}