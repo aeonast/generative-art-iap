{
  "nbformat": 4,
  "nbformat_minor": 0,
  "metadata": {
    "colab": {
      "name": "geometric-fractals.ipynb",
      "provenance": [],
      "collapsed_sections": [],
      "include_colab_link": true
    },
    "kernelspec": {
      "name": "python3",
      "display_name": "Python 3"
    }
  },
  "cells": [
    {
      "cell_type": "markdown",
      "metadata": {
        "id": "view-in-github",
        "colab_type": "text"
      },
      "source": [
        "<a href=\"https://colab.research.google.com/github/gvarnavi/generative-art-iap/blob/master/01.14-Tuesday/geometric_fractals.ipynb\" target=\"_parent\"><img src=\"https://colab.research.google.com/assets/colab-badge.svg\" alt=\"Open In Colab\"/></a>"
      ]
    },
    {
      "cell_type": "markdown",
      "metadata": {
        "id": "Q9TeguKZaNPr",
        "colab_type": "text"
      },
      "source": [
        "# Geometric Fractals\n",
        "Geometric fractals are formed by repeating a pattern or action at smaller and smaller scales. The following are examples of some geometric fractals:\n",
        "![fractal-examples](https://drive.google.com/uc?id=1TVGEVY3-PRm_dJaGEbTTLnEjpOWF0pnS)\n",
        "\n",
        "# Koch curve\n",
        "Repetition at smaller scales lends itself to a recursive implementation in code. We will look at how to do this with the **Koch curve**:\n",
        "![koch-curve](https://drive.google.com/uc?id=1K2iDHuBmvWVSClFlIQK8dYnS4NzlNftc)\n",
        "\n",
        "The Koch curve is constructed by subdividing a segment into thirds, placing an equilateral triangle in the middle third, and removing its base.\n",
        "The length of the Koch curve grows by $4/3$ at each iteration. This means that in the limit of infinite iterations, the Koch curve traverses an infinite distance, though it is contained in a finite area!\n",
        "\n",
        "Below, we will write a function which recursively calculates line segment positions following the Koch curve to a specified number of iterations (the depth). Let's look at an example layout for this function. ```make_koch_curve``` is a function that will take in the number of desired iterations to perform, and make the first call to a recursive function ```koch_curve_recursive```, setting off the cascade of segment subdivisions. The syntax for the recursive function is\n",
        "\n",
        "```koch_curve_recursive```(iterations, $x_i,y_i,r,\\theta$, segments)\n",
        "\n",
        "The middle four arguments tell us how to define a line segment: Specify the x and y coordinates $(x_i,y_i)$ of the first endpoint, the length $r$, and the orientation $\\theta$ with respect to the horizontal. We also supply the number of iterations, and a running list in which to store segment endpoints for drawing.\n",
        "\n",
        "Let's give our wrapper ```make_koch_curve``` function some default arguments for segment initialization. By default, we would like our base line to start at the origin, and extend horizontally to a length $r=1$."
      ]
    },
    {
      "cell_type": "code",
      "metadata": {
        "id": "Tj1T5N2mbPEh",
        "colab_type": "code",
        "colab": {}
      },
      "source": [
        "%matplotlib inline\n",
        "import numpy as np\n",
        "import matplotlib.pyplot as plt\n",
        "\n",
        "#                               *** your code here ***\n",
        "def make_koch_curve(iterations, xi=?, yi=?, length=?, theta=?):\n",
        "    '''Draw the Koch curve to the specified number of iterations\n",
        "       and initial condition.'''\n",
        "    if iterations < 1:\n",
        "        raise ValueError('Iteration must be greater than zero.')\n",
        "        \n",
        "    segments = []\n",
        "    koch_curve_recursive(iterations, xi, yi, length, theta, segments)\n",
        "    \n",
        "    # determine the last endpoint\n",
        "    xf = xi + length*np.cos(theta)\n",
        "    yf = yi + length*np.sin(theta)\n",
        "    segments += [[xf, yf]]     # add the last endpoint - we'll see why!\n",
        "    return np.array(segments)  # return an array whose first column stores x,\n",
        "                               # and second column stores y coordinates."
      ],
      "execution_count": 0,
      "outputs": []
    },
    {
      "cell_type": "markdown",
      "metadata": {
        "id": "9YRZ-DJIqwdA",
        "colab_type": "text"
      },
      "source": [
        "# Base case\n",
        "Let's implement the base case of ```koch_curve_recursive``` - when recursion stops.\n",
        "\n"
      ]
    },
    {
      "cell_type": "code",
      "metadata": {
        "id": "zn1dnOnkpmGK",
        "colab_type": "code",
        "colab": {}
      },
      "source": [
        "def koch_curve_recursive(i, xi, yi, r, th, segments):\n",
        "    '''i - the number of iterations of the Koch curve to perform.\n",
        "       xi - the x-coordinate of the first endpoint of the segment.\n",
        "       yi - the y-coordinate of the first endpoint of the segment.\n",
        "       r - the length of the segment.\n",
        "       th - the angle at which to place the segment, relative to the horizontal.\n",
        "       segments - a list in which to accumulate segment coordinates.\n",
        "    '''\n",
        "        \n",
        "    # base case: store the first endpoint of the segment.\n",
        "    if i == 1:\n",
        "        segments += [[xi,yi]]"
      ],
      "execution_count": 0,
      "outputs": []
    },
    {
      "cell_type": "markdown",
      "metadata": {
        "id": "p0ZV9Wv2rd5R",
        "colab_type": "text"
      },
      "source": [
        "We can see that in the base case, all we do is append the starting endpoint of the segment to our accumulating list of segment endpoints to draw. So, let's test the base case:"
      ]
    },
    {
      "cell_type": "code",
      "metadata": {
        "id": "JjrfCP1RpsHf",
        "colab_type": "code",
        "colab": {}
      },
      "source": [
        "curve = make_koch_curve(1) # use the default initialization"
      ],
      "execution_count": 0,
      "outputs": []
    },
    {
      "cell_type": "code",
      "metadata": {
        "id": "TC6d0E00p0up",
        "colab_type": "code",
        "colab": {}
      },
      "source": [
        "fig, ax = plt.subplots(1,1,figsize=(4,2))\n",
        "ax.plot(curve[:,0], curve[:,1], color='k', linewidth=1)\n",
        "ax.set_xlim(0,1); ax.set_ylim(-0.1,0.5)\n",
        "ax.axis('off')\n",
        "plt.show()"
      ],
      "execution_count": 0,
      "outputs": []
    },
    {
      "cell_type": "markdown",
      "metadata": {
        "id": "YMcA_0_Gr18f",
        "colab_type": "text"
      },
      "source": [
        "It's a horizontal line, just as we expect! Next, let's extend our recursive ```koch_curve``` to include iterations > 1.\n",
        "\n",
        "# Recursive subdivision\n",
        "Instead of our straight segment, we want to subdivide the length into four pieces following the geometry of the Koch curve.\n",
        "\n",
        "![koch-segments](https://drive.google.com/uc?id=1oYIvvh0Zpx5d4-c2NCM_HOBWYtpaCVum)\n",
        "\n",
        "Some trigonometry is needed - the following figure shows an example for getting the new endpoint, length, and orientation of the second segment.\n",
        "![koch-segments](https://drive.google.com/uc?id=1KzDPxHeWv3D4DcaaGZh92-LGUbymRmQC)\n"
      ]
    },
    {
      "cell_type": "code",
      "metadata": {
        "id": "GwhP8E8Oqilc",
        "colab_type": "code",
        "colab": {}
      },
      "source": [
        "def koch_curve_recursive(i, xi, yi, r, th, segments):\n",
        "    '''xi - the x-coordinate of the first endpoint of the segment.\n",
        "       yi - the y-coordinate of the first endpoint of the segment.\n",
        "       r - the length of the segment.\n",
        "       th - the angle at which to place the segment, relative to the horizontal.\n",
        "       i - the number of iterations of the Koch curve to perform.\n",
        "       segments - a list in which to accumulate segment coordinates.\n",
        "    '''\n",
        "        \n",
        "    # base case: store the endpoint of the segment.\n",
        "    if i == 1:\n",
        "        segments += [[xi,yi]]\n",
        "\n",
        "    # recursively set up four new segments.\n",
        "    else:\n",
        "        # first segment: starts at current endpoint, no rotation.\n",
        "        # *** your code here ***\n",
        "        x1 = ?\n",
        "        y1 = ?\n",
        "        koch_curve_recursive(i-1, x1, y1, ?, ?, segments)\n",
        "        \n",
        "        # second segment: starts r/3 along current heading, 60 degrees counterclockwise.\n",
        "        x2 = ?\n",
        "        y2 = ?\n",
        "        koch_curve_recursive(i-1, x2, y2, ?, ?, segments)\n",
        "        \n",
        "        # third segment: starts at the seond endpoint of (x1,y1) segment, 60 degrees clockwise.\n",
        "        x3 = x2 + r/3*np.cos(th + np.pi/3)\n",
        "        y3 = y2 + r/3*np.sin(th + np.pi/3)\n",
        "        koch_curve_recursive(i-1, x3, y3, r/3, th - np.pi/3, segments)\n",
        "        \n",
        "        # fourth segment: starts 2r/3 along current heading, no rotation.\n",
        "        x4 = xi + 2*r/3*np.cos(th)\n",
        "        y4 = yi + 2*r/3*np.sin(th)\n",
        "        koch_curve_recursive(i-1, x4, y4, r/3, th, segments)"
      ],
      "execution_count": 0,
      "outputs": []
    },
    {
      "cell_type": "markdown",
      "metadata": {
        "id": "swto8xrtuijn",
        "colab_type": "text"
      },
      "source": [
        "Let's plot iterations 1 through 4:"
      ]
    },
    {
      "cell_type": "code",
      "metadata": {
        "id": "4wgG6E0ZuqmE",
        "colab_type": "code",
        "colab": {}
      },
      "source": [
        "fig, axes = plt.subplots(1,4,figsize=(14,2)) # initialize four axes side by side\n",
        "for i, ax in enumerate(axes.flat):\n",
        "    curve = make_koch_curve(i+1) # increment the number of iterations each time\n",
        "    ax.plot(curve[:,0], curve[:,1], color='k', linewidth=1)\n",
        "    ax.set_xlim(0,1); ax.set_ylim(-0.1,0.5)\n",
        "    ax.axis('off')\n",
        "plt.show()"
      ],
      "execution_count": 0,
      "outputs": []
    },
    {
      "cell_type": "markdown",
      "metadata": {
        "id": "LRI5pc9RvukL",
        "colab_type": "text"
      },
      "source": [
        "You may be wondering why our base case only returns the leading endpoint of each segment. Although it may not be obvious, our recursive function will traverse and store all segments in such a way that they will be *in order*. So, the second endpoint of segment one is the first endpoint of segment two, and so on. Both pairs of endpoints will be stored for all except the very last segment, so we add on its endpoint after recursion is complete.\n",
        "\n",
        "# Self-similarity\n",
        "A key property of fractals is their self-similarity at smaller and smaller scales. Let's make an animation that visually captures this. First, we'll generate a Koch curve with 12 iterations (Warning: this might take about 20 seconds to finish.)"
      ]
    },
    {
      "cell_type": "code",
      "metadata": {
        "id": "BMOD5Ab6we1c",
        "colab_type": "code",
        "colab": {}
      },
      "source": [
        "%%time\n",
        "curve = make_koch_curve(12)"
      ],
      "execution_count": 0,
      "outputs": []
    },
    {
      "cell_type": "code",
      "metadata": {
        "id": "6LUrtef-u3jj",
        "colab_type": "code",
        "colab": {}
      },
      "source": [
        "fig, ax = plt.subplots(1,1,figsize=(9,5))\n",
        "ax.plot(curve[:,0], curve[:,1], color='k', linewidth=1)\n",
        "ax.set_xlim(0,1); ax.set_ylim(-0.1,0.5)\n",
        "ax.axis('off')\n",
        "plt.show()"
      ],
      "execution_count": 0,
      "outputs": []
    },
    {
      "cell_type": "markdown",
      "metadata": {
        "id": "vRYVef8TxiR4",
        "colab_type": "text"
      },
      "source": [
        "The level of detail we've produced is too small to view at once. Let's make an animation that progressively zooms into our fractal to see!"
      ]
    },
    {
      "cell_type": "code",
      "metadata": {
        "id": "mBf7VivMwR68",
        "colab_type": "code",
        "colab": {}
      },
      "source": [
        "# setup code for animation\n",
        "import matplotlib.animation as animation\n",
        "from IPython.display import HTML\n",
        "\n",
        "# generate a sequence of plots assembled into an animation.\n",
        "def make_animation(curve, zoom):\n",
        "    frames = 200\n",
        "    fac = np.logspace(0, np.log10(zoom), frames) # how much to zoom at each frame\n",
        "    fig, ax = plt.subplots(1,1,figsize=(9,5))\n",
        "    ln, = ax.plot(curve[:,0], curve[:,1], color='k', linewidth=1)\n",
        "    ax.set_xlim(0,1); ax.set_ylim(-0.1,0.5)\n",
        "    ax.axis('off')\n",
        "\n",
        "    def animate(i):\n",
        "        '''Plot updates for animation.'''\n",
        "        ln.set_data(fac[i]*curve[:,0],fac[i]*curve[:,1])\n",
        "        return ln,\n",
        "\n",
        "    ani = animation.FuncAnimation(fig, animate, frames=frames, interval=50, blit=True)\n",
        "    plt.close(fig)\n",
        "    return ani"
      ],
      "execution_count": 0,
      "outputs": []
    },
    {
      "cell_type": "markdown",
      "metadata": {
        "id": "KjKk_2JQx-sI",
        "colab_type": "text"
      },
      "source": [
        "Use the code to progressively magnify the curve up to $3^5=243$ times the original (Note: this will also take about half a minute or so):"
      ]
    },
    {
      "cell_type": "code",
      "metadata": {
        "id": "WmFbjHe2x6g-",
        "colab_type": "code",
        "colab": {}
      },
      "source": [
        "# create animation\n",
        "ani = make_animation(curve, 243)\n",
        "\n",
        "# Display the animation\n",
        "HTML(ani.to_html5_video())"
      ],
      "execution_count": 0,
      "outputs": []
    },
    {
      "cell_type": "markdown",
      "metadata": {
        "id": "H68AcXgEc3YC",
        "colab_type": "text"
      },
      "source": [
        "# Challenge!\n",
        "Draw the Koch snowflake by combining three rotated Koch curves, each at 6 iterations.\n",
        "\n",
        "Helpful note: ```np.pi``` will give you the value of $\\pi$."
      ]
    },
    {
      "cell_type": "code",
      "metadata": {
        "id": "4xhJhs3UyJn4",
        "colab_type": "code",
        "colab": {}
      },
      "source": [
        "iterations = 6\n",
        "#                              *** your code here ***\n",
        "curve1 = make_koch_curve(iterations, ?, ?, ?, ?)\n",
        "curve2 = make_koch_curve(iterations, ?, ?, ?, ?)\n",
        "curve3 = make_koch_curve(iterations, ?, ?, ?, ?)\n",
        "\n",
        "# plotting\n",
        "fig, ax = plt.subplots(1,1,figsize=(8,8))\n",
        "for curve in [curve1, curve2, curve3]:\n",
        "  ax.plot(curve[:,0], curve[:,1], color='k', linewidth=1)\n",
        "ax.axis('equal')\n",
        "ax.axis('off')\n",
        "plt.show()"
      ],
      "execution_count": 0,
      "outputs": []
    },
    {
      "cell_type": "code",
      "metadata": {
        "id": "G0uCVIywffnY",
        "colab_type": "code",
        "colab": {}
      },
      "source": [
        ""
      ],
      "execution_count": 0,
      "outputs": []
    }
  ]
}