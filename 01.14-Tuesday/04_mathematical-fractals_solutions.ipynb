{
  "nbformat": 4,
  "nbformat_minor": 0,
  "metadata": {
    "colab": {
      "name": "mathematical_fractals_solutions.ipynb",
      "provenance": [],
      "collapsed_sections": [],
      "authorship_tag": "ABX9TyMo9AhW5c3HY2OYmYW1gYEl",
      "include_colab_link": true
    },
    "kernelspec": {
      "name": "python3",
      "display_name": "Python 3"
    }
  },
  "cells": [
    {
      "cell_type": "markdown",
      "metadata": {
        "id": "view-in-github",
        "colab_type": "text"
      },
      "source": [
        "<a href=\"https://colab.research.google.com/github/gvarnavi/generative-art-iap/blob/master/01.14-Tuesday/04_mathematical-fractals_solutions.ipynb\" target=\"_parent\"><img src=\"https://colab.research.google.com/assets/colab-badge.svg\" alt=\"Open In Colab\"/></a>"
      ]
    },
    {
      "cell_type": "markdown",
      "metadata": {
        "id": "84m46FCY6DXZ",
        "colab_type": "text"
      },
      "source": [
        "# Mathematical Fractals\n",
        "\"A fractal is a way of seeing infinity.\" ~ *Benoit Mandelbrot*"
      ]
    },
    {
      "cell_type": "markdown",
      "metadata": {
        "id": "vSLyD5vGCmJn",
        "colab_type": "text"
      },
      "source": [
        "## Logistic map\n",
        "Maps parameterized by a discrete-time parameter often take the form of iterated functions. One prototypical example is the **logistic map**, which is a simple one-dimensional map given by:\n",
        "\n",
        "> $ x_{n+1} = rx_n(1 - x_n) $\n",
        "\n",
        "where $r$ is a constant parameter. To identify the unique properties of this system, we want to visualize how the map evolves with successive iterations as a function of the parameter $r$, and to determine the nature of the state toward which the system tends after many iterations.\n",
        "\n",
        "We start by defining some library imports we will need throughout this notebook."
      ]
    },
    {
      "cell_type": "code",
      "metadata": {
        "id": "XwaRx3plO_mh",
        "colab_type": "code",
        "colab": {}
      },
      "source": [
        "%matplotlib inline\n",
        "import numpy as np\n",
        "import matplotlib.pyplot as plt\n",
        "import ipywidgets as widgets\n",
        "from IPython.display import display\n",
        "from matplotlib.colors import ListedColormap\n",
        "from scipy import ndimage\n",
        "from numba import jit\n",
        "from google.colab import files"
      ],
      "execution_count": 0,
      "outputs": []
    },
    {
      "cell_type": "markdown",
      "metadata": {
        "id": "LQ0fRSv7LvCT",
        "colab_type": "text"
      },
      "source": [
        "Next, we want to define a function ```logistic``` which takes the parameter $r$ and current state $x$ and computes the next iterate of the logistic map."
      ]
    },
    {
      "cell_type": "code",
      "metadata": {
        "id": "bErHUHlpFo29",
        "colab_type": "code",
        "colab": {}
      },
      "source": [
        "def logistic(x, r):\n",
        "    ''' Compute the next iterate of the logistic map. '''\n",
        "    return r*x*(1 - x)"
      ],
      "execution_count": 0,
      "outputs": []
    },
    {
      "cell_type": "markdown",
      "metadata": {
        "id": "ZD9CxcfKMNEQ",
        "colab_type": "text"
      },
      "source": [
        "Now, let's create a function ```iter_logistic``` to perform the logistic map sequentially over many iterations and record the path taken. In particular, we will represent $x_n$ on the x-axis and $x_{n+1}$ on the y-axis. Given a starting x, we can evaluate $y =$ ```logistic```$(x, r)$ and record the value $(x, y)$; then, we update our initial state by sending $y \\rightarrow x$ and again record $(x, y)$. Then repeat the process, keeping track of $(x, y)$ at each step. The function returns an array of all the recorded points after a specified number of iterations $N$."
      ]
    },
    {
      "cell_type": "code",
      "metadata": {
        "id": "Evm6jg51Mo4m",
        "colab_type": "code",
        "colab": {}
      },
      "source": [
        "def iter_logistic(x0, r, N):\n",
        "    ''' Evaluate logistic map sequentially over N iterations\n",
        "        and return the resulting path as an array of line segments.\n",
        "        inputs:\n",
        "          x0 - initial value\n",
        "          r  - constant parameter\n",
        "          N  - number of iterations\n",
        "        outputs:\n",
        "          segments - array of traversed points\n",
        "    '''\n",
        "    segments = np.zeros((2*N, 2))         # array to store all (x,y) pairs\n",
        "    x, y = x0, 0                          # initialization\n",
        "    segments[0,:] = [x, y]                # store initial condition\n",
        "\n",
        "    for i in range(1,N):\n",
        "        y = logistic(x, r)                # compute next iterate\n",
        "        segments[2*i-1,:] = [x, y]\n",
        "        x = y                             # set next initial condition\n",
        "        segments[2*i,:] = [x, y]\n",
        "    y = logistic(x, r)\n",
        "    segments[-1,:] = [x, y]\n",
        "    return segments"
      ],
      "execution_count": 0,
      "outputs": []
    },
    {
      "cell_type": "markdown",
      "metadata": {
        "id": "gcUQbqb8GpoT",
        "colab_type": "text"
      },
      "source": [
        "The type of procedure outlined above generates what is known as a **cobweb plot**, so let's make a function ```cobweb_plot``` to visualize the evolution of the map over several iterations."
      ]
    },
    {
      "cell_type": "code",
      "metadata": {
        "id": "vVkfGKVDHaXy",
        "colab_type": "code",
        "colab": {}
      },
      "source": [
        "def cobweb_plot(x0, r, N):\n",
        "    ''' Plot the trajectory of mapping the logistic function sequentially over \n",
        "        N iterations.\n",
        "        inputs:\n",
        "          x0 - initial value\n",
        "          r  - constant parameter\n",
        "          N  - number of iterations\n",
        "        outputs:\n",
        "          f, ax - figure and axis objects of resulting plot\n",
        "    '''\n",
        "    # initialize figure axes\n",
        "    f = plt.figure(figsize=(7,7))\n",
        "    ax = f.add_subplot()\n",
        "    ax.grid(False)\n",
        "    ax.set_xlim(0,1)\n",
        "    ax.set_ylim(0,1)\n",
        "    ax.set_xlabel('$\\mathrm{\\mathsf{x_n}}$', fontsize=14)\n",
        "    ax.set_ylabel('$\\mathrm{\\mathsf{x_{n+1}}}$', fontsize=14)\n",
        "    ax.tick_params(labelsize=14)\n",
        "\n",
        "    # plot logistic map\n",
        "    x = np.linspace(0,1,100)\n",
        "    y = logistic(x, r)\n",
        "    ax.plot(x, y, linewidth=1.5, color='k')\n",
        "\n",
        "    # plot dashed line y = x\n",
        "    ax.plot(x, x, linestyle='dashed', color='k')\n",
        "\n",
        "    # plot iterated path initialized at x0 over N iterations\n",
        "    segments = iter_logistic(x0, r, N)\n",
        "    ax.plot(segments[:,0], segments[:,1], linewidth=1.5, color='darkslateblue')\n",
        "    return f, ax"
      ],
      "execution_count": 0,
      "outputs": []
    },
    {
      "cell_type": "markdown",
      "metadata": {
        "id": "PZ-2iFroQs2h",
        "colab_type": "text"
      },
      "source": [
        "Try it below for different values of the parameter $r$. Executing the cell below will create a slider you can use to change $r$ interactively. Note the kinds of orbits toward which the system evolves for different $r$."
      ]
    },
    {
      "cell_type": "code",
      "metadata": {
        "id": "-R8JCloyRq-v",
        "colab_type": "code",
        "colab": {}
      },
      "source": [
        "r_slider = widgets.FloatSlider(value=2.4, min=0, max=4., step=0.001, description='r:', readout_format='.3f')\n",
        "@widgets.interact(r = r_slider)\n",
        "def cobweb_slider(r=2.4):\n",
        "    cobweb_plot(0.2, r, 50)"
      ],
      "execution_count": 0,
      "outputs": []
    },
    {
      "cell_type": "markdown",
      "metadata": {
        "id": "dSd7d-IsrHCf",
        "colab_type": "text"
      },
      "source": [
        "To plot outside of the widget, you can simply run the following code and manually change the value $r$ to see different examples:"
      ]
    },
    {
      "cell_type": "code",
      "metadata": {
        "id": "NDMF2QvzrWKy",
        "colab_type": "code",
        "colab": {}
      },
      "source": [
        "r = 2.55\n",
        "cobweb_plot(0.2, r, 50)\n",
        "plt.show()"
      ],
      "execution_count": 0,
      "outputs": []
    },
    {
      "cell_type": "markdown",
      "metadata": {
        "id": "vIXa-1f82-ub",
        "colab_type": "text"
      },
      "source": [
        "We can see that in certain parameter intervals, the map settles into periodic orbits about one or more fixed points, while in other cases, it behaves chaotically. These parameter intervals and the corresponding orbits can be visualized using an orbit diagram, which is a plot of the stable orbits $x$ at a particular value of the parameter $r$. Let's write a function ```orbit_diagram``` to visualize."
      ]
    },
    {
      "cell_type": "code",
      "metadata": {
        "id": "n9VB48jSp92i",
        "colab_type": "code",
        "colab": {}
      },
      "source": [
        "def orbit_diagram():\n",
        "    ''' Plot of the stable orbits of the logistic map over a range of\n",
        "        parameter values r.\n",
        "    '''\n",
        "    f = plt.figure(figsize=(8,7))\n",
        "    ax = f.add_subplot()\n",
        "    ax.set_xlabel('r', fontsize=14)\n",
        "    ax.set_ylabel('x', fontsize=14)\n",
        "    ax.tick_params(labelsize=14)\n",
        "\n",
        "    rmin, rmax = 2.4, 4.                   # min and max values of r to plot\n",
        "                                           # (note: for r<1, only stable orbit is at 0)\n",
        "    nr = 10000                             # number of r values to vary\n",
        "    r = np.linspace(rmin, rmax, nr)        # parameter space \n",
        "    \n",
        "    x = 1e-6*np.ones(nr)                   # initial x for each parameter\n",
        "    N = 1000                               # number of iterations\n",
        "\n",
        "    for i in range(N):\n",
        "        x = logistic(x, r)\n",
        "        #  discard transient behavior by plotting only the final 100 iterations\n",
        "        if i >= (N - 100):\n",
        "            ax.plot(r, x, ',', color='darkslateblue', alpha=.25)\n",
        "        \n",
        "    ax.set_xlim([rmin, rmax])\n",
        "    return f, ax"
      ],
      "execution_count": 0,
      "outputs": []
    },
    {
      "cell_type": "markdown",
      "metadata": {
        "id": "Ew5ELjYHTi5_",
        "colab_type": "text"
      },
      "source": [
        "Let's plot."
      ]
    },
    {
      "cell_type": "code",
      "metadata": {
        "id": "IWHDo-HHTknm",
        "colab_type": "code",
        "colab": {}
      },
      "source": [
        "orbit_diagram()\n",
        "plt.show()"
      ],
      "execution_count": 0,
      "outputs": []
    },
    {
      "cell_type": "markdown",
      "metadata": {
        "id": "t0fpfGlTTIbt",
        "colab_type": "text"
      },
      "source": [
        "Note the bifurcations in the orbit diagram at values of $r$ where \"period doubling\" occurs. The orbit diagram is in fact fractal; if we zoom in, the diagram looks self-similar. This is a clue that chaotic maps can actually be used to generate fractals, which we will explore next in some mathematically beautiful examples.\n",
        "\n"
      ]
    },
    {
      "cell_type": "markdown",
      "metadata": {
        "id": "XPYBP3ccLld7",
        "colab_type": "text"
      },
      "source": [
        "## Julia set\n",
        "The **Julia set** is the set of initial points whose orbits remain bounded under iterations of a given map. We will illustrate it using the quadratic Julia set as an example, which is the Julia set of the discrete two-dimensional map given by the family of complex quadratic polynomials:\n",
        "\n",
        "> $ z_{n+1} = z_n^2 + c $\n",
        "\n",
        "where $z_n$ and $c$ are both complex.\n",
        "\n",
        "To start, we again want to define a function ```quadratic``` which takes as input the parameter $c$ and current state $z$ and computes the next iterate of the quadratic map."
      ]
    },
    {
      "cell_type": "code",
      "metadata": {
        "id": "EFeaa9A47lE0",
        "colab_type": "code",
        "colab": {}
      },
      "source": [
        "@jit\n",
        "def quadratic(z, c):\n",
        "    ''' Compute the next iterate of the discrete quadratic map. '''\n",
        "    return z**2 + c"
      ],
      "execution_count": 0,
      "outputs": []
    },
    {
      "cell_type": "markdown",
      "metadata": {
        "id": "b2KzZQhjUJXz",
        "colab_type": "text"
      },
      "source": [
        "To determine if a point is a member of the Julia set, we will create a function ```julia``` to iteratively call our map a specified number of times. If upon iteration, a point goes beyond some escape radius $R$, we will call that orbit unbounded and return the number of iterations it took to escape. If the point never escapes in the given number of steps, we will simply return the maximum number of iterations."
      ]
    },
    {
      "cell_type": "code",
      "metadata": {
        "id": "5egONTDmUjho",
        "colab_type": "code",
        "colab": {}
      },
      "source": [
        "@jit\n",
        "def julia(func, max_iters, z0, c, R):\n",
        "    ''' Determine whether a point z0 belongs to the Julia set of a function\n",
        "        given a maximum number of iterations max_iters.\n",
        "        inputs:\n",
        "          func - function of the iterative map (e.g. quadratic)\n",
        "          max_iters - maximum number of iterations\n",
        "          z0 - initial value\n",
        "          c - constant parameter\n",
        "          R - escape radius radius beyond which orbits are considered unbounded\n",
        "        outputs:\n",
        "          number of iterations required to escape (or max_iters if orbit\n",
        "          remains bounded.)\n",
        "    '''\n",
        "    z = z0\n",
        "    for i in range(1, max_iters):\n",
        "        z = func(z, c)\n",
        "        if np.abs(z) >= R:\n",
        "            return i\n",
        "    return max_iters"
      ],
      "execution_count": 0,
      "outputs": []
    },
    {
      "cell_type": "markdown",
      "metadata": {
        "id": "HGzApLM3UuR9",
        "colab_type": "text"
      },
      "source": [
        "Finally, for visualization we want to record the number of iterations required for escape for many different points. Since our map is involves complex numbers, we can represent everything in a two-dimensional space. The function ```make_fractal``` populates a pre-initialized image space with the iteration numbers output by a given set function, such as ```julia```, for a given map function, such as ```quadratic```. The built-in function ```complex``` can be used to create a complex number given a real part $x$ and imaginary part $y$ as ```complex(x,y)```."
      ]
    },
    {
      "cell_type": "code",
      "metadata": {
        "id": "yjFrGJpVVtcD",
        "colab_type": "code",
        "colab": {}
      },
      "source": [
        "@jit\n",
        "def make_fractal(set_func, map_func, image, max_iters, xr, yr, c, R):\n",
        "    ''' For each image pixel with bounds given by xr and yr, compute the set\n",
        "        set_func of the map map_func.\n",
        "        inputs:\n",
        "          set_func - function of the set to compute (e.g. julia)\n",
        "          map_func - function of the iterative map (e.g. quadratic)\n",
        "          image - empty 2D array in which to store image pixels\n",
        "          max_iters - maximum number of iterations\n",
        "          xr, yr - tuples specifying the image domain\n",
        "          c - constant parameter\n",
        "          R - escape radius radius beyond which orbits are considered unbounded\n",
        "        outputs:\n",
        "          image - 2D array populated with iterations needed to escape\n",
        "    '''\n",
        "    ny, nx = image.shape\n",
        "    xmin, xmax = xr\n",
        "    ymin, ymax = yr\n",
        "    dx = (xmax - xmin)/nx\n",
        "    dy = (ymax - ymin)/ny\n",
        "    \n",
        "    for i in range(nx):\n",
        "        x = xmin + i*dx\n",
        "        for j in range(ny):\n",
        "            y = ymin + j*dy\n",
        "            image[j,i] = set_func(map_func, max_iters, complex(x, y), c, R)\n",
        "    return image"
      ],
      "execution_count": 0,
      "outputs": []
    },
    {
      "cell_type": "markdown",
      "metadata": {
        "id": "mw9ilfli-jBt",
        "colab_type": "text"
      },
      "source": [
        "Now, all we need is to convert the iteration values to a color image. To do this, we define some helper functions ```make_figure``` and ```make_color_image``` to set up the figure and pick the colormap, and to convert an array of input values to an rgba image using the specified colormap.\n",
        "\n",
        "Finally, we package all the necessary steps sequentially into a function we call ```plot_fractal```."
      ]
    },
    {
      "cell_type": "code",
      "metadata": {
        "id": "Yv2IjEu7Fzgp",
        "colab_type": "code",
        "colab": {}
      },
      "source": [
        "def make_figure():\n",
        "    ''' Set up figure axes and colormap. '''\n",
        "    f = plt.figure(figsize=(7,7))\n",
        "    ax = f.add_subplot()\n",
        "    ax.get_xaxis().set_visible(False)\n",
        "    ax.get_yaxis().set_visible(False)\n",
        "    cmap_colors = plt.get_cmap('twilight').colors\n",
        "    d = len(cmap_colors)\n",
        "    cmap = ListedColormap(np.concatenate([cmap_colors[:d//2][::-1], \n",
        "                                          cmap_colors[:int(0.6*d)]]))\n",
        "    return f, ax, cmap\n",
        "\n",
        "def make_color_image(image, cmap):\n",
        "    ''' Convert iteration values to rgba color array. '''\n",
        "    ny, nx = image.shape\n",
        "    color_image = np.zeros((ny, nx, 4), dtype=np.uint8)\n",
        "    image = (image - np.min(image))/(np.max(image) - np.min(image))\n",
        "    color_image = cmap(image)\n",
        "    return color_image\n",
        "\n",
        "def plot_fractal(set_func, map_func, max_iters, xr, yr, c, R):\n",
        "    ''' Plot the fractal image generated by the set set_func of map map_func.\n",
        "        inputs:\n",
        "          set_func - function of the set to compute (e.g. julia)\n",
        "          map_func - function of the iterative map (e.g. quadratic)\n",
        "          max_iters - maximum number of iterations\n",
        "          xr, yr - tuples specifying the image domain\n",
        "          c - constant parameter\n",
        "          R - escape radius radius beyond which orbits are considered unbounded\n",
        "        outputs:\n",
        "          f, ax - figure and axis objects of resulting plot\n",
        "    '''\n",
        "    # initialize array\n",
        "    nx = 1000\n",
        "    ny = 1000\n",
        "    image = np.zeros((ny, nx), dtype=np.uint8)\n",
        "\n",
        "    # make fractal image\n",
        "    make_fractal(set_func, map_func, image, max_iters, xr, yr, c, R)\n",
        "\n",
        "    # set up figure and convert iteration values to a color image\n",
        "    f, ax, cmap = make_figure()\n",
        "    image = make_color_image(image, cmap)\n",
        "\n",
        "    # smooth image a little\n",
        "    image = np.flipud(ndimage.uniform_filter(image, size=(3,3,0)))\n",
        "\n",
        "    # display image\n",
        "    ax.imshow(image)\n",
        "    return f, ax"
      ],
      "execution_count": 0,
      "outputs": []
    },
    {
      "cell_type": "markdown",
      "metadata": {
        "id": "9P6AIallGI0C",
        "colab_type": "text"
      },
      "source": [
        "Let's visualize the image formed by the Julia set. Play around with the different values of the constant $c$ given below."
      ]
    },
    {
      "cell_type": "code",
      "metadata": {
        "id": "NWRMh4umf4bE",
        "colab_type": "code",
        "colab": {}
      },
      "source": [
        "@widgets.interact_manual(c = ['romanesco', 'paisley', 'snowflake', 'dendrite', 'galaxy', 'vortices'])\n",
        "def quadratic_julia_dropdown(c='romanesco'):   \n",
        "    # suggested parameter sets\n",
        "    romanesco = complex(-0.4, 0.6)\n",
        "    paisley = complex(0.285, 0.01)\n",
        "    snowflake = complex(-0.70176, -0.3842)\n",
        "    dendrite = complex(-0.835, -0.2321)\n",
        "    galaxy = complex(-0.7269, 0.1889)\n",
        "    vortices = complex(-0.8, 0.156)\n",
        "\n",
        "    xr, yr = (-1.5, 1.5), (-1.5, 1.5)         # image domain\n",
        "    plot_fractal(julia, quadratic, 1000, xr, yr, eval(c), 10)"
      ],
      "execution_count": 0,
      "outputs": []
    },
    {
      "cell_type": "markdown",
      "metadata": {
        "id": "xx2VO9JjY7Tn",
        "colab_type": "text"
      },
      "source": [
        "Use the sliders to find some other interesting patterns."
      ]
    },
    {
      "cell_type": "code",
      "metadata": {
        "id": "jcV5Qrf3Ufyl",
        "colab_type": "code",
        "colab": {}
      },
      "source": [
        "Re_slider = widgets.FloatSlider(value=-0.4, min=-1., max=1., step=0.001, description='Re(c):', readout_format='.3f')\n",
        "Im_slider = widgets.FloatSlider(value=0.6, min=-1., max=1., step=0.001, description='Im(c):', readout_format='.3f')\n",
        "\n",
        "@widgets.interact_manual(Re = Re_slider, Im = Im_slider)\n",
        "def quadratic_julia_slider(Re=-4., Im=0.6):\n",
        "    xr, yr = (-1.5, 1.5), (-1.5, 1.5)         # image domain\n",
        "    plot_fractal(julia, quadratic, 1000, xr, yr, complex(Re, Im), 10)"
      ],
      "execution_count": 0,
      "outputs": []
    },
    {
      "cell_type": "markdown",
      "metadata": {
        "id": "pDjDk8Lmn0Yk",
        "colab_type": "text"
      },
      "source": [
        "To simply plot a static image with a fixed set of parameters, you can run the following:"
      ]
    },
    {
      "cell_type": "code",
      "metadata": {
        "id": "ellE8C4kn_s0",
        "colab_type": "code",
        "colab": {}
      },
      "source": [
        "# manually enter the parameter values for Re, Im:\n",
        "Re, Im = -0.4, 0.6\n",
        "\n",
        "# plot the image\n",
        "xr, yr = (-1.5, 1.5), (-1.5, 1.5)         # image domain\n",
        "plot_fractal(julia, quadratic, 1000, xr, yr, complex(Re, Im), 10)\n",
        "plt.show()"
      ],
      "execution_count": 0,
      "outputs": []
    },
    {
      "cell_type": "markdown",
      "metadata": {
        "id": "RBQAU4QTipTo",
        "colab_type": "text"
      },
      "source": [
        "### Saving Figures\n",
        "\n",
        "After we've found a good set of parameters, we can use the ```savefig``` command to save our figure following the syntax below. Make sure to change im_name to the desired image file name, and to change the parameter values to the ones you found! Afterward, we will run one more cell to download the image from the google colab files."
      ]
    },
    {
      "cell_type": "code",
      "metadata": {
        "id": "NrjG8pixi8Ys",
        "colab_type": "code",
        "colab": {}
      },
      "source": [
        "#*********************** change me **************************#\n",
        "# input the name you want to give your image file as a string\n",
        "im_name = 'my_image'\n",
        "\n",
        "# enter the parameter values you found above as Re, Im:\n",
        "Re, Im = -0.4, 0.6\n",
        "#************************************************************#\n",
        "\n",
        "# plot the image outside of the widget and retain the figure handle f\n",
        "xr, yr = (-1.5, 1.5), (-1.5, 1.5)         # image domain\n",
        "f, ax = plot_fractal(julia, quadratic, 1000, xr, yr, complex(Re, Im), 10)\n",
        "\n",
        "# save image\n",
        "f.savefig(im_name + '.png')"
      ],
      "execution_count": 0,
      "outputs": []
    },
    {
      "cell_type": "markdown",
      "metadata": {
        "id": "skR7drhRm1Pf",
        "colab_type": "text"
      },
      "source": [
        "If you are working from a local copy of this notebook, the saved image should appear in the same directory as this notebook. If you are not running a local copy of the notebook, but are working in the Google Colaboratory environment, you will need to download your image after saving it by executing the following command:"
      ]
    },
    {
      "cell_type": "code",
      "metadata": {
        "id": "BZLMYsGAm3UO",
        "colab_type": "code",
        "colab": {}
      },
      "source": [
        "# download image\n",
        "files.download(im_name + '.png')"
      ],
      "execution_count": 0,
      "outputs": []
    },
    {
      "cell_type": "markdown",
      "metadata": {
        "id": "TWPgE2BgfCcb",
        "colab_type": "text"
      },
      "source": [
        "The image should then download into your Downloads folder."
      ]
    },
    {
      "cell_type": "markdown",
      "metadata": {
        "id": "zoVlHKllHMll",
        "colab_type": "text"
      },
      "source": [
        "Now let's animate how the fractal patterns evolve as we gradually tune $c$. We'll need to import a few more libraries for the animation."
      ]
    },
    {
      "cell_type": "code",
      "metadata": {
        "id": "EUWbRyqha8ta",
        "colab_type": "code",
        "colab": {}
      },
      "source": [
        "import matplotlib.animation as animation\n",
        "from IPython.display import HTML"
      ],
      "execution_count": 0,
      "outputs": []
    },
    {
      "cell_type": "markdown",
      "metadata": {
        "id": "VJAI__QOnXQf",
        "colab_type": "text"
      },
      "source": [
        "To make the movie, we'll want to build up a stack of fractal images with as many frames as different parameters. This is handled by ```make_fractal_stack```."
      ]
    },
    {
      "cell_type": "code",
      "metadata": {
        "id": "KiwyRPGanXnx",
        "colab_type": "code",
        "colab": {}
      },
      "source": [
        "def make_fractal_stack(set_func, map_func, max_iters, xr, yr, cs, R, n_images):\n",
        "    ''' For each image pixel with bounds given by xr and yr, compute the set\n",
        "        set_func of the map map_func, for a set of n_images.\n",
        "        inputs:\n",
        "          set_func - function of the set to compute (e.g. julia)\n",
        "          map_func - function of the iterative map (e.g. quadratic)\n",
        "          max_iters - maximum number of iterations\n",
        "          xr, yr - tuples specifying the image domain\n",
        "          cs - array of constant parameters to vary\n",
        "          R - escape radius radius beyond which orbits are considered unbounded\n",
        "          n_images - number of images \n",
        "        outputs:\n",
        "          images - 3D stack of 2D arrays populated with iterations needed to\n",
        "          escape\n",
        "    '''\n",
        "    # initialize array\n",
        "    nx = 1000\n",
        "    ny = 1000\n",
        "    images = np.zeros((ny, nx, n_images), dtype=np.uint8)\n",
        "\n",
        "    print('generating images', end='', flush=True)\n",
        "    for i, c in enumerate(cs):\n",
        "        make_fractal(set_func, map_func, images[:,:,i], max_iters, xr, yr, c, R)\n",
        "        \n",
        "        # track our progress\n",
        "        if i%2==0:\n",
        "            print('.', end='', flush=True)\n",
        "    print(' done!')\n",
        "\n",
        "    # standardize and smooth images a little\n",
        "    images = (images - np.min(images))/(np.max(images) - np.min(images))\n",
        "    images = np.flipud(ndimage.uniform_filter(images, size=(3,3,0)))\n",
        "\n",
        "    return images"
      ],
      "execution_count": 0,
      "outputs": []
    },
    {
      "cell_type": "markdown",
      "metadata": {
        "id": "O8eH6HY9a_8p",
        "colab_type": "text"
      },
      "source": [
        "Now we can create a movie of the quadratic Julia set evolving as we sweep $c$ over the range $c = 0.7885e^{i \\theta}$, with $\\theta$ running from $0$ to $2 \\pi$."
      ]
    },
    {
      "cell_type": "code",
      "metadata": {
        "id": "5GaU2ZlcHZsn",
        "colab_type": "code",
        "colab": {}
      },
      "source": [
        "# sweep through a range of the constant c parameterized by T\n",
        "n_images = 100                            # number of movie frames\n",
        "T = np.linspace(0, 2*np.pi, n_images)\n",
        "cs = [complex(0.7885*np.cos(t), 0.7885*np.sin(t)) for t in T]\n",
        "\n",
        "# make stack of images\n",
        "xr, yr = (-1.5, 1.5), (-1.5, 1.5)         # image domain\n",
        "images = make_fractal_stack(julia, quadratic, 50, xr, yr, cs, 10, n_images)\n",
        "\n",
        "# set up figure axes and initialize color image array\n",
        "f, ax, cmap = make_figure()\n",
        "image = np.zeros((images.shape[0], images.shape[1], 4), dtype=np.uint8)\n",
        "im = ax.imshow(image)\n",
        "\n",
        "# initialization function for animation\n",
        "def init():\n",
        "    im.set_data(cmap(images[:,:,0]))\n",
        "    return im,\n",
        "\n",
        "# animation\n",
        "spf = 2             # time steps per frame\n",
        "def animate(i):\n",
        "    im.set_data(cmap(images[:,:,i+1]))\n",
        "    return im,\n",
        "\n",
        "print('creating movie')\n",
        "# create animation\n",
        "ani = animation.FuncAnimation(f, animate, init_func=init, frames=n_images-1, interval=100, blit=True)\n",
        "plt.close(f)\n",
        "\n",
        "# display animation\n",
        "HTML(ani.to_html5_video())"
      ],
      "execution_count": 0,
      "outputs": []
    },
    {
      "cell_type": "markdown",
      "metadata": {
        "id": "u-oer4GgCqQE",
        "colab_type": "text"
      },
      "source": [
        "## Mandelbrot set\n",
        "A complement to the Julia set is the **Mandelbrot set**, which is the parameter space of possible $c$ values for which the quadratic map remains bounded when initialized at $z_0 = 0 + 0i$. Due to their similarity, we can can repurpose all our existing code when simulating the Mandelbrot set if we define our function ```mandel``` identially to ```julia```, but reverse the order of the arguments $z_0$ and $c$ in the function inputs. Then, we just need to remember to pass $z_0 = 0 + 0i$ for the initial value."
      ]
    },
    {
      "cell_type": "code",
      "metadata": {
        "id": "AAysf59ABi5s",
        "colab_type": "code",
        "colab": {}
      },
      "source": [
        "@jit\n",
        "def mandel(func, max_iters, c, z0, R):\n",
        "    ''' Determine whether a point c belongs to the Mandelbrot set of a function\n",
        "        given a maximum number of iterations max_iters.\n",
        "        inputs:\n",
        "          func - function of the iterative map (e.g. quadratic)\n",
        "          max_iters - maximum number of iterations\n",
        "          c - constant parameter\n",
        "          z0 - initial value; formally, one should input z0 = complex(0,0).\n",
        "          R - escape radius radius beyond which orbits are considered unbounded\n",
        "        outputs:\n",
        "          number of iterations required to escape (or max_iters if orbit\n",
        "          remains bounded.)\n",
        "    '''\n",
        "    z = z0\n",
        "    for i in range(1,max_iters):\n",
        "        z = func(z, c)\n",
        "        if np.abs(z) >= R:\n",
        "            return i\n",
        "    return max_iters"
      ],
      "execution_count": 0,
      "outputs": []
    },
    {
      "cell_type": "markdown",
      "metadata": {
        "id": "AbiNJclCERUc",
        "colab_type": "text"
      },
      "source": [
        "Now we can easily visualize the Mandelbrot set reusing the ```quadratic``` and ```make_fractal``` functions defined earlier."
      ]
    },
    {
      "cell_type": "code",
      "metadata": {
        "id": "DHG2dCj8D9QL",
        "colab_type": "code",
        "colab": {}
      },
      "source": [
        "xr, yr = (-1.5, 1.), (-1.25, 1.25)        # image domain\n",
        "plot_fractal(mandel, quadratic, 1000, xr, yr, complex(0,0), 10)\n",
        "plt.show()"
      ],
      "execution_count": 0,
      "outputs": []
    },
    {
      "cell_type": "markdown",
      "metadata": {
        "id": "A8PSeQRUfg2f",
        "colab_type": "text"
      },
      "source": [
        "### Blowing in the Wind\n",
        "\n",
        "What happens if we make the initial point $z_0$ non-zero and compute its Mandelbrot set? The code below makes a video that sweeps $z_0$ along the diagonal from $0+0i$ to $1+i$. The Mandelbrot set looks like it's blowing away in the wind!"
      ]
    },
    {
      "cell_type": "code",
      "metadata": {
        "id": "9WpLs-hdfijY",
        "colab_type": "code",
        "colab": {}
      },
      "source": [
        "# sweep through a range of the constant c\n",
        "n_images = 100                            # number of movie frames\n",
        "T = np.linspace(0, 2*np.pi, n_images)\n",
        "cs = [complex(i, i) for i in np.linspace(0, 1, n_images)]\n",
        "\n",
        "# make stack of images\n",
        "xr, yr = (-1.5, 1.), (-1.25, 1.25)         # image domain\n",
        "images = make_fractal_stack(mandel, quadratic, 50, xr, yr, cs, 10, n_images)\n",
        "\n",
        "# set up figure axes and initialize color image array\n",
        "f, ax, cmap = make_figure()\n",
        "image = np.zeros((images.shape[0], images.shape[1], 4), dtype=np.uint8)\n",
        "im = ax.imshow(image)\n",
        "\n",
        "# initialization function for animation\n",
        "def init():\n",
        "    im.set_data(cmap(images[:,:,0]))\n",
        "    return im,\n",
        "\n",
        "# animation\n",
        "spf = 2             # time steps per frame\n",
        "def animate(i):\n",
        "    im.set_data(cmap(images[:,:,i+1]))\n",
        "    return im,\n",
        "\n",
        "print('creating movie')\n",
        "# create animation\n",
        "ani = animation.FuncAnimation(f, animate, init_func=init, frames=n_images-1, interval=100, blit=True)\n",
        "plt.close(f)\n",
        "\n",
        "# display animation\n",
        "HTML(ani.to_html5_video())"
      ],
      "execution_count": 0,
      "outputs": []
    },
    {
      "cell_type": "markdown",
      "metadata": {
        "id": "HLE1nJhBex-g",
        "colab_type": "text"
      },
      "source": [
        "The relationship between the Julia and Mandelbrot sets is summarized below.\n",
        "![fractal summary](https://drive.google.com/uc?id=17YzZzGFOfLeXITCLqXcpBNh4TZLaU6IL)"
      ]
    },
    {
      "cell_type": "markdown",
      "metadata": {
        "id": "pG4kzO43G0a_",
        "colab_type": "text"
      },
      "source": [
        "## Examples Playground\n",
        "\n",
        "Why not try and plot the Julia sets of other maps?\n",
        "Let's try the function:\n",
        "\n",
        "> $z_{n+1} = c\\text{sin}(z_n)$\n",
        "\n",
        "Defining the function map:"
      ]
    },
    {
      "cell_type": "code",
      "metadata": {
        "id": "SERg5bx1bDOS",
        "colab_type": "code",
        "colab": {}
      },
      "source": [
        "@jit\n",
        "def sinusoid(z, c):\n",
        "    return c*np.sin(z)"
      ],
      "execution_count": 0,
      "outputs": []
    },
    {
      "cell_type": "markdown",
      "metadata": {
        "id": "owPk9BKvbqRP",
        "colab_type": "text"
      },
      "source": [
        "Let's plot. Play around with the image domain values to see more and more resolved features! Note: The more zoomed-in images may take a little longer to generate."
      ]
    },
    {
      "cell_type": "code",
      "metadata": {
        "id": "7ozJ7VulenPM",
        "colab_type": "code",
        "colab": {}
      },
      "source": [
        "domain_slider = widgets.FloatSlider(value=1.5, min=0.2, max=10, step=0.1, description='domain:', readout_format='.1f')\n",
        "@widgets.interact_manual(d=domain_slider)\n",
        "def sinusoid_julia_slider(d=1.5):\n",
        "    xr, yr = (-d, d), (-d, d)         # image domain\n",
        "    plot_fractal(julia, sinusoid, 500, xr, yr, complex(-0.2, 1.), 50)"
      ],
      "execution_count": 0,
      "outputs": []
    },
    {
      "cell_type": "markdown",
      "metadata": {
        "id": "kVrZCvuToRKK",
        "colab_type": "text"
      },
      "source": [
        "To run outside of the widget:"
      ]
    },
    {
      "cell_type": "code",
      "metadata": {
        "id": "Y36mvcrqoTNe",
        "colab_type": "code",
        "colab": {}
      },
      "source": [
        "# manually enter the parameter value\n",
        "d = 0.2\n",
        "\n",
        "# plot the image outside of the widget\n",
        "xr, yr = (-d, d), (-d, d)         # image domain\n",
        "f, ax = plot_fractal(julia, sinusoid, 500, xr, yr, complex(-0.2, 1.), 50)\n",
        "plt.show()"
      ],
      "execution_count": 0,
      "outputs": []
    },
    {
      "cell_type": "markdown",
      "metadata": {
        "id": "AL_r4JzLkVo1",
        "colab_type": "text"
      },
      "source": [
        "Optionally save your image:"
      ]
    },
    {
      "cell_type": "code",
      "metadata": {
        "id": "nK0oU_VskTe5",
        "colab_type": "code",
        "colab": {}
      },
      "source": [
        "#*********************** change me **************************#\n",
        "# input the name you want to give your image file as a string:\n",
        "im_name = 'my_image'\n",
        "\n",
        "# enter the parameter value you found above as d:\n",
        "d = 0.2\n",
        "#************************************************************#\n",
        "\n",
        "# plot the image outside of the widget and retain the figure handle f\n",
        "xr, yr = (-d, d), (-d, d)         # image domain\n",
        "f, ax = plot_fractal(julia, sinusoid, 500, xr, yr, complex(-0.2, 1.), 50)\n",
        "\n",
        "# save image\n",
        "f.savefig(im_name + '.png')"
      ],
      "execution_count": 0,
      "outputs": []
    },
    {
      "cell_type": "code",
      "metadata": {
        "id": "hKQuQPeYmnfx",
        "colab_type": "code",
        "colab": {}
      },
      "source": [
        "# download image\n",
        "files.download(im_name + '.png')"
      ],
      "execution_count": 0,
      "outputs": []
    },
    {
      "cell_type": "markdown",
      "metadata": {
        "id": "SNfVoizctlj8",
        "colab_type": "text"
      },
      "source": [
        "How about the complex analogue of the logistic map?\n",
        "\n",
        "> $z_{n+1} = cz_n(1 - z_n)$"
      ]
    },
    {
      "cell_type": "code",
      "metadata": {
        "id": "ZVrww81hraab",
        "colab_type": "code",
        "colab": {}
      },
      "source": [
        "@jit\n",
        "def complex_logistic(z, c):\n",
        "    return c*z*(1 - z)"
      ],
      "execution_count": 0,
      "outputs": []
    },
    {
      "cell_type": "code",
      "metadata": {
        "id": "-JMvjrlIt1e4",
        "colab_type": "code",
        "colab": {}
      },
      "source": [
        "domain_slider = widgets.FloatSlider(value=0.2, min=0.05, max=0.5, step=0.01, description='domain:', readout_format='.2f')\n",
        "@widgets.interact_manual(d=domain_slider)\n",
        "def complex_logistic_julia_slider(d=0.2):\n",
        "    xr, yr = (-d, d), (-d, d)         # image domain\n",
        "    plot_fractal(julia, complex_logistic, 500, xr, yr, complex(-0.2, 1.), 50)"
      ],
      "execution_count": 0,
      "outputs": []
    },
    {
      "cell_type": "markdown",
      "metadata": {
        "id": "-QF4Lvm7ocI0",
        "colab_type": "text"
      },
      "source": [
        "To run outside of the widget:"
      ]
    },
    {
      "cell_type": "code",
      "metadata": {
        "id": "vgxusmRCohOp",
        "colab_type": "code",
        "colab": {}
      },
      "source": [
        "# manually enter the parameter value\n",
        "d = 0.2\n",
        "\n",
        "# plot the image\n",
        "xr, yr = (-d, d), (-d, d)         # image domain\n",
        "f, ax = plot_fractal(julia, complex_logistic, 500, xr, yr, complex(-0.2, 1.), 50)\n",
        "plt.show()"
      ],
      "execution_count": 0,
      "outputs": []
    },
    {
      "cell_type": "markdown",
      "metadata": {
        "id": "G9sDmy5akuzb",
        "colab_type": "text"
      },
      "source": [
        "Optionally save your image:"
      ]
    },
    {
      "cell_type": "code",
      "metadata": {
        "id": "OIeoFn0rkytm",
        "colab_type": "code",
        "colab": {}
      },
      "source": [
        "#*********************** change me **************************#\n",
        "# input the name you want to give your image file as a string:\n",
        "im_name = 'my_image'\n",
        "\n",
        "# enter the parameter value you found above as d:\n",
        "d = 0.2\n",
        "#************************************************************#\n",
        "\n",
        "# plot the image outside of the widget and retain the figure handle f\n",
        "xr, yr = (-d, d), (-d, d)         # image domain\n",
        "f, ax = plot_fractal(julia, complex_logistic, 500, xr, yr, complex(-0.2, 1.), 50)\n",
        "\n",
        "# save image\n",
        "f.savefig(im_name + '.png')"
      ],
      "execution_count": 0,
      "outputs": []
    },
    {
      "cell_type": "code",
      "metadata": {
        "id": "ljOmAf8bnR3E",
        "colab_type": "code",
        "colab": {}
      },
      "source": [
        "# download image\n",
        "files.download(im_name + '.png')"
      ],
      "execution_count": 0,
      "outputs": []
    },
    {
      "cell_type": "markdown",
      "metadata": {
        "id": "CJgPVOA2bDsg",
        "colab_type": "text"
      },
      "source": [
        "The Hénon map is another quadratic map given by the coupled equations:\n",
        "\n",
        "> $x_{n+1} = 1 - ax_n^2 + y_n$\n",
        "\n",
        "> $y_{n+1} = bx_n$\n",
        "\n",
        "The Julia set of this map was published in *Michelitsch, Michael, and Otto E. Rössler. \"A new feature in Hénon's map.\" Computers & Graphics 13.2 (1989): 263-265.* Although the Hénon map is not complex, since it is a two-dimensional, two-parameter system, we can represent it using complex variables and then separate the components out to do computation. This lets us repurpose all our earlier code. Let's do that in defining the ```henon``` function."
      ]
    },
    {
      "cell_type": "code",
      "metadata": {
        "id": "JPK7Qn7tFduD",
        "colab_type": "code",
        "colab": {}
      },
      "source": [
        "@jit\n",
        "def henon(z, c):\n",
        "    a, b = c.real, c.imag\n",
        "    x, y = z.real, z.imag\n",
        "    return complex(1 - a*x**2 + y, b*x)"
      ],
      "execution_count": 0,
      "outputs": []
    },
    {
      "cell_type": "code",
      "metadata": {
        "id": "avk4fKOzLu9Y",
        "colab_type": "code",
        "colab": {}
      },
      "source": [
        "domain_slider = widgets.FloatSlider(value=5, min=0.5, max=5, step=0.1, description='domain:', readout_format='.1f')\n",
        "@widgets.interact_manual(d=domain_slider)\n",
        "def henon_julia_slider(d=5):\n",
        "    # Make the image domain shift to focus on an interesting feature while zooming\n",
        "    xr, yr = (-d + np.sqrt(5-d), d + np.sqrt(5-d)), (-d - np.sqrt(5-d), d - np.sqrt(5-d))\n",
        "    plot_fractal(julia, henon, 1000, xr, yr, complex(0.2, 1.01), 450.)"
      ],
      "execution_count": 0,
      "outputs": []
    },
    {
      "cell_type": "markdown",
      "metadata": {
        "id": "wPDGbS5OpFTR",
        "colab_type": "text"
      },
      "source": [
        "To run outside the widget:"
      ]
    },
    {
      "cell_type": "code",
      "metadata": {
        "id": "s4qHqBEYg6NS",
        "colab_type": "code",
        "colab": {}
      },
      "source": [
        "# manually enter the parameter value\n",
        "d = 5.\n",
        "\n",
        "# plot the image\n",
        "xr, yr = (-d + np.sqrt(5-d), d + np.sqrt(5-d)), (-d - np.sqrt(5-d), d - np.sqrt(5-d))\n",
        "plot_fractal(julia, henon, 1000, xr, yr, complex(0.2, 1.01), 450.)\n",
        "plt.show()"
      ],
      "execution_count": 0,
      "outputs": []
    },
    {
      "cell_type": "markdown",
      "metadata": {
        "id": "ECYQtauwqcYQ",
        "colab_type": "text"
      },
      "source": [
        "Optionally save your image:"
      ]
    },
    {
      "cell_type": "code",
      "metadata": {
        "id": "BRspw_huqY5x",
        "colab_type": "code",
        "colab": {}
      },
      "source": [
        "#*********************** change me **************************#\n",
        "# input the name you want to give your image file as a string:\n",
        "im_name = 'my_image'\n",
        "\n",
        "# enter the parameter value you found above as d:\n",
        "d = 5.\n",
        "#************************************************************#\n",
        "\n",
        "# plot the image outside of the widget and retain the figure handle f\n",
        "xr, yr = (-d + np.sqrt(5-d), d + np.sqrt(5-d)), (-d - np.sqrt(5-d), d - np.sqrt(5-d))\n",
        "plot_fractal(julia, henon, 1000, xr, yr, complex(0.2, 1.01), 450.)\n",
        "\n",
        "# save image\n",
        "f.savefig(im_name + '.png')"
      ],
      "execution_count": 0,
      "outputs": []
    },
    {
      "cell_type": "code",
      "metadata": {
        "id": "V6XAjcS5eiVR",
        "colab_type": "code",
        "colab": {}
      },
      "source": [
        "# download image\n",
        "files.download(im_name + '.png')"
      ],
      "execution_count": 0,
      "outputs": []
    }
  ]
}