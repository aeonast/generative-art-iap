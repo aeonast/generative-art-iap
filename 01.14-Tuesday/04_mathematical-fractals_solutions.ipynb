{
  "nbformat": 4,
  "nbformat_minor": 0,
  "metadata": {
    "colab": {
      "name": "mathematical_fractals_solutions.ipynb",
      "provenance": [],
      "collapsed_sections": [],
      "authorship_tag": "ABX9TyNHwkSZUBPHWkrpdHbVEq2o",
      "include_colab_link": true
    },
    "kernelspec": {
      "name": "python3",
      "display_name": "Python 3"
    },
    "widgets": {
      "application/vnd.jupyter.widget-state+json": {
        "48155d1c750c422cb228cc872f824f5f": {
          "model_module": "@jupyter-widgets/controls",
          "model_name": "VBoxModel",
          "state": {
            "_view_name": "VBoxView",
            "_dom_classes": [
              "widget-interact"
            ],
            "_model_name": "VBoxModel",
            "_view_module": "@jupyter-widgets/controls",
            "_model_module_version": "1.5.0",
            "_view_count": null,
            "_view_module_version": "1.5.0",
            "box_style": "",
            "layout": "IPY_MODEL_fc89d7fc08eb4025858c44bdf2774124",
            "_model_module": "@jupyter-widgets/controls",
            "children": [
              "IPY_MODEL_9e42ae0dfc0f4c788973dc27bae2dd1a",
              "IPY_MODEL_3f412b6cd92f41f2b478069a3327e79d"
            ]
          }
        },
        "fc89d7fc08eb4025858c44bdf2774124": {
          "model_module": "@jupyter-widgets/base",
          "model_name": "LayoutModel",
          "state": {
            "_view_name": "LayoutView",
            "grid_template_rows": null,
            "right": null,
            "justify_content": null,
            "_view_module": "@jupyter-widgets/base",
            "overflow": null,
            "_model_module_version": "1.2.0",
            "_view_count": null,
            "flex_flow": null,
            "width": null,
            "min_width": null,
            "border": null,
            "align_items": null,
            "bottom": null,
            "_model_module": "@jupyter-widgets/base",
            "top": null,
            "grid_column": null,
            "overflow_y": null,
            "overflow_x": null,
            "grid_auto_flow": null,
            "grid_area": null,
            "grid_template_columns": null,
            "flex": null,
            "_model_name": "LayoutModel",
            "justify_items": null,
            "grid_row": null,
            "max_height": null,
            "align_content": null,
            "visibility": null,
            "align_self": null,
            "height": null,
            "min_height": null,
            "padding": null,
            "grid_auto_rows": null,
            "grid_gap": null,
            "max_width": null,
            "order": null,
            "_view_module_version": "1.2.0",
            "grid_template_areas": null,
            "object_position": null,
            "object_fit": null,
            "grid_auto_columns": null,
            "margin": null,
            "display": null,
            "left": null
          }
        },
        "9e42ae0dfc0f4c788973dc27bae2dd1a": {
          "model_module": "@jupyter-widgets/controls",
          "model_name": "FloatSliderModel",
          "state": {
            "_view_name": "FloatSliderView",
            "style": "IPY_MODEL_317fc9d1f8da42daa24fcf49c69cdaff",
            "_dom_classes": [],
            "description": "r:",
            "step": 0.001,
            "_model_name": "FloatSliderModel",
            "orientation": "horizontal",
            "max": 4,
            "_view_module": "@jupyter-widgets/controls",
            "_model_module_version": "1.5.0",
            "value": 2.4,
            "_view_count": null,
            "disabled": false,
            "_view_module_version": "1.5.0",
            "min": 0,
            "continuous_update": true,
            "readout_format": ".3f",
            "description_tooltip": null,
            "readout": true,
            "_model_module": "@jupyter-widgets/controls",
            "layout": "IPY_MODEL_899d9f21dfdf4dc299893cab57f8ec40"
          }
        },
        "3f412b6cd92f41f2b478069a3327e79d": {
          "model_module": "@jupyter-widgets/output",
          "model_name": "OutputModel",
          "state": {
            "_view_name": "OutputView",
            "msg_id": "",
            "_dom_classes": [],
            "_model_name": "OutputModel",
            "outputs": [
              {
                "output_type": "display_data",
                "metadata": {
                  "tags": []
                },
                "image/png": "iVBORw0KGgoAAAANSUhEUgAAAc8AAAG3CAYAAADSCd6HAAAABHNCSVQICAgIfAhkiAAAAAlwSFlz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\n",
                "text/plain": "<Figure size 504x504 with 1 Axes>"
              }
            ],
            "_view_module": "@jupyter-widgets/output",
            "_model_module_version": "1.0.0",
            "_view_count": null,
            "_view_module_version": "1.0.0",
            "layout": "IPY_MODEL_d937a87a3cfb4c1687cd9f5aa39167ad",
            "_model_module": "@jupyter-widgets/output"
          }
        },
        "317fc9d1f8da42daa24fcf49c69cdaff": {
          "model_module": "@jupyter-widgets/controls",
          "model_name": "SliderStyleModel",
          "state": {
            "_view_name": "StyleView",
            "handle_color": null,
            "_model_name": "SliderStyleModel",
            "description_width": "",
            "_view_module": "@jupyter-widgets/base",
            "_model_module_version": "1.5.0",
            "_view_count": null,
            "_view_module_version": "1.2.0",
            "_model_module": "@jupyter-widgets/controls"
          }
        },
        "899d9f21dfdf4dc299893cab57f8ec40": {
          "model_module": "@jupyter-widgets/base",
          "model_name": "LayoutModel",
          "state": {
            "_view_name": "LayoutView",
            "grid_template_rows": null,
            "right": null,
            "justify_content": null,
            "_view_module": "@jupyter-widgets/base",
            "overflow": null,
            "_model_module_version": "1.2.0",
            "_view_count": null,
            "flex_flow": null,
            "width": null,
            "min_width": null,
            "border": null,
            "align_items": null,
            "bottom": null,
            "_model_module": "@jupyter-widgets/base",
            "top": null,
            "grid_column": null,
            "overflow_y": null,
            "overflow_x": null,
            "grid_auto_flow": null,
            "grid_area": null,
            "grid_template_columns": null,
            "flex": null,
            "_model_name": "LayoutModel",
            "justify_items": null,
            "grid_row": null,
            "max_height": null,
            "align_content": null,
            "visibility": null,
            "align_self": null,
            "height": null,
            "min_height": null,
            "padding": null,
            "grid_auto_rows": null,
            "grid_gap": null,
            "max_width": null,
            "order": null,
            "_view_module_version": "1.2.0",
            "grid_template_areas": null,
            "object_position": null,
            "object_fit": null,
            "grid_auto_columns": null,
            "margin": null,
            "display": null,
            "left": null
          }
        }
      }
    }
  },
  "cells": [
    {
      "cell_type": "markdown",
      "metadata": {
        "id": "view-in-github",
        "colab_type": "text"
      },
      "source": [
        "<a href=\"https://colab.research.google.com/github/gvarnavi/generative-art-iap/blob/master/01.14-Tuesday/04_mathematical-fractals_solutions.ipynb\" target=\"_parent\"><img src=\"https://colab.research.google.com/assets/colab-badge.svg\" alt=\"Open In Colab\"/></a>"
      ]
    },
    {
      "cell_type": "markdown",
      "metadata": {
        "id": "84m46FCY6DXZ",
        "colab_type": "text"
      },
      "source": [
        "# Mathematical Fractals\n",
        "\"A fractal is a way of seeing infinity.\" ~ *Benoit Mandelbrot*"
      ]
    },
    {
      "cell_type": "markdown",
      "metadata": {
        "id": "vSLyD5vGCmJn",
        "colab_type": "text"
      },
      "source": [
        "## Logistic map\n",
        "Maps parameterized by a discrete-time parameter often take the form of iterated functions. One prototypical example is the **logistic map**, which is a simple one-dimensional map given by:\n",
        "\n",
        "> $ x_{n+1} = rx_n(1 - x_n) $\n",
        "\n",
        "where $r$ is a constant parameter. To identify the unique properties of this system, we want to visualize how the map evolves with successive iterations as a function of the parameter $r$, and to determine the nature of the state toward which the system tends after many iterations.\n",
        "\n",
        "We start by defining some library imports we will need throughout this notebook."
      ]
    },
    {
      "cell_type": "code",
      "metadata": {
        "id": "XwaRx3plO_mh",
        "colab_type": "code",
        "colab": {}
      },
      "source": [
        "%matplotlib inline\n",
        "import numpy as np\n",
        "import matplotlib.pyplot as plt\n",
        "import ipywidgets as widgets\n",
        "from IPython.display import display\n",
        "from matplotlib.colors import ListedColormap\n",
        "from scipy import ndimage\n",
        "from scipy.optimize import root\n",
        "from numba import jit\n",
        "from google.colab import files"
      ],
      "execution_count": 0,
      "outputs": []
    },
    {
      "cell_type": "markdown",
      "metadata": {
        "id": "LQ0fRSv7LvCT",
        "colab_type": "text"
      },
      "source": [
        "Next, we want to define a function ```logistic``` which takes the parameter $r$ and current state $x$ and computes the next iterate of the logistic map."
      ]
    },
    {
      "cell_type": "code",
      "metadata": {
        "id": "bErHUHlpFo29",
        "colab_type": "code",
        "colab": {}
      },
      "source": [
        "def logistic(x, r):\n",
        "    ''' Compute the next iterate of the logistic map. '''\n",
        "    return r*x*(1 - x)"
      ],
      "execution_count": 0,
      "outputs": []
    },
    {
      "cell_type": "markdown",
      "metadata": {
        "id": "ZD9CxcfKMNEQ",
        "colab_type": "text"
      },
      "source": [
        "Now, let's create a function ```iter_logistic``` to perform the logistic map sequentially over many iterations and record the path taken. In particular, we will represent $x_n$ on the x-axis and $x_{n+1}$ on the y-axis. Given a starting x, we can evaluate $y =$ ```logistic```$(x, r)$ and record the value $(x, y)$; then, we update our initial state by sending $y \\rightarrow x$ and again record $(x, y)$. Then repeat the process, keeping track of $(x, y)$ at each step. The function returns an array of all the recorded points after a specified number of iterations $N$."
      ]
    },
    {
      "cell_type": "code",
      "metadata": {
        "id": "Evm6jg51Mo4m",
        "colab_type": "code",
        "colab": {}
      },
      "source": [
        "def iter_logistic(x0, r, N):\n",
        "    ''' Evaluate logistic map sequentially over N iterations\n",
        "        and return the resulting path as an array of line segments.\n",
        "        inputs:\n",
        "          x0 - initial value\n",
        "          r  - constant parameter\n",
        "          N  - number of iterations\n",
        "        outputs:\n",
        "          segments - array of traversed points\n",
        "    '''\n",
        "    segments = np.zeros((2*N, 2))         # array to store all (x,y) pairs\n",
        "    x, y = x0, 0                          # initialization\n",
        "    segments[0,:] = [x, y]                # store initial condition\n",
        "\n",
        "    for i in range(1,N):\n",
        "        y = logistic(x, r)                # compute next iterate\n",
        "        segments[2*i-1,:] = [x, y]\n",
        "        x = y                             # set next initial condition\n",
        "        segments[2*i,:] = [x, y]\n",
        "    y = logistic(x, r)\n",
        "    segments[-1,:] = [x, y]\n",
        "    return segments"
      ],
      "execution_count": 0,
      "outputs": []
    },
    {
      "cell_type": "markdown",
      "metadata": {
        "id": "gcUQbqb8GpoT",
        "colab_type": "text"
      },
      "source": [
        "The type of procedure outlined above generates what is known as a **cobweb plot**, so let's make a function ```cobweb_plot``` to visualize the evolution of the map over several iterations."
      ]
    },
    {
      "cell_type": "code",
      "metadata": {
        "id": "vVkfGKVDHaXy",
        "colab_type": "code",
        "colab": {}
      },
      "source": [
        "def cobweb_plot(x0, r, N):\n",
        "    ''' Plot the trajectory of mapping the logistic function sequentially over \n",
        "        N iterations.\n",
        "        inputs:\n",
        "          x0 - initial value\n",
        "          r  - constant parameter\n",
        "          N  - number of iterations\n",
        "        outputs:\n",
        "          f, ax - figure and axis objects of resulting plot\n",
        "    '''\n",
        "    # initialize figure axes\n",
        "    f = plt.figure(figsize=(7,7))\n",
        "    ax = f.add_subplot()\n",
        "    ax.grid(False)\n",
        "    ax.set_xlim(0,1)\n",
        "    ax.set_ylim(0,1)\n",
        "    ax.set_xlabel('$\\mathrm{\\mathsf{x_n}}$', fontsize=14)\n",
        "    ax.set_ylabel('$\\mathrm{\\mathsf{x_{n+1}}}$', fontsize=14)\n",
        "    ax.tick_params(labelsize=14)\n",
        "\n",
        "    # plot logistic map\n",
        "    x = np.linspace(0,1,100)\n",
        "    y = logistic(x, r)\n",
        "    ax.plot(x, y, linewidth=1.5, color='k')\n",
        "\n",
        "    # plot dashed line y = x\n",
        "    ax.plot(x, x, linestyle='dashed', color='k')\n",
        "\n",
        "    # plot iterated path initialized at x0 over N iterations\n",
        "    segments = iter_logistic(x0, r, N)\n",
        "    ax.plot(segments[:,0], segments[:,1], linewidth=1.5, color='darkslateblue')\n",
        "    return f, ax"
      ],
      "execution_count": 0,
      "outputs": []
    },
    {
      "cell_type": "markdown",
      "metadata": {
        "id": "PZ-2iFroQs2h",
        "colab_type": "text"
      },
      "source": [
        "Try it below for different values of the parameter $r$. Executing the cell below will create a slider you can use to change $r$ interactively. Note the kinds of orbits toward which the system evolves for different $r$."
      ]
    },
    {
      "cell_type": "code",
      "metadata": {
        "id": "-R8JCloyRq-v",
        "colab_type": "code",
        "outputId": "713bd76d-e431-448b-8835-a8db32e23f84",
        "colab": {
          "base_uri": "https://localhost:8080/",
          "height": 488,
          "referenced_widgets": [
            "48155d1c750c422cb228cc872f824f5f",
            "fc89d7fc08eb4025858c44bdf2774124",
            "9e42ae0dfc0f4c788973dc27bae2dd1a",
            "3f412b6cd92f41f2b478069a3327e79d",
            "317fc9d1f8da42daa24fcf49c69cdaff",
            "899d9f21dfdf4dc299893cab57f8ec40"
          ]
        }
      },
      "source": [
        "r_slider = widgets.FloatSlider(value=2.4, min=0, max=4., step=0.001, description='r:', readout_format='.3f')\n",
        "@widgets.interact(r = r_slider)\n",
        "def cobweb_slider(r=2.4):\n",
        "    cobweb_plot(0.2, r, 50)"
      ],
      "execution_count": 0,
      "outputs": [
        {
          "output_type": "display_data",
          "data": {
            "application/vnd.jupyter.widget-view+json": {
              "model_id": "48155d1c750c422cb228cc872f824f5f",
              "version_minor": 0,
              "version_major": 2
            },
            "text/plain": [
              "interactive(children=(FloatSlider(value=2.4, description='r:', max=4.0, readout_format='.3f', step=0.001), Out…"
            ]
          },
          "metadata": {
            "tags": []
          }
        }
      ]
    },
    {
      "cell_type": "markdown",
      "metadata": {
        "id": "dSd7d-IsrHCf",
        "colab_type": "text"
      },
      "source": [
        "To plot outside of the widget, you can simply run the following code and manually change the value $r$ to see different examples:"
      ]
    },
    {
      "cell_type": "code",
      "metadata": {
        "id": "NDMF2QvzrWKy",
        "colab_type": "code",
        "outputId": "816e69bb-a146-451f-933f-f596d3c9c519",
        "colab": {
          "base_uri": "https://localhost:8080/",
          "height": 456
        }
      },
      "source": [
        "r = 2.55\n",
        "cobweb_plot(0.2, r, 50)\n",
        "plt.show()"
      ],
      "execution_count": 0,
      "outputs": [
        {
          "output_type": "display_data",
          "data": {
            "image/png": "[encoded data removed]",
            "text/plain": [
              "<Figure size 504x504 with 1 Axes>"
            ]
          },
          "metadata": {
            "tags": []
          }
        }
      ]
    },
    {
      "cell_type": "markdown",
      "metadata": {
        "id": "vIXa-1f82-ub",
        "colab_type": "text"
      },
      "source": [
        "We can see that in certain parameter intervals, the map settles into periodic orbits about one or more fixed points, while in other cases, it behaves chaotically. These parameter intervals and the corresponding orbits can be visualized using an orbit diagram, which is a plot of the stable orbits $x$ at a particular value of the parameter $r$. Let's write a function ```orbit_diagram``` to visualize."
      ]
    },
    {
      "cell_type": "code",
      "metadata": {
        "id": "n9VB48jSp92i",
        "colab_type": "code",
        "colab": {}
      },
      "source": [
        "def orbit_diagram():\n",
        "    ''' Plot of the stable orbits of the logistic map over a range of\n",
        "        parameter values r.\n",
        "    '''\n",
        "    f = plt.figure(figsize=(8,7))\n",
        "    ax = f.add_subplot()\n",
        "    ax.set_xlabel('r', fontsize=14)\n",
        "    ax.set_ylabel('x', fontsize=14)\n",
        "    ax.tick_params(labelsize=14)\n",
        "\n",
        "    rmin, rmax = 2.4, 4.                   # min and max values of r to plot\n",
        "                                           # (note: for r<1, only stable orbit is at 0)\n",
        "    nr = 10000                             # number of r values to vary\n",
        "    r = np.linspace(rmin, rmax, nr)        # parameter space \n",
        "    \n",
        "    x = 1e-6*np.ones(nr)                   # initial x for each parameter\n",
        "    N = 1000                               # number of iterations\n",
        "\n",
        "    for i in range(N):\n",
        "        x = logistic(x, r)\n",
        "        #  discard transient behavior by plotting only the final 100 iterations\n",
        "        if i >= (N - 100):\n",
        "            ax.plot(r, x, ',', color='darkslateblue', alpha=.25)\n",
        "        \n",
        "    ax.set_xlim([rmin, rmax])\n",
        "    return f, ax"
      ],
      "execution_count": 0,
      "outputs": []
    },
    {
      "cell_type": "markdown",
      "metadata": {
        "id": "Ew5ELjYHTi5_",
        "colab_type": "text"
      },
      "source": [
        "Let's plot."
      ]
    },
    {
      "cell_type": "code",
      "metadata": {
        "id": "IWHDo-HHTknm",
        "colab_type": "code",
        "outputId": "2111193a-754a-43e2-e406-3db2d6d308de",
        "colab": {
          "base_uri": "https://localhost:8080/",
          "height": 450
        }
      },
      "source": [
        "orbit_diagram()\n",
        "plt.show()"
      ],
      "execution_count": 0,
      "outputs": [
        {
          "output_type": "display_data",
          "data": {
            "image/png": "[encoded data removed]",
            "text/plain": [
              "<Figure size 576x504 with 1 Axes>"
            ]
          },
          "metadata": {
            "tags": []
          }
        }
      ]
    },
    {
      "cell_type": "markdown",
      "metadata": {
        "id": "t0fpfGlTTIbt",
        "colab_type": "text"
      },
      "source": [
        "Note the bifurcations in the orbit diagram at values of $r$ where \"period doubling\" occurs. The orbit diagram is in fact fractal; if we zoom in, the diagram looks self-similar. This is a clue that chaotic maps can actually be used to generate fractals.\n",
        "\n"
      ]
    },
    {
      "cell_type": "markdown",
      "metadata": {
        "id": "jNjgJxS3qJ9n",
        "colab_type": "text"
      },
      "source": [
        "Do you notice some curvy shadows appearing in the orbit diagram image? We know these are not continuous lines since we constructed our plot by plotting individual points, but amazingly they appear as such! These shadowy lines are in fact expressible in terms of polynomial curves known as **Q-curves**, and they are an amazing way to approximate the orbit diagram we found above. The basic principle is to recursively call our logistic function many times for a range of the parameter values $r$ - the number of recursive calls equals the number of Q-curves we will draw. This is controlled by the input parameter called ```order``` in the code below. Below, we define a function ```nested_logistic``` that recursively calls our logistic map function created above. Then, the function ```q_curves``` will plot these polynomials."
      ]
    },
    {
      "cell_type": "code",
      "metadata": {
        "id": "y_Q70OpshI33",
        "colab_type": "code",
        "colab": {}
      },
      "source": [
        "def nested_logistic(i, x, r):\n",
        "    if i == 1:\n",
        "        return logistic(x, r)\n",
        "    else:\n",
        "      return nested_logistic(i-1, logistic(x, r), r)\n",
        "\n",
        "def q_curves(order):\n",
        "    ''' Plot a continuous polynomial approximation of the orbit diagram.\n",
        "    '''\n",
        "    f = plt.figure(figsize=(9,7))\n",
        "    ax = f.add_subplot()\n",
        "    ax.set_xlabel('r', fontsize=14)\n",
        "    ax.set_ylabel('x', fontsize=14)\n",
        "    ax.tick_params(labelsize=14)\n",
        "\n",
        "    rmin, rmax = 2.4, 4.                   # min and max values of r to plot\n",
        "    nr = 1000                              # number of r values to vary\n",
        "    r = np.linspace(rmin, rmax, nr)        # parameter space \n",
        "    Q = np.zeros((len(r), order))          # array to store Q-curves\n",
        "\n",
        "    # find a single non-zero fixed point\n",
        "    x0 = root(logistic, 0.5, args=(rmin,)).x\n",
        "\n",
        "    for i, ri in enumerate(r):\n",
        "        for j in range(1, order+1):\n",
        "            Q[i,j-1] = nested_logistic(j, x0, ri)\n",
        "    \n",
        "    for j in range(order):\n",
        "        ax.plot(r, Q[:,j], linewidth=0.5, color='darkslateblue')\n",
        "    ax.set_xlim([rmin, rmax])\n",
        "    return f, ax"
      ],
      "execution_count": 0,
      "outputs": []
    },
    {
      "cell_type": "markdown",
      "metadata": {
        "id": "f68TW3BWsJY2",
        "colab_type": "text"
      },
      "source": [
        "Try varying the input value to ```q_curves```. As we increase the number of Q-curves to draw, our approximation becomes better and better."
      ]
    },
    {
      "cell_type": "code",
      "metadata": {
        "id": "nC8S7tYYirOx",
        "colab_type": "code",
        "colab": {
          "base_uri": "https://localhost:8080/",
          "height": 450
        },
        "outputId": "66695e31-b20a-4cfb-ffb7-8b38892112c6"
      },
      "source": [
        "f, ax = q_curves(40)\n",
        "plt.show()"
      ],
      "execution_count": 103,
      "outputs": [
        {
          "output_type": "display_data",
          "data": {
            "image/png": "[encoded data removed]",
            "text/plain": [
              "<Figure size 648x504 with 1 Axes>"
            ]
          },
          "metadata": {
            "tags": []
          }
        }
      ]
    },
    {
      "cell_type": "markdown",
      "metadata": {
        "id": "TA9T82KksrqJ",
        "colab_type": "text"
      },
      "source": [
        "Because this plot is comprised of continuous lines, it is much easier to make vector graphics with it. Run the two cells below to save and then download this image if desired. (Note: If you are working from a local copy of this notebook, then you do not need to do the download step; the saved image should simply appear in the same directory as this notebook. If you are not running a local copy of the notebook, but are working in the Google Colaboratory environment, then you will need to download your image after saving it by executing the ```files.download``` command.)"
      ]
    },
    {
      "cell_type": "code",
      "metadata": {
        "id": "a5mxJS4poXR-",
        "colab_type": "code",
        "colab": {}
      },
      "source": [
        "f.savefig('orbit_diagram.svg')"
      ],
      "execution_count": 0,
      "outputs": []
    },
    {
      "cell_type": "code",
      "metadata": {
        "id": "lflIKmzKois2",
        "colab_type": "code",
        "colab": {}
      },
      "source": [
        "files.download('orbit_diagram.svg')"
      ],
      "execution_count": 0,
      "outputs": []
    },
    {
      "cell_type": "markdown",
      "metadata": {
        "id": "XPYBP3ccLld7",
        "colab_type": "text"
      },
      "source": [
        "## Julia set\n",
        "The **Julia set** is the set of initial points whose orbits remain bounded under iterations of a given map. We will illustrate it using the quadratic Julia set as an example, which is the Julia set of the discrete two-dimensional map given by the family of complex quadratic polynomials:\n",
        "\n",
        "> $ z_{n+1} = z_n^2 + c $\n",
        "\n",
        "where $z_n$ and $c$ are both complex.\n",
        "\n",
        "To start, we again want to define a function ```quadratic``` which takes as input the parameter $c$ and current state $z$ and computes the next iterate of the quadratic map."
      ]
    },
    {
      "cell_type": "code",
      "metadata": {
        "id": "EFeaa9A47lE0",
        "colab_type": "code",
        "colab": {}
      },
      "source": [
        "@jit\n",
        "def quadratic(z, c):\n",
        "    ''' Compute the next iterate of the discrete quadratic map. '''\n",
        "    return z**2 + c"
      ],
      "execution_count": 0,
      "outputs": []
    },
    {
      "cell_type": "markdown",
      "metadata": {
        "id": "b2KzZQhjUJXz",
        "colab_type": "text"
      },
      "source": [
        "To determine if a point is a member of the Julia set, we will create a function ```julia``` to iteratively call our map a specified number of times. If upon iteration, a point goes beyond some escape radius $R$, we will call that orbit unbounded and return the number of iterations it took to escape. If the point never escapes in the given number of steps, we will simply return the maximum number of iterations."
      ]
    },
    {
      "cell_type": "code",
      "metadata": {
        "id": "5egONTDmUjho",
        "colab_type": "code",
        "colab": {}
      },
      "source": [
        "@jit\n",
        "def julia(func, max_iters, z0, c, R):\n",
        "    ''' Determine whether a point z0 belongs to the Julia set of a function\n",
        "        given a maximum number of iterations max_iters.\n",
        "        inputs:\n",
        "          func - function of the iterative map (e.g. quadratic)\n",
        "          max_iters - maximum number of iterations\n",
        "          z0 - initial value\n",
        "          c - constant parameter\n",
        "          R - escape radius radius beyond which orbits are considered unbounded\n",
        "        outputs:\n",
        "          number of iterations required to escape (or max_iters if orbit\n",
        "          remains bounded.)\n",
        "    '''\n",
        "    z = z0\n",
        "    for i in range(1, max_iters):\n",
        "        z = func(z, c)\n",
        "        if np.abs(z) >= R:\n",
        "            return i\n",
        "    return max_iters"
      ],
      "execution_count": 0,
      "outputs": []
    },
    {
      "cell_type": "markdown",
      "metadata": {
        "id": "HGzApLM3UuR9",
        "colab_type": "text"
      },
      "source": [
        "Finally, for visualization we want to record the number of iterations required for escape for many different points. Since our map is involves complex numbers, we can represent everything in a two-dimensional space. The function ```make_fractal``` populates a pre-initialized image space with the iteration numbers output by a given set function, such as ```julia```, for a given map function, such as ```quadratic```. The built-in function ```complex``` can be used to create a complex number given a real part $x$ and imaginary part $y$ as ```complex(x,y)```."
      ]
    },
    {
      "cell_type": "code",
      "metadata": {
        "id": "yjFrGJpVVtcD",
        "colab_type": "code",
        "colab": {}
      },
      "source": [
        "@jit\n",
        "def make_fractal(set_func, map_func, image, max_iters, xr, yr, c, R):\n",
        "    ''' For each image pixel with bounds given by xr and yr, compute the set\n",
        "        set_func of the map map_func.\n",
        "        inputs:\n",
        "          set_func - function of the set to compute (e.g. julia)\n",
        "          map_func - function of the iterative map (e.g. quadratic)\n",
        "          image - empty 2D array in which to store image pixels\n",
        "          max_iters - maximum number of iterations\n",
        "          xr, yr - tuples specifying the image domain\n",
        "          c - constant parameter\n",
        "          R - escape radius radius beyond which orbits are considered unbounded\n",
        "        outputs:\n",
        "          image - 2D array populated with iterations needed to escape\n",
        "    '''\n",
        "    ny, nx = image.shape\n",
        "    xmin, xmax = xr\n",
        "    ymin, ymax = yr\n",
        "    dx = (xmax - xmin)/nx\n",
        "    dy = (ymax - ymin)/ny\n",
        "    \n",
        "    for i in range(nx):\n",
        "        x = xmin + i*dx\n",
        "        for j in range(ny):\n",
        "            y = ymin + j*dy\n",
        "            image[j,i] = set_func(map_func, max_iters, complex(x, y), c, R)\n",
        "    return image"
      ],
      "execution_count": 0,
      "outputs": []
    },
    {
      "cell_type": "markdown",
      "metadata": {
        "id": "mw9ilfli-jBt",
        "colab_type": "text"
      },
      "source": [
        "Now, all we need is to convert the iteration values to a color image. To do this, we define some helper functions ```make_figure``` and ```make_color_image``` to set up the figure and pick the colormap, and to convert an array of input values to an rgba image using the specified colormap.\n",
        "\n",
        "Finally, we package all the necessary steps sequentially into a function we call ```plot_fractal```."
      ]
    },
    {
      "cell_type": "code",
      "metadata": {
        "id": "Yv2IjEu7Fzgp",
        "colab_type": "code",
        "colab": {}
      },
      "source": [
        "def make_figure():\n",
        "    ''' Set up figure axes and colormap. '''\n",
        "    f = plt.figure(figsize=(7,7))\n",
        "    ax = f.add_subplot()\n",
        "    ax.get_xaxis().set_visible(False)\n",
        "    ax.get_yaxis().set_visible(False)\n",
        "    cmap_colors = plt.get_cmap('twilight').colors\n",
        "    d = len(cmap_colors)\n",
        "    cmap = ListedColormap(np.concatenate([cmap_colors[:d//2][::-1], \n",
        "                                          cmap_colors[:int(0.6*d)]]))\n",
        "    return f, ax, cmap\n",
        "\n",
        "def make_color_image(image, cmap):\n",
        "    ''' Convert iteration values to rgba color array. '''\n",
        "    ny, nx = image.shape\n",
        "    color_image = np.zeros((ny, nx, 4), dtype=np.uint8)\n",
        "    image = (image - np.min(image))/(np.max(image) - np.min(image))\n",
        "    color_image = cmap(image)\n",
        "    return color_image\n",
        "\n",
        "def plot_fractal(set_func, map_func, max_iters, xr, yr, c, R):\n",
        "    ''' Plot the fractal image generated by the set set_func of map map_func.\n",
        "        inputs:\n",
        "          set_func - function of the set to compute (e.g. julia)\n",
        "          map_func - function of the iterative map (e.g. quadratic)\n",
        "          max_iters - maximum number of iterations\n",
        "          xr, yr - tuples specifying the image domain\n",
        "          c - constant parameter\n",
        "          R - escape radius radius beyond which orbits are considered unbounded\n",
        "        outputs:\n",
        "          f, ax - figure and axis objects of resulting plot\n",
        "    '''\n",
        "    # initialize array\n",
        "    nx = 1000\n",
        "    ny = 1000\n",
        "    image = np.zeros((ny, nx), dtype=np.uint8)\n",
        "\n",
        "    # make fractal image\n",
        "    make_fractal(set_func, map_func, image, max_iters, xr, yr, c, R)\n",
        "\n",
        "    # set up figure and convert iteration values to a color image\n",
        "    f, ax, cmap = make_figure()\n",
        "    image = make_color_image(image, cmap)\n",
        "\n",
        "    # smooth image a little\n",
        "    image = np.flipud(ndimage.uniform_filter(image, size=(3,3,0)))\n",
        "\n",
        "    # display image\n",
        "    ax.imshow(image)\n",
        "    return f, ax"
      ],
      "execution_count": 0,
      "outputs": []
    },
    {
      "cell_type": "markdown",
      "metadata": {
        "id": "9P6AIallGI0C",
        "colab_type": "text"
      },
      "source": [
        "Let's visualize the image formed by the Julia set. Play around with the different values of the constant $c$ given below."
      ]
    },
    {
      "cell_type": "code",
      "metadata": {
        "id": "NWRMh4umf4bE",
        "colab_type": "code",
        "colab": {}
      },
      "source": [
        "@widgets.interact_manual(c = ['romanesco', 'paisley', 'snowflake', 'dendrite', 'galaxy', 'vortices'])\n",
        "def quadratic_julia_dropdown(c='romanesco'):   \n",
        "    # suggested parameter sets\n",
        "    romanesco = complex(-0.4, 0.6)\n",
        "    paisley = complex(0.285, 0.01)\n",
        "    snowflake = complex(-0.70176, -0.3842)\n",
        "    dendrite = complex(-0.835, -0.2321)\n",
        "    galaxy = complex(-0.7269, 0.1889)\n",
        "    vortices = complex(-0.8, 0.156)\n",
        "\n",
        "    xr, yr = (-1.5, 1.5), (-1.5, 1.5)         # image domain\n",
        "    plot_fractal(julia, quadratic, 1000, xr, yr, eval(c), 10)"
      ],
      "execution_count": 0,
      "outputs": []
    },
    {
      "cell_type": "markdown",
      "metadata": {
        "id": "xx2VO9JjY7Tn",
        "colab_type": "text"
      },
      "source": [
        "Use the sliders to find some other interesting patterns."
      ]
    },
    {
      "cell_type": "code",
      "metadata": {
        "id": "jcV5Qrf3Ufyl",
        "colab_type": "code",
        "colab": {}
      },
      "source": [
        "Re_slider = widgets.FloatSlider(value=-0.4, min=-1., max=1., step=0.001, description='Re(c):', readout_format='.3f')\n",
        "Im_slider = widgets.FloatSlider(value=0.6, min=-1., max=1., step=0.001, description='Im(c):', readout_format='.3f')\n",
        "\n",
        "@widgets.interact_manual(Re = Re_slider, Im = Im_slider)\n",
        "def quadratic_julia_slider(Re=-4., Im=0.6):\n",
        "    xr, yr = (-1.5, 1.5), (-1.5, 1.5)         # image domain\n",
        "    plot_fractal(julia, quadratic, 1000, xr, yr, complex(Re, Im), 10)"
      ],
      "execution_count": 0,
      "outputs": []
    },
    {
      "cell_type": "markdown",
      "metadata": {
        "id": "pDjDk8Lmn0Yk",
        "colab_type": "text"
      },
      "source": [
        "To simply plot a static image with a fixed set of parameters, you can run the following:"
      ]
    },
    {
      "cell_type": "code",
      "metadata": {
        "id": "ellE8C4kn_s0",
        "colab_type": "code",
        "colab": {}
      },
      "source": [
        "# manually enter the parameter values for Re, Im:\n",
        "Re, Im = -0.4, 0.6\n",
        "\n",
        "# plot the image\n",
        "xr, yr = (-1.5, 1.5), (-1.5, 1.5)         # image domain\n",
        "plot_fractal(julia, quadratic, 1000, xr, yr, complex(Re, Im), 10)\n",
        "plt.show()"
      ],
      "execution_count": 0,
      "outputs": []
    },
    {
      "cell_type": "markdown",
      "metadata": {
        "id": "RBQAU4QTipTo",
        "colab_type": "text"
      },
      "source": [
        "### Saving Figures\n",
        "\n",
        "After we've found a good set of parameters, we can use the ```savefig``` command to save our figure following the syntax below. Make sure to change im_name to the desired image file name, and to change the parameter values to the ones you found! Afterward, we will run one more cell to download the image from the google colab files."
      ]
    },
    {
      "cell_type": "code",
      "metadata": {
        "id": "NrjG8pixi8Ys",
        "colab_type": "code",
        "colab": {}
      },
      "source": [
        "#*********************** change me **************************#\n",
        "# input the name you want to give your image file as a string\n",
        "im_name = 'my_image'\n",
        "\n",
        "# enter the parameter values you found above as Re, Im:\n",
        "Re, Im = -0.4, 0.6\n",
        "#************************************************************#\n",
        "\n",
        "# plot the image outside of the widget and retain the figure handle f\n",
        "xr, yr = (-1.5, 1.5), (-1.5, 1.5)         # image domain\n",
        "f, ax = plot_fractal(julia, quadratic, 1000, xr, yr, complex(Re, Im), 10)\n",
        "\n",
        "# save image\n",
        "f.savefig(im_name + '.png')"
      ],
      "execution_count": 0,
      "outputs": []
    },
    {
      "cell_type": "markdown",
      "metadata": {
        "id": "skR7drhRm1Pf",
        "colab_type": "text"
      },
      "source": [
        "If you are working from a local copy of this notebook, the saved image should appear in the same directory as this notebook. If you are not running a local copy of the notebook, but are working in the Google Colaboratory environment, you will need to download your image after saving it by executing the following command:"
      ]
    },
    {
      "cell_type": "code",
      "metadata": {
        "id": "BZLMYsGAm3UO",
        "colab_type": "code",
        "colab": {}
      },
      "source": [
        "# download image\n",
        "files.download(im_name + '.png')"
      ],
      "execution_count": 0,
      "outputs": []
    },
    {
      "cell_type": "markdown",
      "metadata": {
        "id": "TWPgE2BgfCcb",
        "colab_type": "text"
      },
      "source": [
        "The image should then download into your Downloads folder."
      ]
    },
    {
      "cell_type": "markdown",
      "metadata": {
        "id": "zoVlHKllHMll",
        "colab_type": "text"
      },
      "source": [
        "Now let's animate how the fractal patterns evolve as we gradually tune $c$. We'll need to import a few more libraries for the animation."
      ]
    },
    {
      "cell_type": "code",
      "metadata": {
        "id": "EUWbRyqha8ta",
        "colab_type": "code",
        "colab": {}
      },
      "source": [
        "import matplotlib.animation as animation\n",
        "from IPython.display import HTML"
      ],
      "execution_count": 0,
      "outputs": []
    },
    {
      "cell_type": "markdown",
      "metadata": {
        "id": "VJAI__QOnXQf",
        "colab_type": "text"
      },
      "source": [
        "To make the movie, we'll want to build up a stack of fractal images with as many frames as different parameters. This is handled by ```make_fractal_stack```."
      ]
    },
    {
      "cell_type": "code",
      "metadata": {
        "id": "KiwyRPGanXnx",
        "colab_type": "code",
        "colab": {}
      },
      "source": [
        "def make_fractal_stack(set_func, map_func, max_iters, xr, yr, cs, R, n_images):\n",
        "    ''' For each image pixel with bounds given by xr and yr, compute the set\n",
        "        set_func of the map map_func, for a set of n_images.\n",
        "        inputs:\n",
        "          set_func - function of the set to compute (e.g. julia)\n",
        "          map_func - function of the iterative map (e.g. quadratic)\n",
        "          max_iters - maximum number of iterations\n",
        "          xr, yr - tuples specifying the image domain\n",
        "          cs - array of constant parameters to vary\n",
        "          R - escape radius radius beyond which orbits are considered unbounded\n",
        "          n_images - number of images \n",
        "        outputs:\n",
        "          images - 3D stack of 2D arrays populated with iterations needed to\n",
        "          escape\n",
        "    '''\n",
        "    # initialize array\n",
        "    nx = 1000\n",
        "    ny = 1000\n",
        "    images = np.zeros((ny, nx, n_images), dtype=np.uint8)\n",
        "\n",
        "    print('generating images', end='', flush=True)\n",
        "    for i, c in enumerate(cs):\n",
        "        make_fractal(set_func, map_func, images[:,:,i], max_iters, xr, yr, c, R)\n",
        "        \n",
        "        # track our progress\n",
        "        if i%2==0:\n",
        "            print('.', end='', flush=True)\n",
        "    print(' done!')\n",
        "\n",
        "    # standardize and smooth images a little\n",
        "    images = (images - np.min(images))/(np.max(images) - np.min(images))\n",
        "    images = np.flipud(ndimage.uniform_filter(images, size=(3,3,0)))\n",
        "\n",
        "    return images"
      ],
      "execution_count": 0,
      "outputs": []
    },
    {
      "cell_type": "markdown",
      "metadata": {
        "id": "O8eH6HY9a_8p",
        "colab_type": "text"
      },
      "source": [
        "Now we can create a movie of the quadratic Julia set evolving as we sweep $c$ over the range $c = 0.7885e^{i \\theta}$, with $\\theta$ running from $0$ to $2 \\pi$."
      ]
    },
    {
      "cell_type": "code",
      "metadata": {
        "id": "5GaU2ZlcHZsn",
        "colab_type": "code",
        "colab": {}
      },
      "source": [
        "# sweep through a range of the constant c parameterized by T\n",
        "n_images = 100                            # number of movie frames\n",
        "T = np.linspace(0, 2*np.pi, n_images)\n",
        "cs = [complex(0.7885*np.cos(t), 0.7885*np.sin(t)) for t in T]\n",
        "\n",
        "# make stack of images\n",
        "xr, yr = (-1.5, 1.5), (-1.5, 1.5)         # image domain\n",
        "images = make_fractal_stack(julia, quadratic, 50, xr, yr, cs, 10, n_images)\n",
        "\n",
        "# set up figure axes and initialize color image array\n",
        "f, ax, cmap = make_figure()\n",
        "image = np.zeros((images.shape[0], images.shape[1], 4), dtype=np.uint8)\n",
        "im = ax.imshow(image)\n",
        "\n",
        "# initialization function for animation\n",
        "def init():\n",
        "    im.set_data(cmap(images[:,:,0]))\n",
        "    return im,\n",
        "\n",
        "# animation\n",
        "spf = 2             # time steps per frame\n",
        "def animate(i):\n",
        "    im.set_data(cmap(images[:,:,i+1]))\n",
        "    return im,\n",
        "\n",
        "print('creating movie')\n",
        "# create animation\n",
        "ani = animation.FuncAnimation(f, animate, init_func=init, frames=n_images-1, interval=100, blit=True)\n",
        "plt.close(f)\n",
        "\n",
        "# display animation\n",
        "HTML(ani.to_html5_video())"
      ],
      "execution_count": 0,
      "outputs": []
    },
    {
      "cell_type": "markdown",
      "metadata": {
        "id": "u-oer4GgCqQE",
        "colab_type": "text"
      },
      "source": [
        "## Mandelbrot set\n",
        "A complement to the Julia set is the **Mandelbrot set**, which is the parameter space of possible $c$ values for which the quadratic map remains bounded when initialized at $z_0 = 0 + 0i$. Due to their similarity, we can can repurpose all our existing code when simulating the Mandelbrot set if we define our function ```mandel``` identially to ```julia```, but reverse the order of the arguments $z_0$ and $c$ in the function inputs. Then, we just need to remember to pass $z_0 = 0 + 0i$ for the initial value."
      ]
    },
    {
      "cell_type": "code",
      "metadata": {
        "id": "AAysf59ABi5s",
        "colab_type": "code",
        "colab": {}
      },
      "source": [
        "@jit\n",
        "def mandel(func, max_iters, c, z0, R):\n",
        "    ''' Determine whether a point c belongs to the Mandelbrot set of a function\n",
        "        given a maximum number of iterations max_iters.\n",
        "        inputs:\n",
        "          func - function of the iterative map (e.g. quadratic)\n",
        "          max_iters - maximum number of iterations\n",
        "          c - constant parameter\n",
        "          z0 - initial value; formally, one should input z0 = complex(0,0).\n",
        "          R - escape radius radius beyond which orbits are considered unbounded\n",
        "        outputs:\n",
        "          number of iterations required to escape (or max_iters if orbit\n",
        "          remains bounded.)\n",
        "    '''\n",
        "    z = z0\n",
        "    for i in range(1,max_iters):\n",
        "        z = func(z, c)\n",
        "        if np.abs(z) >= R:\n",
        "            return i\n",
        "    return max_iters"
      ],
      "execution_count": 0,
      "outputs": []
    },
    {
      "cell_type": "markdown",
      "metadata": {
        "id": "AbiNJclCERUc",
        "colab_type": "text"
      },
      "source": [
        "Now we can easily visualize the Mandelbrot set reusing the ```quadratic``` and ```make_fractal``` functions defined earlier."
      ]
    },
    {
      "cell_type": "code",
      "metadata": {
        "id": "DHG2dCj8D9QL",
        "colab_type": "code",
        "colab": {}
      },
      "source": [
        "xr, yr = (-1.5, 1.), (-1.25, 1.25)        # image domain\n",
        "plot_fractal(mandel, quadratic, 1000, xr, yr, complex(0,0), 10)\n",
        "plt.show()"
      ],
      "execution_count": 0,
      "outputs": []
    },
    {
      "cell_type": "markdown",
      "metadata": {
        "id": "A8PSeQRUfg2f",
        "colab_type": "text"
      },
      "source": [
        "### Blowing in the Wind\n",
        "\n",
        "What happens if we make the initial point $z_0$ non-zero and compute its Mandelbrot set? The code below makes a video that sweeps $z_0$ along the diagonal from $0+0i$ to $1+i$. The Mandelbrot set looks like it's blowing away in the wind!"
      ]
    },
    {
      "cell_type": "code",
      "metadata": {
        "id": "9WpLs-hdfijY",
        "colab_type": "code",
        "colab": {}
      },
      "source": [
        "# sweep through a range of the constant c\n",
        "n_images = 100                            # number of movie frames\n",
        "T = np.linspace(0, 2*np.pi, n_images)\n",
        "cs = [complex(i, i) for i in np.linspace(0, 1, n_images)]\n",
        "\n",
        "# make stack of images\n",
        "xr, yr = (-1.5, 1.), (-1.25, 1.25)         # image domain\n",
        "images = make_fractal_stack(mandel, quadratic, 50, xr, yr, cs, 10, n_images)\n",
        "\n",
        "# set up figure axes and initialize color image array\n",
        "f, ax, cmap = make_figure()\n",
        "image = np.zeros((images.shape[0], images.shape[1], 4), dtype=np.uint8)\n",
        "im = ax.imshow(image)\n",
        "\n",
        "# initialization function for animation\n",
        "def init():\n",
        "    im.set_data(cmap(images[:,:,0]))\n",
        "    return im,\n",
        "\n",
        "# animation\n",
        "spf = 2             # time steps per frame\n",
        "def animate(i):\n",
        "    im.set_data(cmap(images[:,:,i+1]))\n",
        "    return im,\n",
        "\n",
        "print('creating movie')\n",
        "# create animation\n",
        "ani = animation.FuncAnimation(f, animate, init_func=init, frames=n_images-1, interval=100, blit=True)\n",
        "plt.close(f)\n",
        "\n",
        "# display animation\n",
        "HTML(ani.to_html5_video())"
      ],
      "execution_count": 0,
      "outputs": []
    },
    {
      "cell_type": "markdown",
      "metadata": {
        "id": "HLE1nJhBex-g",
        "colab_type": "text"
      },
      "source": [
        "The relationship between the Julia and Mandelbrot sets is summarized below.\n",
        "![fractal summary](https://drive.google.com/uc?id=17YzZzGFOfLeXITCLqXcpBNh4TZLaU6IL)"
      ]
    },
    {
      "cell_type": "markdown",
      "metadata": {
        "id": "pG4kzO43G0a_",
        "colab_type": "text"
      },
      "source": [
        "## Examples Playground\n",
        "\n",
        "Why not try and plot the Julia sets of other maps?\n",
        "Let's try the function:\n",
        "\n",
        "> $z_{n+1} = c\\text{sin}(z_n)$\n",
        "\n",
        "Defining the function map:"
      ]
    },
    {
      "cell_type": "code",
      "metadata": {
        "id": "SERg5bx1bDOS",
        "colab_type": "code",
        "colab": {}
      },
      "source": [
        "@jit\n",
        "def sinusoid(z, c):\n",
        "    return c*np.sin(z)"
      ],
      "execution_count": 0,
      "outputs": []
    },
    {
      "cell_type": "markdown",
      "metadata": {
        "id": "owPk9BKvbqRP",
        "colab_type": "text"
      },
      "source": [
        "Let's plot. Play around with the image domain values to see more and more resolved features! Note: The more zoomed-in images may take a little longer to generate."
      ]
    },
    {
      "cell_type": "code",
      "metadata": {
        "id": "7ozJ7VulenPM",
        "colab_type": "code",
        "colab": {}
      },
      "source": [
        "domain_slider = widgets.FloatSlider(value=1.5, min=0.2, max=10, step=0.1, description='domain:', readout_format='.1f')\n",
        "@widgets.interact_manual(d=domain_slider)\n",
        "def sinusoid_julia_slider(d=1.5):\n",
        "    xr, yr = (-d, d), (-d, d)         # image domain\n",
        "    plot_fractal(julia, sinusoid, 500, xr, yr, complex(-0.2, 1.), 50)"
      ],
      "execution_count": 0,
      "outputs": []
    },
    {
      "cell_type": "markdown",
      "metadata": {
        "id": "kVrZCvuToRKK",
        "colab_type": "text"
      },
      "source": [
        "To run outside of the widget:"
      ]
    },
    {
      "cell_type": "code",
      "metadata": {
        "id": "Y36mvcrqoTNe",
        "colab_type": "code",
        "colab": {}
      },
      "source": [
        "# manually enter the parameter value\n",
        "d = 0.2\n",
        "\n",
        "# plot the image outside of the widget\n",
        "xr, yr = (-d, d), (-d, d)         # image domain\n",
        "f, ax = plot_fractal(julia, sinusoid, 500, xr, yr, complex(-0.2, 1.), 50)\n",
        "plt.show()"
      ],
      "execution_count": 0,
      "outputs": []
    },
    {
      "cell_type": "markdown",
      "metadata": {
        "id": "AL_r4JzLkVo1",
        "colab_type": "text"
      },
      "source": [
        "Optionally save your image:"
      ]
    },
    {
      "cell_type": "code",
      "metadata": {
        "id": "nK0oU_VskTe5",
        "colab_type": "code",
        "colab": {}
      },
      "source": [
        "#*********************** change me **************************#\n",
        "# input the name you want to give your image file as a string:\n",
        "im_name = 'my_image'\n",
        "\n",
        "# enter the parameter value you found above as d:\n",
        "d = 0.2\n",
        "#************************************************************#\n",
        "\n",
        "# plot the image outside of the widget and retain the figure handle f\n",
        "xr, yr = (-d, d), (-d, d)         # image domain\n",
        "f, ax = plot_fractal(julia, sinusoid, 500, xr, yr, complex(-0.2, 1.), 50)\n",
        "\n",
        "# save image\n",
        "f.savefig(im_name + '.png')"
      ],
      "execution_count": 0,
      "outputs": []
    },
    {
      "cell_type": "code",
      "metadata": {
        "id": "hKQuQPeYmnfx",
        "colab_type": "code",
        "colab": {}
      },
      "source": [
        "# download image\n",
        "files.download(im_name + '.png')"
      ],
      "execution_count": 0,
      "outputs": []
    },
    {
      "cell_type": "markdown",
      "metadata": {
        "id": "SNfVoizctlj8",
        "colab_type": "text"
      },
      "source": [
        "How about the complex analogue of the logistic map?\n",
        "\n",
        "> $z_{n+1} = cz_n(1 - z_n)$"
      ]
    },
    {
      "cell_type": "code",
      "metadata": {
        "id": "ZVrww81hraab",
        "colab_type": "code",
        "colab": {}
      },
      "source": [
        "@jit\n",
        "def complex_logistic(z, c):\n",
        "    return c*z*(1 - z)"
      ],
      "execution_count": 0,
      "outputs": []
    },
    {
      "cell_type": "code",
      "metadata": {
        "id": "-JMvjrlIt1e4",
        "colab_type": "code",
        "colab": {}
      },
      "source": [
        "domain_slider = widgets.FloatSlider(value=0.2, min=0.05, max=0.5, step=0.01, description='domain:', readout_format='.2f')\n",
        "@widgets.interact_manual(d=domain_slider)\n",
        "def complex_logistic_julia_slider(d=0.2):\n",
        "    xr, yr = (-d, d), (-d, d)         # image domain\n",
        "    plot_fractal(julia, complex_logistic, 500, xr, yr, complex(-0.2, 1.), 50)"
      ],
      "execution_count": 0,
      "outputs": []
    },
    {
      "cell_type": "markdown",
      "metadata": {
        "id": "-QF4Lvm7ocI0",
        "colab_type": "text"
      },
      "source": [
        "To run outside of the widget:"
      ]
    },
    {
      "cell_type": "code",
      "metadata": {
        "id": "vgxusmRCohOp",
        "colab_type": "code",
        "colab": {}
      },
      "source": [
        "# manually enter the parameter value\n",
        "d = 0.2\n",
        "\n",
        "# plot the image\n",
        "xr, yr = (-d, d), (-d, d)         # image domain\n",
        "f, ax = plot_fractal(julia, complex_logistic, 500, xr, yr, complex(-0.2, 1.), 50)\n",
        "plt.show()"
      ],
      "execution_count": 0,
      "outputs": []
    },
    {
      "cell_type": "markdown",
      "metadata": {
        "id": "G9sDmy5akuzb",
        "colab_type": "text"
      },
      "source": [
        "Optionally save your image:"
      ]
    },
    {
      "cell_type": "code",
      "metadata": {
        "id": "OIeoFn0rkytm",
        "colab_type": "code",
        "colab": {}
      },
      "source": [
        "#*********************** change me **************************#\n",
        "# input the name you want to give your image file as a string:\n",
        "im_name = 'my_image'\n",
        "\n",
        "# enter the parameter value you found above as d:\n",
        "d = 0.2\n",
        "#************************************************************#\n",
        "\n",
        "# plot the image outside of the widget and retain the figure handle f\n",
        "xr, yr = (-d, d), (-d, d)         # image domain\n",
        "f, ax = plot_fractal(julia, complex_logistic, 500, xr, yr, complex(-0.2, 1.), 50)\n",
        "\n",
        "# save image\n",
        "f.savefig(im_name + '.png')"
      ],
      "execution_count": 0,
      "outputs": []
    },
    {
      "cell_type": "code",
      "metadata": {
        "id": "ljOmAf8bnR3E",
        "colab_type": "code",
        "colab": {}
      },
      "source": [
        "# download image\n",
        "files.download(im_name + '.png')"
      ],
      "execution_count": 0,
      "outputs": []
    },
    {
      "cell_type": "markdown",
      "metadata": {
        "id": "CJgPVOA2bDsg",
        "colab_type": "text"
      },
      "source": [
        "The Hénon map is another quadratic map given by the coupled equations:\n",
        "\n",
        "> $x_{n+1} = 1 - ax_n^2 + y_n$\n",
        "\n",
        "> $y_{n+1} = bx_n$\n",
        "\n",
        "The Julia set of this map was published in *Michelitsch, Michael, and Otto E. Rössler. \"A new feature in Hénon's map.\" Computers & Graphics 13.2 (1989): 263-265.* Although the Hénon map is not complex, since it is a two-dimensional, two-parameter system, we can represent it using complex variables and then separate the components out to do computation. This lets us repurpose all our earlier code. Let's do that in defining the ```henon``` function."
      ]
    },
    {
      "cell_type": "code",
      "metadata": {
        "id": "JPK7Qn7tFduD",
        "colab_type": "code",
        "colab": {}
      },
      "source": [
        "@jit\n",
        "def henon(z, c):\n",
        "    a, b = c.real, c.imag\n",
        "    x, y = z.real, z.imag\n",
        "    return complex(1 - a*x**2 + y, b*x)"
      ],
      "execution_count": 0,
      "outputs": []
    },
    {
      "cell_type": "code",
      "metadata": {
        "id": "avk4fKOzLu9Y",
        "colab_type": "code",
        "colab": {}
      },
      "source": [
        "domain_slider = widgets.FloatSlider(value=5, min=0.5, max=5, step=0.1, description='domain:', readout_format='.1f')\n",
        "@widgets.interact_manual(d=domain_slider)\n",
        "def henon_julia_slider(d=5):\n",
        "    # Make the image domain shift to focus on an interesting feature while zooming\n",
        "    xr, yr = (-d + np.sqrt(5-d), d + np.sqrt(5-d)), (-d - np.sqrt(5-d), d - np.sqrt(5-d))\n",
        "    plot_fractal(julia, henon, 1000, xr, yr, complex(0.2, 1.01), 450.)"
      ],
      "execution_count": 0,
      "outputs": []
    },
    {
      "cell_type": "markdown",
      "metadata": {
        "id": "wPDGbS5OpFTR",
        "colab_type": "text"
      },
      "source": [
        "To run outside the widget:"
      ]
    },
    {
      "cell_type": "code",
      "metadata": {
        "id": "s4qHqBEYg6NS",
        "colab_type": "code",
        "colab": {}
      },
      "source": [
        "# manually enter the parameter value\n",
        "d = 5.\n",
        "\n",
        "# plot the image\n",
        "xr, yr = (-d + np.sqrt(5-d), d + np.sqrt(5-d)), (-d - np.sqrt(5-d), d - np.sqrt(5-d))\n",
        "plot_fractal(julia, henon, 1000, xr, yr, complex(0.2, 1.01), 450.)\n",
        "plt.show()"
      ],
      "execution_count": 0,
      "outputs": []
    },
    {
      "cell_type": "markdown",
      "metadata": {
        "id": "ECYQtauwqcYQ",
        "colab_type": "text"
      },
      "source": [
        "Optionally save your image:"
      ]
    },
    {
      "cell_type": "code",
      "metadata": {
        "id": "BRspw_huqY5x",
        "colab_type": "code",
        "colab": {}
      },
      "source": [
        "#*********************** change me **************************#\n",
        "# input the name you want to give your image file as a string:\n",
        "im_name = 'my_image'\n",
        "\n",
        "# enter the parameter value you found above as d:\n",
        "d = 5.\n",
        "#************************************************************#\n",
        "\n",
        "# plot the image outside of the widget and retain the figure handle f\n",
        "xr, yr = (-d + np.sqrt(5-d), d + np.sqrt(5-d)), (-d - np.sqrt(5-d), d - np.sqrt(5-d))\n",
        "plot_fractal(julia, henon, 1000, xr, yr, complex(0.2, 1.01), 450.)\n",
        "\n",
        "# save image\n",
        "f.savefig(im_name + '.png')"
      ],
      "execution_count": 0,
      "outputs": []
    },
    {
      "cell_type": "code",
      "metadata": {
        "id": "V6XAjcS5eiVR",
        "colab_type": "code",
        "colab": {}
      },
      "source": [
        "# download image\n",
        "files.download(im_name + '.png')"
      ],
      "execution_count": 0,
      "outputs": []
    }
  ]
}