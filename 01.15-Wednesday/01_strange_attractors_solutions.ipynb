{
  "nbformat": 4,
  "nbformat_minor": 0,
  "metadata": {
    "colab": {
      "name": "strange_attractors.ipynb",
      "provenance": [],
      "collapsed_sections": [],
      "authorship_tag": "ABX9TyPLAiQiYIwjIBco7MifqpPF",
      "include_colab_link": true
    },
    "kernelspec": {
      "name": "python3",
      "display_name": "Python 3"
    }
  },
  "cells": [
    {
      "cell_type": "markdown",
      "metadata": {
        "id": "view-in-github",
        "colab_type": "text"
      },
      "source": [
        "<a href=\"https://colab.research.google.com/github/gvarnavi/generative-art-iap/blob/master/01.15-Wednesday/01_strange_attractors_solutions.ipynb\" target=\"_parent\"><img src=\"https://colab.research.google.com/assets/colab-badge.svg\" alt=\"Open In Colab\"/></a>"
      ]
    },
    {
      "cell_type": "markdown",
      "metadata": {
        "id": "LUbV7PZbOShX",
        "colab_type": "text"
      },
      "source": [
        "# Strange Attractors\n",
        "\"[They're] a little like old Uncle Jake, who is a bit eccentric. You’re not really surprised by what Uncle Jake does, but it’s still difficult to understand why he does what he does. But by calling him eccentric, you feel comfortable with his actions.\" *~ Symmetry in Chaos, Field and Golubitsky*\n",
        "\n",
        "---\n",
        "\n",
        "An attractor is a state toward which a dynamical system tends to evolve, and it can take various forms such as a fixed point or a limit cycle. An attractor is called **strange** if it has a fractal structure, which often arises in chaotic systems. Although a strange attractor is locally unstable, meaning nearby points diverge from one another due to sensitive dependence on initial conditions, it is globally stable in that these points never leave the attractor. These attractive orbits can be quite... attractive!\n",
        "\n",
        "First, let's look at some artistic trajectories that arise in discrete-time chaotic dynamical systems."
      ]
    },
    {
      "cell_type": "markdown",
      "metadata": {
        "id": "h6K4FcfeTm--",
        "colab_type": "text"
      },
      "source": [
        "## Discrete-time systems"
      ]
    },
    {
      "cell_type": "code",
      "metadata": {
        "id": "L_pkRIE6Eim0",
        "colab_type": "code",
        "colab": {}
      },
      "source": [
        "%matplotlib inline\n",
        "import numpy as np\n",
        "import matplotlib.pyplot as plt\n",
        "import matplotlib.animation as animation\n",
        "import ipywidgets as widgets\n",
        "from IPython.display import display\n",
        "from matplotlib.colors import ListedColormap\n",
        "from scipy import ndimage\n",
        "from numba import jit\n",
        "from google.colab import files"
      ],
      "execution_count": 0,
      "outputs": []
    },
    {
      "cell_type": "markdown",
      "metadata": {
        "id": "BlkuuLdx1awz",
        "colab_type": "text"
      },
      "source": [
        "One popular example is the family of **De Jong attractors**, which are given by the coupled system of equations:\n",
        "\n",
        "> $x_{n+1} = \\text{sin}(ay_n) - \\text{cos}(bx_n)$\n",
        "\n",
        "> $y_{n+1} = \\text{sin}(cx_n) - \\text{cos}(dy_n)$\n",
        "\n",
        "Let's write a function ```dejong``` that takes as input the current state as an array of $(x, y)$ coordinates, and a tuple of the model parameters $(a,b,c,d)$, and computes a new state array following the De Jong map.\n",
        "\n"
      ]
    },
    {
      "cell_type": "code",
      "metadata": {
        "id": "e6PGQcsbTqbB",
        "colab_type": "code",
        "colab": {}
      },
      "source": [
        "@jit\n",
        "def dejong(state, args):\n",
        "    # unpack system parameters\n",
        "    a, b, c, d = args\n",
        "    \n",
        "    # unpack the state vector\n",
        "    x, y = state\n",
        "    \n",
        "    # map to the new state\n",
        "    return np.array([np.sin(a*y) - np.cos(b*x),\n",
        "                     np.sin(c*x) - np.cos(d*y)])"
      ],
      "execution_count": 0,
      "outputs": []
    },
    {
      "cell_type": "markdown",
      "metadata": {
        "id": "PwxP89ERV_Xx",
        "colab_type": "text"
      },
      "source": [
        "To visualize the orbit, we'll want to make a two-dimensional plot of the attractor that is colored by the number of times each point was visited over the course of many iterations. Thus, we first need a function, ```iter_map```, to iterate our discrete map a specified number of times starting from a particular initial state."
      ]
    },
    {
      "cell_type": "code",
      "metadata": {
        "id": "wRt9xCAHUBJL",
        "colab_type": "code",
        "colab": {}
      },
      "source": [
        "@jit\n",
        "def iter_map(func, steps, s0, args):\n",
        "    ''' Iterates the map given by func over a specified number of steps\n",
        "        starting from initial state s0. Additional arguments passed to func\n",
        "        are given in args.\n",
        "    '''\n",
        "    sol = np.zeros((steps, len(s0)))\n",
        "    sol[0,:] = s0\n",
        "    for i in range(1,steps):\n",
        "        sol[i,:] = func(sol[i-1,:], args)\n",
        "    return sol.T"
      ],
      "execution_count": 0,
      "outputs": []
    },
    {
      "cell_type": "markdown",
      "metadata": {
        "id": "sZlrGeoU6i_n",
        "colab_type": "text"
      },
      "source": [
        "The generated states (coordinates) will generally be continuous numbers, but to form an image colored by visitation density, we'll need to bin the points into discrete image pixels. Thus, we define a function ```grid_data``` to bin the continuous $(x, y)$ coordinates generated by the running ```iter_map``` into discrete image pixels."
      ]
    },
    {
      "cell_type": "code",
      "metadata": {
        "id": "ltYYR9Ts611G",
        "colab_type": "code",
        "colab": {}
      },
      "source": [
        "def grid_data(x, y, nx, ny):\n",
        "    ''' Map continuous (x, y) coordinate data to a discrete grid. '''\n",
        "    xmin, xmax, ymin, ymax = np.min(x), np.max(x), np.min(y), np.max(y)\n",
        "    x = ((x - xmin)/(xmax - xmin)*nx - xmin).astype(np.int)\n",
        "    y = ((y - ymin)/(ymax - ymin)*ny - ymin).astype(np.int)\n",
        "    return x, y"
      ],
      "execution_count": 0,
      "outputs": []
    },
    {
      "cell_type": "markdown",
      "metadata": {
        "id": "zcwA7vI47bpT",
        "colab_type": "text"
      },
      "source": [
        "We want to color our pixels based on visitation density. To do this, we define a couple of helper functions. The function ```make_figure``` packages some plotting commands to create and style our figure axes and select a colormap. The function ```color_by_number``` is going to take our list of gridded data and associate a color with each grid point based on its occupancy. Because the occupancy data tend to be skewed, this function is not a linear map between color and data, but performs a scaling of the data that allows it to more equitably sample the colorspace."
      ]
    },
    {
      "cell_type": "code",
      "metadata": {
        "id": "2xeu99wb8etl",
        "colab_type": "code",
        "colab": {}
      },
      "source": [
        "def make_figure():\n",
        "    ''' Set-up figure and colormap. '''\n",
        "    f = plt.figure(figsize=(7,7))\n",
        "    ax = f.add_subplot()\n",
        "    ax.spines['top'].set_visible(False)\n",
        "    ax.spines['right'].set_visible(False)\n",
        "    ax.spines['bottom'].set_visible(False)\n",
        "    ax.spines['left'].set_visible(False)\n",
        "    ax.get_xaxis().set_visible(False)\n",
        "    ax.get_yaxis().set_visible(False)\n",
        "\n",
        "    cmap = plt.get_cmap('CMRmap')\n",
        "    ax.set_facecolor('#070215')\n",
        "    return f, ax, cmap\n",
        "\n",
        "def color_by_number(x, y, cmap):\n",
        "    ''' Set the color of data points based on visitation density. '''\n",
        "    inverse, counts = np.unique(x + y*1j, return_counts=True, return_inverse=True)[1:]\n",
        "    counts = counts[inverse]/np.max(counts)\n",
        "    \n",
        "    # scale and standardize data to more equitably sample colorspace\n",
        "    counts = counts**0.05\n",
        "    counts = (counts - np.min(counts))/(np.max(counts)-np.min(counts)+1e-3)\n",
        "    counts[counts > 1.8*np.mean(counts)] = 1.8*np.mean(counts)\n",
        "    counts = (counts - np.min(counts))/(np.max(counts)-np.min(counts))\n",
        "    \n",
        "    colors = 250*cmap(counts)\n",
        "    return colors"
      ],
      "execution_count": 0,
      "outputs": []
    },
    {
      "cell_type": "markdown",
      "metadata": {
        "id": "2FTDVj069jg0",
        "colab_type": "text"
      },
      "source": [
        "Finally, we'll define a function ```make_map``` to color each image pixel the desired color."
      ]
    },
    {
      "cell_type": "code",
      "metadata": {
        "id": "fizDD7g-9nun",
        "colab_type": "code",
        "colab": {}
      },
      "source": [
        "@jit\n",
        "def make_map(image, x, y, colors):\n",
        "    ''' Color image pixels a specified color. '''\n",
        "    for k in range(len(x)):\n",
        "        image[x[k],y[k],:] = colors[k]\n",
        "    return image"
      ],
      "execution_count": 0,
      "outputs": []
    },
    {
      "cell_type": "markdown",
      "metadata": {
        "id": "oFcn-A_X_Qwn",
        "colab_type": "text"
      },
      "source": [
        "We can package all these steps into a function ```plot_image```. This will be our helper function to repurpose many times for various two-dimensional systems, so it is written as generically as possible."
      ]
    },
    {
      "cell_type": "code",
      "metadata": {
        "id": "40SI1xov_Vm0",
        "colab_type": "code",
        "colab": {}
      },
      "source": [
        "def plot_image(func, s0, args):\n",
        "    ''' Plot an image colored by the point's visitation density. '''\n",
        "    # evaluate map over many iterations\n",
        "    N = int(5e6)                                  # number of steps to take\n",
        "    sol = iter_map(func, N, s0, args)\n",
        "\n",
        "    #ignore transient part of solution space\n",
        "    sol = sol[:,2000:]\n",
        "    x, y = sol[0,:], sol[1,:]\n",
        "\n",
        "    # initialize image array\n",
        "    nx = 1000\n",
        "    ny = 1000\n",
        "    image = np.zeros((nx+1, ny+1, 4), dtype=np.uint8)\n",
        "    \n",
        "    # format data to grid\n",
        "    x, y = grid_data(x, y, nx, ny)\n",
        "\n",
        "    # initialize axes and colormap\n",
        "    f, ax, cmap = make_figure()\n",
        "\n",
        "    # assign colors based on number of times point was visited\n",
        "    colors = color_by_number(x, y, cmap)\n",
        "\n",
        "    # color image pixels\n",
        "    make_map(image, x, y, colors)\n",
        "\n",
        "    # create a border by padding with some zeros\n",
        "    npad = 100\n",
        "    image = np.pad(image, ((npad,npad), (npad,npad), (0,0)), mode='constant')\n",
        "\n",
        "    # smooth image a little\n",
        "    image = ndimage.uniform_filter(image, size=(5,5,0))\n",
        "\n",
        "    # plot\n",
        "    ax.imshow(np.flipud(image))\n",
        "    return f, ax"
      ],
      "execution_count": 0,
      "outputs": []
    },
    {
      "cell_type": "markdown",
      "metadata": {
        "id": "yMA7yay1eSWb",
        "colab_type": "text"
      },
      "source": [
        "Now let's plot the De Jong attractor! Test some of the suggested parameters below. Although the code is fairly optimized, we are plotting millions of points so there may be a slight delay each time you plot."
      ]
    },
    {
      "cell_type": "code",
      "metadata": {
        "id": "vSAqfsqNYWqP",
        "colab_type": "code",
        "colab": {}
      },
      "source": [
        "@widgets.interact_manual(args = ['leaf','whale','cocoon','ribbon','crescent','squid','heart'])\n",
        "def dejong_dropdown(args='leaf'):\n",
        "    # suggested parameter sets\n",
        "    leaf = (-2., -2., -1.2, 2.)\n",
        "    whale = (2.01, -2.53, 1.61, -0.33)\n",
        "    cocoon = (-2.850, 2.793, -2.697, 1.128)\n",
        "    ribbon = (1.5, 2.5, 0.731, 2.5)\n",
        "    crescent = (1.549, 1.104, 2.4, -2.1)\n",
        "    squid = (-1.33, -2., -1.2, 2.)\n",
        "    heart = (2.03, -2., -1.2, 2.)\n",
        "\n",
        "    plot_image(dejong, np.array([-0.3, 0.2]), eval(args))"
      ],
      "execution_count": 0,
      "outputs": []
    },
    {
      "cell_type": "markdown",
      "metadata": {
        "id": "bHe-8PCSSZPg",
        "colab_type": "text"
      },
      "source": [
        "Try discovering your own parameters for a unique piece of abstract art. Remember that different parameter windows can produce strikingly different limiting behaviors, so try tuning one parameter at a time to avoid running into too many seemingly blank images! If you get stuck, you can always re-run the cell to reset the defaults, or copy the values of a suggested parameter set above and proceed from there."
      ]
    },
    {
      "cell_type": "code",
      "metadata": {
        "id": "v9b3g_nwNsvB",
        "colab_type": "code",
        "colab": {}
      },
      "source": [
        "a_slider = widgets.FloatSlider(value=-2., min=-3., max=3., step=0.01, description='a:', readout_format='.2f')\n",
        "b_slider = widgets.FloatSlider(value=-2., min=-3., max=3., step=0.01, description='b:', readout_format='.2f')\n",
        "c_slider = widgets.FloatSlider(value=-1.2, min=-3., max=3., step=0.01, description='c:', readout_format='.2f')\n",
        "d_slider = widgets.FloatSlider(value=2., min=-3., max=3., step=0.01, description='d:', readout_format='.2f')\n",
        "\n",
        "@widgets.interact_manual(a = a_slider, b = b_slider, c = c_slider, d = d_slider)\n",
        "def dejong_slider(a=-2., b=-2., c=-1.2, d=2.):\n",
        "    plot_image(dejong, np.array([-0.3, 0.2]), (a, b, c, d))"
      ],
      "execution_count": 0,
      "outputs": []
    },
    {
      "cell_type": "markdown",
      "metadata": {
        "id": "nsfoPFoPhtbl",
        "colab_type": "text"
      },
      "source": [
        "To plot a static image with a fixed set of parameters and avoid using the widget, you can manually enter the parameter values you'd like (or copy and paste some from the list above) and then execute the following cell:"
      ]
    },
    {
      "cell_type": "code",
      "metadata": {
        "id": "Zj8h2MFWiGXg",
        "colab_type": "code",
        "colab": {}
      },
      "source": [
        "# manually enter the 4 parameter values into the variable args\n",
        "# parameters should be comma separated and enclosed in parentheses as shown\n",
        "args = (-2., -2., -1.2, 2.)\n",
        "\n",
        "# plot the image\n",
        "plot_image(dejong, np.array([-0.3, 0.2]), args)\n",
        "plt.show()"
      ],
      "execution_count": 0,
      "outputs": []
    },
    {
      "cell_type": "markdown",
      "metadata": {
        "id": "rxgjf2Hviwnf",
        "colab_type": "text"
      },
      "source": [
        "### Saving Figures\n",
        "\n",
        "After we've found an interesting set of parameters, we can use the ```savefig``` command to save our figure following the syntax below. Make sure to change im_name to the desired image file name, and to change the parameter values to the ones you found! Afterward, we will run one more cell to download the image from the google colab files."
      ]
    },
    {
      "cell_type": "code",
      "metadata": {
        "id": "2Zz3Eg_Ji9Pk",
        "colab_type": "code",
        "colab": {}
      },
      "source": [
        "#*********************** change me **************************#\n",
        "# input the name you want to give your image file as a string\n",
        "im_name = 'my_image'\n",
        "\n",
        "# enter the parameter values\n",
        "args = (2.03, -2., -1.2, 2.)\n",
        "#************************************************************#\n",
        "\n",
        "# plot the image outside of the widget and retain the figure handle f\n",
        "f, ax = plot_image(dejong, np.array([-0.3, 0.2]), args)\n",
        "\n",
        "# save image\n",
        "f.savefig(im_name + '.png')"
      ],
      "execution_count": 0,
      "outputs": []
    },
    {
      "cell_type": "markdown",
      "metadata": {
        "id": "eMFoUWpZjBs2",
        "colab_type": "text"
      },
      "source": [
        "If you are working from a local copy of this notebook, the saved image should appear in the same directory as this notebook. If you are not running a local copy of the notebook, but are working in the Google Colaboratory environment, you will need to download your image after saving it by executing the command below. If you get an error when downloading, the image was probably not fully finished saving, so just wait a few seconds and then run the download command again. "
      ]
    },
    {
      "cell_type": "code",
      "metadata": {
        "id": "VbyaC3u0jIBX",
        "colab_type": "code",
        "colab": {}
      },
      "source": [
        "# download image\n",
        "files.download(im_name + '.png')"
      ],
      "execution_count": 0,
      "outputs": []
    },
    {
      "cell_type": "markdown",
      "metadata": {
        "id": "f8iEYw62jLgu",
        "colab_type": "text"
      },
      "source": [
        "The image should then download into your Downloads folder."
      ]
    },
    {
      "cell_type": "markdown",
      "metadata": {
        "id": "SU9G9MJBryqY",
        "colab_type": "text"
      },
      "source": [
        "Another interesting example is the family of **Clifford attractors**, which are given by the coupled system of equations:\n",
        "\n",
        "> $x_{n+1} = \\text{sin}(ay_n) - c\\text{cos}(ax_n)$\n",
        "\n",
        "> $y_{n+1} = \\text{sin}(bx_n) - d\\text{cos}(by_n)$\n",
        "\n",
        "Let's write a function ```clifford``` to compute the new state array following the Clifford map."
      ]
    },
    {
      "cell_type": "code",
      "metadata": {
        "id": "gCo1XHLVstMI",
        "colab_type": "code",
        "colab": {}
      },
      "source": [
        "@jit\n",
        "def clifford(state, args):\n",
        "    # unpack system parameters\n",
        "    a, b, c, d = args\n",
        "    \n",
        "    # unpack the state vector\n",
        "    x, y = state\n",
        "    \n",
        "    # map to the new state\n",
        "    return np.array([np.sin(a*y) - c*np.cos(a*x),\n",
        "                     np.sin(b*x) - d*np.cos(b*y)])"
      ],
      "execution_count": 0,
      "outputs": []
    },
    {
      "cell_type": "markdown",
      "metadata": {
        "id": "bnTOLDSps9OC",
        "colab_type": "text"
      },
      "source": [
        "Now let's plot as before using our visualization code! Try some of the suggested parameters."
      ]
    },
    {
      "cell_type": "code",
      "metadata": {
        "id": "RuDBj5ujv2ex",
        "colab_type": "code",
        "colab": {}
      },
      "source": [
        "@widgets.interact_manual(args = ['arcs','shell','roll','squiggle'])\n",
        "def clifford_dropdown(args='leaf'):\n",
        "    # suggested parameter sets\n",
        "    arcs = (-1.4, 1.6, 1., 0.7)\n",
        "    shell = (1.7, 1.7, 0.6, 1.2)\n",
        "    roll = (1.5, -1.8, 1.6, 0.9)\n",
        "    squiggle = (-1.8, -2.0, -0.5, -0.9)\n",
        "\n",
        "    plot_image(clifford, np.array([-0.3, 0.2]), eval(args))"
      ],
      "execution_count": 0,
      "outputs": []
    },
    {
      "cell_type": "markdown",
      "metadata": {
        "id": "FcV30zhbv-IZ",
        "colab_type": "text"
      },
      "source": [
        "Play around with the sliders to try and find some other abstract designs."
      ]
    },
    {
      "cell_type": "code",
      "metadata": {
        "id": "rXse3DlAtCsG",
        "colab_type": "code",
        "colab": {}
      },
      "source": [
        "a_slider = widgets.FloatSlider(value=-1.4, min=-2., max=2., step=0.01, description='a:', readout_format='.2f')\n",
        "b_slider = widgets.FloatSlider(value=1.6, min=-2., max=2., step=0.01, description='b:', readout_format='.2f')\n",
        "c_slider = widgets.FloatSlider(value=1., min=-2., max=2., step=0.01, description='c:', readout_format='.2f')\n",
        "d_slider = widgets.FloatSlider(value=0.7, min=-2., max=2., step=0.01, description='d:', readout_format='.2f')\n",
        "\n",
        "@widgets.interact_manual(a = a_slider, b = b_slider, c = c_slider, d = d_slider)\n",
        "def clifford_slider(a=-1.4, b=1.6, c=1., d=0.7):\n",
        "    plot_image(clifford, np.array([-0.3, 0.2]), (a, b, c, d))"
      ],
      "execution_count": 0,
      "outputs": []
    },
    {
      "cell_type": "markdown",
      "metadata": {
        "id": "sxlrcVAVjyWA",
        "colab_type": "text"
      },
      "source": [
        "Static plotting option:"
      ]
    },
    {
      "cell_type": "code",
      "metadata": {
        "id": "8mq_8FBjj1DQ",
        "colab_type": "code",
        "colab": {}
      },
      "source": [
        "# manually enter the 4 parameter values into the variable args\n",
        "# parameters should be comma separated and enclosed in parentheses as shown\n",
        "args = (-1.4, 1.6, 1., 0.7)\n",
        "\n",
        "# plot the image\n",
        "plot_image(clifford, np.array([-0.3, 0.2]), args)\n",
        "plt.show()"
      ],
      "execution_count": 0,
      "outputs": []
    },
    {
      "cell_type": "markdown",
      "metadata": {
        "id": "u1s3J2rSkDqa",
        "colab_type": "text"
      },
      "source": [
        "Optionally save your image:"
      ]
    },
    {
      "cell_type": "code",
      "metadata": {
        "id": "9ZfeFE0ykJz2",
        "colab_type": "code",
        "colab": {}
      },
      "source": [
        "#*********************** change me **************************#\n",
        "# input the name you want to give your image file as a string\n",
        "im_name = 'my_image'\n",
        "\n",
        "# enter the parameter values\n",
        "args = (-1.4, 1.6, 1., 0.7)\n",
        "#************************************************************#\n",
        "\n",
        "# plot the image outside of the widget and retain the figure handle f\n",
        "f, ax = plot_image(clifford, np.array([-0.3, 0.2]), args)\n",
        "\n",
        "# save image\n",
        "f.savefig(im_name + '.png')"
      ],
      "execution_count": 0,
      "outputs": []
    },
    {
      "cell_type": "code",
      "metadata": {
        "id": "e-MFZLt7kcvd",
        "colab_type": "code",
        "colab": {}
      },
      "source": [
        "# download image\n",
        "files.download(im_name + '.png')"
      ],
      "execution_count": 0,
      "outputs": []
    },
    {
      "cell_type": "markdown",
      "metadata": {
        "id": "aT_FLbkUlBDY",
        "colab_type": "text"
      },
      "source": [
        "### Symmetry\n",
        "\n",
        "*Adapted from Shaw, William T. Complex Analysis with Mathematica. Cambridge University Press, 2006.*\n",
        "\n",
        "Extraordinary patterns can arise when chaotic systems are constructed to obey some underlying symmetry. The simplest examples are complex polynomial maps that are symmetric under the actions of the **cyclic group** $Z_n$ of rotations by $2 \\pi/n$, or the **dihedral group** $D_n$, consisting of rotations by $2 \\pi/n$ and a reflection. Note that this $n$ is different from the $n$ we have been using to denote our iteration steps, so we will let $k$ denote our iteration steps to avoid confusion!\n",
        "\n",
        "The general functional form of such maps is given by:\n",
        "\n",
        "$z_{k+1} = f(z_k) = z_k(a + bz_k\\bar{z_k} + c\\text{Re}(z_k^n) +i\\omega) + d\\bar{z_k}^{n-1}$\n",
        "\n",
        "with $a,b,c,d,\\omega$ real and $n$ an integer. These are cyclically symmetric and inherit dihedral symmetry when $\\omega = 0$.\n",
        "\n",
        "Below, we implement a slight variant of this form which we term the nonlinear map:\n",
        "\n",
        "$f_\\text{nonlinear}(z_k) = z_k(a + bz_k\\bar{z_k} + c\\text{Re}(z_k^n) + \\lambda |z_k| \\text{cos}(\\text{arg}(z_k)np) +i\\omega) + d\\bar{z_k}^{n-1}$\n",
        "\n",
        "where arg denotes the argument (angle) of a complex number, and with $a,b,c,d,\\lambda, \\omega$ real and $n, p$ integers."
      ]
    },
    {
      "cell_type": "code",
      "metadata": {
        "id": "9-72Iq-Re6AB",
        "colab_type": "code",
        "colab": {}
      },
      "source": [
        "@jit\n",
        "def nonlinear(state, args):\n",
        "    # specify system parameters\n",
        "    a, b, c, d, l, w, n, p = args\n",
        "\n",
        "    # unpack the state vector\n",
        "    x, y = state\n",
        "    z = complex(x, y)\n",
        "    \n",
        "    # map to the new state\n",
        "    F = (a + b*z*np.conj(z) + c*(z**n).real + l*np.abs(z)*np.cos(np.angle(z)*n*p) + w*1j)*z + d*np.conj(z)**(n-1)\n",
        "    return np.array([F.real, F.imag])"
      ],
      "execution_count": 0,
      "outputs": []
    },
    {
      "cell_type": "markdown",
      "metadata": {
        "id": "0Eb07vlys5Pe",
        "colab_type": "text"
      },
      "source": [
        "Now let's visualize! Try out some of the suggested parameter sets for the different symmetries."
      ]
    },
    {
      "cell_type": "code",
      "metadata": {
        "id": "etRpEARGs5vC",
        "colab_type": "code",
        "colab": {}
      },
      "source": [
        "@widgets.interact_manual(args = ['threegadget','triangle','quadgig','flint','pentagon','star','sanddollar',\n",
        "                                 'flower','hexagon','heptagon','churwin','swirlygig','bloom'])\n",
        "def nonlinear_dropdown(args='sanddollar'):\n",
        "    # dihedral symmetry parameter sets\n",
        "    threegadget = (1.56, -1., 0.1, -0.82, 0., 0., 3, 1)\n",
        "    triangle = (1.455, -1.0, 0.03, -0.8, -0.025, 0., 3, 0)\n",
        "    quadgig = (-1.86, 2., 0., 1., 0., 0., 4, 0)\n",
        "    flint = (2.5, -2.5, 0., 0.9, 0., 0., 3, 1)\n",
        "    pentagon = (2.6, -2., 0., -0.5, 0., 0., 5, 1)\n",
        "    star = (-2.32, 2.32, 0., 0.75, 0., 0., 5, 1)\n",
        "    sanddollar = (-2.34, 2., 0.2, 0.1, 0., 0., 5, 1)\n",
        "    flower = (-2.38, 10.0, -12.3, 0.75, 0.02, 0., 5, 1)\n",
        "    hexagon = (-2.7, 5., 1.5, 1., 0., 0., 6, 1)\n",
        "    heptagon = (-2.08, 1.0, -0.1, 0.167, 0., 0., 7, 1)\n",
        "    churwin = (2.409, -2.5, -0.2, 0.81, 0., 0., 24, 1)\n",
        "\n",
        "    # cyclical symmetry parameter sets\n",
        "    swirlygig = (-1.86, 2., 0., 1., 0., 0.1, 4, 0)\n",
        "    bloom = (-2.5, 5., -1.9, 1., 0., 0.188, 5, 0)\n",
        "\n",
        "    plot_image(nonlinear, np.array([-0.3, 0.2]), eval(args))"
      ],
      "execution_count": 0,
      "outputs": []
    },
    {
      "cell_type": "markdown",
      "metadata": {
        "id": "5xFEuWe-Txk8",
        "colab_type": "text"
      },
      "source": [
        "Static plotting option:"
      ]
    },
    {
      "cell_type": "code",
      "metadata": {
        "colab_type": "code",
        "id": "w5fOtvS2Tr2E",
        "colab": {}
      },
      "source": [
        "# manually enter the 8 parameter values into the variable args\n",
        "# parameters should be comma separated and enclosed in parentheses as shown\n",
        "args = (-2.34, 2., 0.2, 0.1, 0., 0., 5, 1)\n",
        "\n",
        "# plot the image\n",
        "plot_image(nonlinear, np.array([-0.3, 0.2]), args)\n",
        "plt.show()"
      ],
      "execution_count": 0,
      "outputs": []
    },
    {
      "cell_type": "markdown",
      "metadata": {
        "colab_type": "text",
        "id": "7z0_t53HTr2L"
      },
      "source": [
        "Optionally save your image:"
      ]
    },
    {
      "cell_type": "code",
      "metadata": {
        "colab_type": "code",
        "id": "8zo2a_4HTiNW",
        "colab": {}
      },
      "source": [
        "#*********************** change me **************************#\n",
        "# input the name you want to give your image file as a string\n",
        "im_name = 'my_image'\n",
        "\n",
        "# enter the parameter values\n",
        "args = (-2.34, 2., 0.2, 0.1, 0., 0., 5, 1)\n",
        "#************************************************************#\n",
        "\n",
        "# plot the image outside of the widget and retain the figure handle f\n",
        "f, ax = plot_image(nonlinear, np.array([-0.3, 0.2]), args)\n",
        "\n",
        "# save image\n",
        "f.savefig(im_name + '.png')"
      ],
      "execution_count": 0,
      "outputs": []
    },
    {
      "cell_type": "code",
      "metadata": {
        "colab_type": "code",
        "id": "Vn20d9jkTiNk",
        "colab": {}
      },
      "source": [
        "# download image\n",
        "files.download(im_name + '.png')"
      ],
      "execution_count": 0,
      "outputs": []
    },
    {
      "cell_type": "markdown",
      "metadata": {
        "id": "itCAsVf4x071",
        "colab_type": "text"
      },
      "source": [
        "Another interesting family of symmetric maps may be constructed with periodic functions like sinusoids. Below, we implement one variant:\n",
        "\n",
        "> $x_{n+1} = mx_n + a\\text{sin}(2 \\pi x_n) + b\\text{sin}(2 \\pi x_n)\\text{cos}(2 \\pi y_n) + c \\text{sin}(4 \\pi x_n) + d \\text{sin}(6 \\pi x_n) \\text{cos}(4 \\pi y_n)$\n",
        "\n",
        "> $y_{n+1} = my_n + a\\text{sin}(2 \\pi y_n) + b\\text{cos}(2 \\pi x_n)\\text{sin}(2 \\pi y_n) + c \\text{sin}(4 \\pi y_n) + d \\text{cos}(4 \\pi x_n) \\text{sin}(6 \\pi y_n)$"
      ]
    },
    {
      "cell_type": "code",
      "metadata": {
        "id": "YBfP-mxox59Z",
        "colab_type": "code",
        "colab": {}
      },
      "source": [
        "@jit\n",
        "def periodic(state, args):\n",
        "    # specify system parameters\n",
        "    a, b, c, d, m = args\n",
        "\n",
        "    # unpack the state vector\n",
        "    x, y = state\n",
        "    \n",
        "    # map to the new state\n",
        "    return np.array([m*x + a*np.sin(2.*np.pi*x) + b*np.sin(2.*np.pi*x)*np.cos(2.*np.pi*y)\n",
        "                     + c*np.sin(4.*np.pi*x) + d*np.sin(6.*np.pi*x)*np.cos(4.*np.pi*y),\n",
        "                     m*y + a*np.sin(2.*np.pi*y) + b*np.cos(2.*np.pi*x)*np.sin(2.*np.pi*y)\n",
        "                     + c*np.sin(4.*np.pi*y) + d*np.cos(4.*np.pi*x)*np.sin(6.*np.pi*y)])"
      ],
      "execution_count": 0,
      "outputs": []
    },
    {
      "cell_type": "markdown",
      "metadata": {
        "id": "-voWuiAywSjH",
        "colab_type": "text"
      },
      "source": [
        "We can take advantage of the built-in periodicity to produce beautiful tiled patterns. The function ```tile_image``` repurposes most of our existing code, but further creates a quilt-like pattern of smaller images."
      ]
    },
    {
      "cell_type": "code",
      "metadata": {
        "id": "rbSPKhTPwZWy",
        "colab_type": "code",
        "colab": {}
      },
      "source": [
        "def tile_image(func, s0, args, reps):\n",
        "    ''' Plot a tiled image colored by the point's visitation density. '''\n",
        "    # evaluate map over many iterations\n",
        "    N = int(5e6)                                  # number of steps to take\n",
        "    sol = iter_map(func, N, s0, args)\n",
        "\n",
        "    #ignore transient part of solution space\n",
        "    sol = sol[:,2000:]\n",
        "    x, y = sol[0,:], sol[1,:]\n",
        "\n",
        "    # initialize image array\n",
        "    nx = 1000\n",
        "    ny = 1000\n",
        "    nx_tile = nx//reps\n",
        "    ny_tile = ny//reps\n",
        "    image = np.zeros((nx_tile+1, ny_tile+1, 4), dtype=np.uint8)\n",
        "    \n",
        "    # format data to grid\n",
        "    x, y = grid_data(x, y, nx_tile, ny_tile)\n",
        "    \n",
        "    # initialize axes and colormap\n",
        "    f, ax, cmap = make_figure()\n",
        "\n",
        "    # assign colors based on number of times point was visited\n",
        "    colors = color_by_number(x, y, cmap)\n",
        "\n",
        "    # color image pixels\n",
        "    make_map(image, x, y, colors)\n",
        "    \n",
        "    # tile into a quilt\n",
        "    image = np.tile(image, (reps, reps, 1))\n",
        "    \n",
        "    # create a border by padding with some zeros\n",
        "    npad = 100\n",
        "    image = np.pad(image, ((npad,npad), (npad,npad), (0,0)), mode='constant')\n",
        "\n",
        "    # smooth image a little\n",
        "    image = ndimage.uniform_filter(image, size=(5,5,0))\n",
        "\n",
        "    # plot\n",
        "    ax.imshow(np.flipud(image))\n",
        "    return f, ax"
      ],
      "execution_count": 0,
      "outputs": []
    },
    {
      "cell_type": "markdown",
      "metadata": {
        "id": "njf-Xqtgxc62",
        "colab_type": "text"
      },
      "source": [
        "Let's plot."
      ]
    },
    {
      "cell_type": "code",
      "metadata": {
        "id": "SzXVhKmDxCnC",
        "colab_type": "code",
        "colab": {}
      },
      "source": [
        "@widgets.interact_manual(args = ['clover','flower','plus','plus2','plate','cross'], reps = [2,3,4])\n",
        "def periodic_dropdown(args='clover', reps=3):\n",
        "    # suggested parameter sets\n",
        "    clover = (0.25, -0.3, 0.2, 0.3, 1.)\n",
        "    flower = (0.25, -0.3, 0.1, 0.3, 1.)\n",
        "    plus = (0.2, -0.2, 0.2, 0.3, 1.)\n",
        "    plus2 = (0.2, -0.25, 0.2, 0.3, 1.)\n",
        "    plate = (0.2, -0.2, 0., 0.3, 1.)\n",
        "    cross = (0.2, -0.2, 0., 0.3, 0.)\n",
        "\n",
        "    tile_image(periodic, np.array([-0.3, 0.2]), eval(args), reps)"
      ],
      "execution_count": 0,
      "outputs": []
    },
    {
      "cell_type": "markdown",
      "metadata": {
        "id": "dHqjyiqgnlVO",
        "colab_type": "text"
      },
      "source": [
        "Static plotting option:"
      ]
    },
    {
      "cell_type": "code",
      "metadata": {
        "id": "EKtGYdl6nl0L",
        "colab_type": "code",
        "colab": {}
      },
      "source": [
        "# manually enter the 5 parameter values into the variable args\n",
        "# parameters should be comma separated and enclosed in parentheses as shown\n",
        "args = (0.25, -0.3, 0.2, 0.3, 1.)\n",
        "\n",
        "# enter number of tiles per side\n",
        "reps = 3\n",
        "\n",
        "# plot the image\n",
        "tile_image(periodic, np.array([-0.3, 0.2]), args, reps)\n",
        "plt.show()"
      ],
      "execution_count": 0,
      "outputs": []
    },
    {
      "cell_type": "markdown",
      "metadata": {
        "id": "CwteZ6V-n3nx",
        "colab_type": "text"
      },
      "source": [
        "Optionally save your image:"
      ]
    },
    {
      "cell_type": "code",
      "metadata": {
        "id": "tl6qXhu-n-pr",
        "colab_type": "code",
        "colab": {}
      },
      "source": [
        "#*********************** change me **************************#\n",
        "# input the name you want to give your image file as a string\n",
        "im_name = 'my_image'\n",
        "\n",
        "# enter the parameter values\n",
        "args = (0.25, -0.3, 0.2, 0.3, 1.)\n",
        "reps = 3\n",
        "#************************************************************#\n",
        "\n",
        "# plot the image outside of the widget and retain the figure handle f\n",
        "f, ax = tile_image(periodic, np.array([-0.3, 0.2]), args, reps)\n",
        "\n",
        "# save image\n",
        "f.savefig(im_name + '.png')"
      ],
      "execution_count": 0,
      "outputs": []
    },
    {
      "cell_type": "code",
      "metadata": {
        "id": "Mdf1DH45oJJJ",
        "colab_type": "code",
        "colab": {}
      },
      "source": [
        "# download image\n",
        "files.download(im_name + '.png')"
      ],
      "execution_count": 0,
      "outputs": []
    },
    {
      "cell_type": "markdown",
      "metadata": {
        "id": "Nl8UMQ4h03JL",
        "colab_type": "text"
      },
      "source": [
        "## Continuous-time systems\n",
        "\n",
        "Chaotic dynamical systems parameterized by continuous time make for interesting animations! And because chaotic systems are characterized by a sensitive dependence on intital conditions, the possible trajectories can diverge rapidly even when the starting conditions differ only slightly. To investigate these properties, we will look at some famous three-dimensional chaotic systems and animate their evolution in time.\n",
        "\n",
        "First, we need some additional imports for animation and 3D plotting."
      ]
    },
    {
      "cell_type": "code",
      "metadata": {
        "id": "Yu9pxgcBxFlx",
        "colab_type": "code",
        "colab": {}
      },
      "source": [
        "import matplotlib.animation as animation\n",
        "from scipy.integrate import solve_ivp\n",
        "from mpl_toolkits.mplot3d import Axes3D\n",
        "from mpl_toolkits.mplot3d.art3d import Line3DCollection\n",
        "from IPython.display import HTML"
      ],
      "execution_count": 0,
      "outputs": []
    },
    {
      "cell_type": "markdown",
      "metadata": {
        "id": "vQ7ovG2yW04_",
        "colab_type": "text"
      },
      "source": [
        "One very well known chaotic attractor is the **Lorenz attractor**, which arises from the evolution of the differential equations:\n",
        "\n",
        "> $x' = a(y - x)$\n",
        "\n",
        "> $y' = x(b - z) - y$\n",
        "\n",
        "> $z' = xy - cz$\n",
        "\n",
        "We will implement a function ```lorenz``` to evaluate these functions.\n",
        "\n",
        "\n"
      ]
    },
    {
      "cell_type": "code",
      "metadata": {
        "id": "rJe6kKJm1BAE",
        "colab_type": "code",
        "colab": {}
      },
      "source": [
        "@jit\n",
        "def lorenz(t, state, args):\n",
        "    # unpack system parameters\n",
        "    a, b, c = args\n",
        "    \n",
        "    # unpack the state vector\n",
        "    x, y, z = state\n",
        "    \n",
        "    # evaluate system of differential equations at new state\n",
        "    return np.array([a*(y - x),\n",
        "                     x*(b - z) - y,\n",
        "                     x*y - c*z])"
      ],
      "execution_count": 0,
      "outputs": []
    },
    {
      "cell_type": "markdown",
      "metadata": {
        "id": "B3_A4sasbI4Q",
        "colab_type": "text"
      },
      "source": [
        "Note that in contrast to discrete systems, we now have a function that gives us not the next state, but the local time derivative that tells us how to evolve the system. To solve the differential equations, we will use the function ```solve_ivp``` from the ```scipy``` library. Let's define a function ```solve_system``` to format our input conditions and output a list of three arrays $x, y, z$ of the system's trajectory."
      ]
    },
    {
      "cell_type": "code",
      "metadata": {
        "id": "2lAMn-TDcSYW",
        "colab_type": "code",
        "colab": {}
      },
      "source": [
        "def solve_system(system_name, N, tr, params):\n",
        "  ''' Solve selected continuous-time system over time. '''\n",
        "  mapfun, s0, tf, args = eval(system_name), *params\n",
        "  \n",
        "  # time points at which to evaluate\n",
        "  t = np.linspace(0, tf, N)\n",
        "\n",
        "  # solve using scipy solver\n",
        "  sol = solve_ivp(lambda t, s: mapfun(t, s, args), (0, tf), s0, t_eval=t)\n",
        "\n",
        "  x, y, z = sol.y[0,tr:], sol.y[1,tr:], sol.y[2,tr:]\n",
        "  return [x, y, z]"
      ],
      "execution_count": 0,
      "outputs": []
    },
    {
      "cell_type": "markdown",
      "metadata": {
        "id": "Lqjwlu1JdViU",
        "colab_type": "text"
      },
      "source": [
        "Finally, we want to define a few helper functions that will allow us to make colored plots of the trajectories in three dimensions."
      ]
    },
    {
      "cell_type": "code",
      "metadata": {
        "id": "M-ULut1R1E0-",
        "colab_type": "code",
        "colab": {}
      },
      "source": [
        "def make_segments3D(x, y, z):\n",
        "    points = np.array([x, y, z]).T.reshape(-1, 1, 3)\n",
        "    segments = np.concatenate([points[:-1], points[1:]], axis=1)\n",
        "    return segments\n",
        "\n",
        "def colorline3D(ax, x, y, z, cmap):\n",
        "    N = len(x)\n",
        "    norm = plt.Normalize(0,0.9)\n",
        "    segments = make_segments3D(x, y, z)\n",
        "    lc = Line3DCollection(segments, array=np.linspace(0,1,N), cmap=cmap, norm=norm, linewidth=1.5)\n",
        "    return lc\n",
        "\n",
        "def set_limits3D(ax, x, y, z):\n",
        "    ax.set_xlim([np.min(x), np.max(x)])\n",
        "    ax.set_ylim([np.min(y), np.max(y)])\n",
        "    ax.set_zlim([np.min(z), np.max(z)])\n",
        "\n",
        "def make_figure3D():\n",
        "    ''' Set-up figure and colormap. '''\n",
        "    f = plt.figure(figsize=(7,7))\n",
        "    ax = f.add_subplot(projection='3d')\n",
        "    ax.axis('off')\n",
        "    f.tight_layout()\n",
        "\n",
        "    cmap = plt.get_cmap('magma')\n",
        "    return f, ax, cmap"
      ],
      "execution_count": 0,
      "outputs": []
    },
    {
      "cell_type": "markdown",
      "metadata": {
        "id": "CLGD_IQpdf00",
        "colab_type": "text"
      },
      "source": [
        "Now we are ready to plot!"
      ]
    },
    {
      "cell_type": "code",
      "metadata": {
        "id": "tKugSkm51IRm",
        "colab_type": "code",
        "colab": {}
      },
      "source": [
        "system_name = 'lorenz'\n",
        "\n",
        "# initial state, final time, model parameters\n",
        "lorenz_params = np.array([1.,1.,1.]), 40., (10., 28., 8./3.)\n",
        "\n",
        "# solve for the trajectories\n",
        "N = 10000                                     # number of time steps to take\n",
        "tr = 100                                      # discard transient steps\n",
        "x, y, z = solve_system(system_name, N, tr, eval(system_name + '_params'))\n",
        "\n",
        "# plot\n",
        "f, ax, cmap = make_figure3D()\n",
        "ax.add_collection3d(colorline3D(ax, x, y, z, cmap))\n",
        "set_limits3D(ax, x, y, z)\n",
        "plt.show()"
      ],
      "execution_count": 0,
      "outputs": []
    },
    {
      "cell_type": "markdown",
      "metadata": {
        "id": "8gBNxxepfBAO",
        "colab_type": "text"
      },
      "source": [
        "Let's implement another famous example, the **Rossler attractor**. The Rossler system is given by:\n",
        "> $x' = -y - z$\n",
        "\n",
        "> $y' = x + ay$\n",
        "\n",
        "> $z' = b + z(x - c)$"
      ]
    },
    {
      "cell_type": "code",
      "metadata": {
        "id": "BjvNHfkX2VQI",
        "colab_type": "code",
        "colab": {}
      },
      "source": [
        "@jit\n",
        "def rossler(t, state, args):\n",
        "    # unpack system parameters\n",
        "    a, b, c = args\n",
        "    \n",
        "    # unpack the state vector\n",
        "    x, y, z = state\n",
        "    \n",
        "    # evaluate system of differential equations at new state\n",
        "    return np.array([-y - z,\n",
        "                     x + a*y,\n",
        "                     b + z*(x - c)])"
      ],
      "execution_count": 0,
      "outputs": []
    },
    {
      "cell_type": "markdown",
      "metadata": {
        "id": "zNuIJli6iWuW",
        "colab_type": "text"
      },
      "source": [
        "We can test it out by updating our earlier code with the Rossler attractor parameters and changing the system name."
      ]
    },
    {
      "cell_type": "code",
      "metadata": {
        "id": "q6msKaw92j26",
        "colab_type": "code",
        "colab": {}
      },
      "source": [
        "system_name = 'rossler'\n",
        "\n",
        "# initial state, final time, model parameters\n",
        "lorenz_params = np.array([1.,1.,1.]), 40., (10., 28., 8./3.)\n",
        "rossler_params = np.array([1.,1.,0.]), 200., (0.1, 0.1, 14.)\n",
        "\n",
        "# solve for the trajectories\n",
        "N = 10000                                     # number of time steps to take\n",
        "tr = 100                                      # discard transient steps\n",
        "x, y, z = solve_system(system_name, N, tr, eval(system_name + '_params'))\n",
        "\n",
        "# plot\n",
        "f, ax, cmap = make_figure3D()\n",
        "ax.add_collection3d(colorline3D(ax, x, y, z, cmap))\n",
        "set_limits3D(ax, x, y, z)\n",
        "plt.show()"
      ],
      "execution_count": 0,
      "outputs": []
    },
    {
      "cell_type": "markdown",
      "metadata": {
        "id": "R7Ceap70i7gM",
        "colab_type": "text"
      },
      "source": [
        "Now let's make an animation of the output trajectories. Note that because we have to keep plotting more and more segments in each frame, the animation may take a minute to run."
      ]
    },
    {
      "cell_type": "code",
      "metadata": {
        "id": "7KryTfid2t1c",
        "colab_type": "code",
        "colab": {}
      },
      "source": [
        "system_name = 'lorenz'\n",
        "\n",
        "# initial state, final time, model parameters\n",
        "lorenz_params = np.array([1.,9.,-7.]), 15., (10., 28., 8./3.)\n",
        "rossler_params = np.array([1.,-1.,5.]), 80., (0.1, 0.1, 14.)\n",
        "\n",
        "# solve for the trajectories\n",
        "N = 2100                                    # number of time steps to take\n",
        "tr = 100                                    # discard transient steps\n",
        "x, y, z = solve_system(system_name, N, tr, eval(system_name + '_params'))\n",
        "\n",
        "# initialize plot\n",
        "f, ax, cmap = make_figure3D()\n",
        "ax.view_init(30,0)\n",
        "set_limits3D(ax, x, y, z)\n",
        "\n",
        "# starting frame\n",
        "line = colorline3D(ax, x[:2], y[:2], z[:2], cmap)\n",
        "def init():\n",
        "    line.set_array(np.linspace(0, 2./N, 1))\n",
        "    ax.add_collection3d(line)\n",
        "    return line,\n",
        "\n",
        "# animation\n",
        "spf = 4                                     # time steps per frame\n",
        "def animate(i):\n",
        "    # step two time-steps per frame\n",
        "    i = (spf*i)%(N-tr)\n",
        "    line.set_segments(make_segments3D(x[1:i], y[1:i], z[1:i]))\n",
        "    line.set_array(np.linspace(1./N, i/N, i))\n",
        "    ax.view_init(30, 0.6*i/spf)\n",
        "    return line,\n",
        "\n",
        "ani = animation.FuncAnimation(f, animate, init_func=init, frames=(N-tr)//spf, interval=30, blit=True)\n",
        "plt.close(f)\n",
        "\n",
        "# display animation\n",
        "HTML(ani.to_html5_video())"
      ],
      "execution_count": 0,
      "outputs": []
    },
    {
      "cell_type": "markdown",
      "metadata": {
        "id": "KPXTZ7zajf7X",
        "colab_type": "text"
      },
      "source": [
        "### Sensitive dependence on initial conditions\n",
        "\n",
        "Let's make an animation that reveals how the system evolves given slightly different initial conditions. The animation code below was adapted from [this blog](https://jakevdp.github.io/blog/2013/02/16/animating-the-lorentz-system-in-3d/), which includes a number of other physics-inspired Python coding challenges you may want to try!"
      ]
    },
    {
      "cell_type": "code",
      "metadata": {
        "id": "wxkPoqZb3eag",
        "colab_type": "code",
        "colab": {}
      },
      "source": [
        "system_name = 'rossler'\n",
        "\n",
        "# final time, model parameters\n",
        "lorenz_params = 4., (10., 28., 8./3.)\n",
        "rossler_params = 20., (0.1, 0.1, 14.)\n",
        "\n",
        "# initialization parameters\n",
        "L = 12                      # a random starting point will be generated on [-L,L]\n",
        "N_paths = 20                # number of different initial conditions to test                                                \n",
        "np.random.seed(12)\n",
        "s0 = -L + 2*L*np.random.random((N_paths, 3))\n",
        "N = 1000                    # number of time steps to take\n",
        "tr = 0                      # don't discard any transient steps\n",
        "sol = [[]]*N_paths\n",
        "\n",
        "for i, si in enumerate(s0):\n",
        "    params = (si, *eval(system_name + '_params'))\n",
        "    sol[i] = solve_system(system_name, N, tr, params)\n",
        "\n",
        "f, ax, _ = make_figure3D()\n",
        "ax.view_init(30,0)\n",
        "\n",
        "# set limits\n",
        "lims = [[]]*3\n",
        "for s in sol:\n",
        "    lims[0] += [np.min(s[0]), np.max(s[0])]\n",
        "    lims[1] += [np.min(s[1]), np.max(s[1])]\n",
        "    lims[2] += [np.min(s[2]), np.max(s[2])]\n",
        "\n",
        "lims = np.array(lims)\n",
        "set_limits3D(ax, 0.7*lims[0], 0.7*lims[1], 0.7*lims[2])\n",
        "\n",
        "# choose a different color for each trajectory\n",
        "colors = plt.get_cmap('rainbow')(np.linspace(0, 1, N_paths))\n",
        "\n",
        "# initialize lines and points artists for each trajectory\n",
        "lines = sum([ax.plot([], [], [], '-', c=c) for c in colors], [])\n",
        "markers = sum([ax.plot([], [], [], 'o', c=c) for c in colors], [])\n",
        "def init():\n",
        "    for l, m in zip(lines, markers):\n",
        "        l.set_data([], [])\n",
        "        l.set_3d_properties([])\n",
        "        m.set_data([], [])\n",
        "        m.set_3d_properties([])\n",
        "    return lines + markers\n",
        "\n",
        "# animation\n",
        "spf = 2             # time steps per frame\n",
        "def animate(i):\n",
        "    i = (spf*i)%len(sol[0][0])\n",
        "    for l, m, s in zip(lines, markers, sol):\n",
        "        x, y, z = s[0][:i], s[1][:i], s[2][:i]\n",
        "        l.set_data(x, y)\n",
        "        l.set_3d_properties(z)\n",
        "        m.set_data(x[-1:], y[-1:])\n",
        "        m.set_3d_properties(z[-1:])\n",
        "\n",
        "    ax.view_init(30, 0.6*i/spf)\n",
        "    return lines + markers\n",
        "\n",
        "ani = animation.FuncAnimation(f, animate, init_func=init, frames=(N-tr)//spf, interval=30, blit=True)\n",
        "plt.close(f)\n",
        "\n",
        "# display animation\n",
        "HTML(ani.to_html5_video())"
      ],
      "execution_count": 0,
      "outputs": []
    },
    {
      "cell_type": "code",
      "metadata": {
        "id": "QY1iozsqXBtD",
        "colab_type": "code",
        "colab": {}
      },
      "source": [
        ""
      ],
      "execution_count": 0,
      "outputs": []
    }
  ]
}