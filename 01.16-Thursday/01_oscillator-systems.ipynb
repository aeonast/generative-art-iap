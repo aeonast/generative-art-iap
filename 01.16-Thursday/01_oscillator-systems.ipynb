{
  "nbformat": 4,
  "nbformat_minor": 0,
  "metadata": {
    "colab": {
      "name": "physical-systems-oscillators.ipynb",
      "provenance": [],
      "collapsed_sections": [],
      "authorship_tag": "ABX9TyPNGjqbLI1hRGB+LNutYTVM",
      "include_colab_link": true
    },
    "kernelspec": {
      "name": "python3",
      "display_name": "Python 3"
    },
    "widgets": {
      "application/vnd.jupyter.widget-state+json": {
        "2506c99f5720473cb28ed0f575fded15": {
          "model_module": "@jupyter-widgets/controls",
          "model_name": "VBoxModel",
          "state": {
            "_view_name": "VBoxView",
            "_dom_classes": [
              "widget-interact"
            ],
            "_model_name": "VBoxModel",
            "_view_module": "@jupyter-widgets/controls",
            "_model_module_version": "1.5.0",
            "_view_count": null,
            "_view_module_version": "1.5.0",
            "box_style": "",
            "layout": "IPY_MODEL_dce79c05b3764e4ea54e147fc8616417",
            "_model_module": "@jupyter-widgets/controls",
            "children": [
              "IPY_MODEL_7937c172e4fa4969a3ecc2939253abca",
              "IPY_MODEL_08071f8ead0546b6bc95286300b9a2bd",
              "IPY_MODEL_9d8fa6c61fa7480595c7506da4ddac9d",
              "IPY_MODEL_2babd4875bd649f3a500f33dbcefa487"
            ]
          }
        },
        "dce79c05b3764e4ea54e147fc8616417": {
          "model_module": "@jupyter-widgets/base",
          "model_name": "LayoutModel",
          "state": {
            "_view_name": "LayoutView",
            "grid_template_rows": null,
            "right": null,
            "justify_content": null,
            "_view_module": "@jupyter-widgets/base",
            "overflow": null,
            "_model_module_version": "1.2.0",
            "_view_count": null,
            "flex_flow": null,
            "width": null,
            "min_width": null,
            "border": null,
            "align_items": null,
            "bottom": null,
            "_model_module": "@jupyter-widgets/base",
            "top": null,
            "grid_column": null,
            "overflow_y": null,
            "overflow_x": null,
            "grid_auto_flow": null,
            "grid_area": null,
            "grid_template_columns": null,
            "flex": null,
            "_model_name": "LayoutModel",
            "justify_items": null,
            "grid_row": null,
            "max_height": null,
            "align_content": null,
            "visibility": null,
            "align_self": null,
            "height": null,
            "min_height": null,
            "padding": null,
            "grid_auto_rows": null,
            "grid_gap": null,
            "max_width": null,
            "order": null,
            "_view_module_version": "1.2.0",
            "grid_template_areas": null,
            "object_position": null,
            "object_fit": null,
            "grid_auto_columns": null,
            "margin": null,
            "display": null,
            "left": null
          }
        },
        "7937c172e4fa4969a3ecc2939253abca": {
          "model_module": "@jupyter-widgets/controls",
          "model_name": "FloatSliderModel",
          "state": {
            "_view_name": "FloatSliderView",
            "style": "IPY_MODEL_6890b459ec9d49f19d81692c19b0fbbf",
            "_dom_classes": [],
            "description": "Phase shift:",
            "step": 0.1,
            "_model_name": "FloatSliderModel",
            "orientation": "horizontal",
            "max": 3.2,
            "_view_module": "@jupyter-widgets/controls",
            "_model_module_version": "1.5.0",
            "value": 0,
            "_view_count": null,
            "disabled": false,
            "_view_module_version": "1.5.0",
            "min": 0,
            "continuous_update": true,
            "readout_format": ".1f",
            "description_tooltip": null,
            "readout": true,
            "_model_module": "@jupyter-widgets/controls",
            "layout": "IPY_MODEL_e64a25afd11e435bb941eef2a15e2ce9"
          }
        },
        "08071f8ead0546b6bc95286300b9a2bd": {
          "model_module": "@jupyter-widgets/controls",
          "model_name": "DropdownModel",
          "state": {
            "_options_labels": [
              "hsv",
              "twilight",
              "magma",
              "rainbow",
              "flag"
            ],
            "_view_name": "DropdownView",
            "style": "IPY_MODEL_cc5a8ec5bfaa4b25978d807b4598c0c7",
            "_dom_classes": [],
            "description": "colormap",
            "_model_name": "DropdownModel",
            "index": 0,
            "_view_module": "@jupyter-widgets/controls",
            "_model_module_version": "1.5.0",
            "_view_count": null,
            "disabled": false,
            "_view_module_version": "1.5.0",
            "description_tooltip": null,
            "_model_module": "@jupyter-widgets/controls",
            "layout": "IPY_MODEL_cfceecd748314c1d986ba1af29445465"
          }
        },
        "9d8fa6c61fa7480595c7506da4ddac9d": {
          "model_module": "@jupyter-widgets/controls",
          "model_name": "ButtonModel",
          "state": {
            "_view_name": "ButtonView",
            "style": "IPY_MODEL_b81ee0eca6104fe386edcbefc2c01ff8",
            "_dom_classes": [],
            "description": "Run Interact",
            "_model_name": "ButtonModel",
            "button_style": "",
            "_view_module": "@jupyter-widgets/controls",
            "_model_module_version": "1.5.0",
            "tooltip": "",
            "_view_count": null,
            "disabled": false,
            "_view_module_version": "1.5.0",
            "layout": "IPY_MODEL_f101fc1356314da79854382fc2537049",
            "_model_module": "@jupyter-widgets/controls",
            "icon": ""
          }
        },
        "2babd4875bd649f3a500f33dbcefa487": {
          "model_module": "@jupyter-widgets/output",
          "model_name": "OutputModel",
          "state": {
            "_view_name": "OutputView",
            "msg_id": "",
            "_dom_classes": [],
            "_model_name": "OutputModel",
            "outputs": [
              {
                "output_type": "pyerr",
                "metadata": {
                  "tags": []
                },
                "ename": "NameError",
                "evalue": "ignored",
                "traceback": [
                  "\u001b[0;31m---------------------------------------------------------------------------\u001b[0m",
                  "\u001b[0;31mNameError\u001b[0m                                 Traceback (most recent call last)",
                  "\u001b[0;32m/usr/local/lib/python3.6/dist-packages/ipywidgets/widgets/interaction.py\u001b[0m in \u001b[0;36mupdate\u001b[0;34m(self, *args)\u001b[0m\n\u001b[1;32m    254\u001b[0m                     \u001b[0mvalue\u001b[0m \u001b[0;34m=\u001b[0m \u001b[0mwidget\u001b[0m\u001b[0;34m.\u001b[0m\u001b[0mget_interact_value\u001b[0m\u001b[0;34m(\u001b[0m\u001b[0;34m)\u001b[0m\u001b[0;34m\u001b[0m\u001b[0;34m\u001b[0m\u001b[0m\n\u001b[1;32m    255\u001b[0m                     \u001b[0mself\u001b[0m\u001b[0;34m.\u001b[0m\u001b[0mkwargs\u001b[0m\u001b[0;34m[\u001b[0m\u001b[0mwidget\u001b[0m\u001b[0;34m.\u001b[0m\u001b[0m_kwarg\u001b[0m\u001b[0;34m]\u001b[0m \u001b[0;34m=\u001b[0m \u001b[0mvalue\u001b[0m\u001b[0;34m\u001b[0m\u001b[0;34m\u001b[0m\u001b[0m\n\u001b[0;32m--> 256\u001b[0;31m                 \u001b[0mself\u001b[0m\u001b[0;34m.\u001b[0m\u001b[0mresult\u001b[0m \u001b[0;34m=\u001b[0m \u001b[0mself\u001b[0m\u001b[0;34m.\u001b[0m\u001b[0mf\u001b[0m\u001b[0;34m(\u001b[0m\u001b[0;34m**\u001b[0m\u001b[0mself\u001b[0m\u001b[0;34m.\u001b[0m\u001b[0mkwargs\u001b[0m\u001b[0;34m)\u001b[0m\u001b[0;34m\u001b[0m\u001b[0;34m\u001b[0m\u001b[0m\n\u001b[0m\u001b[1;32m    257\u001b[0m                 \u001b[0mshow_inline_matplotlib_plots\u001b[0m\u001b[0;34m(\u001b[0m\u001b[0;34m)\u001b[0m\u001b[0;34m\u001b[0m\u001b[0;34m\u001b[0m\u001b[0m\n\u001b[1;32m    258\u001b[0m                 \u001b[0;32mif\u001b[0m \u001b[0mself\u001b[0m\u001b[0;34m.\u001b[0m\u001b[0mauto_display\u001b[0m \u001b[0;32mand\u001b[0m \u001b[0mself\u001b[0m\u001b[0;34m.\u001b[0m\u001b[0mresult\u001b[0m \u001b[0;32mis\u001b[0m \u001b[0;32mnot\u001b[0m \u001b[0;32mNone\u001b[0m\u001b[0;34m:\u001b[0m\u001b[0;34m\u001b[0m\u001b[0;34m\u001b[0m\u001b[0m\n",
                  "\u001b[0;32m<ipython-input-3-4261fad89c97>\u001b[0m in \u001b[0;36minteractive_slider_plot\u001b[0;34m(a, colormap)\u001b[0m\n\u001b[1;32m      9\u001b[0m                          colormap = ['hsv','twilight','magma','rainbow','flag'])\n\u001b[1;32m     10\u001b[0m \u001b[0;32mdef\u001b[0m \u001b[0minteractive_slider_plot\u001b[0m\u001b[0;34m(\u001b[0m\u001b[0ma\u001b[0m \u001b[0;34m=\u001b[0m \u001b[0;36m0.\u001b[0m\u001b[0;34m,\u001b[0m \u001b[0mcolormap\u001b[0m\u001b[0;34m=\u001b[0m\u001b[0;34m'hsv'\u001b[0m\u001b[0;34m)\u001b[0m\u001b[0;34m:\u001b[0m\u001b[0;34m\u001b[0m\u001b[0;34m\u001b[0m\u001b[0m\n\u001b[0;32m---> 11\u001b[0;31m     \u001b[0mplt\u001b[0m\u001b[0;34m.\u001b[0m\u001b[0mclose\u001b[0m\u001b[0;34m(\u001b[0m\u001b[0;34m)\u001b[0m\u001b[0;34m\u001b[0m\u001b[0;34m\u001b[0m\u001b[0m\n\u001b[0m\u001b[1;32m     12\u001b[0m     \u001b[0mv\u001b[0m \u001b[0;34m=\u001b[0m \u001b[0;36m0.5\u001b[0m\u001b[0;34m;\u001b[0m \u001b[0mK\u001b[0m \u001b[0;34m=\u001b[0m \u001b[0;36m0.2\u001b[0m\u001b[0;34m;\u001b[0m \u001b[0mN\u001b[0m \u001b[0;34m=\u001b[0m \u001b[0;36m80\u001b[0m\u001b[0;34m\u001b[0m\u001b[0;34m\u001b[0m\u001b[0m\n\u001b[1;32m     13\u001b[0m     \u001b[0mlat\u001b[0m \u001b[0;34m=\u001b[0m \u001b[0minit_lattice\u001b[0m\u001b[0;34m(\u001b[0m\u001b[0mN\u001b[0m\u001b[0;34m,\u001b[0m \u001b[0mseed\u001b[0m\u001b[0;34m=\u001b[0m\u001b[0;36m12\u001b[0m\u001b[0;34m)\u001b[0m\u001b[0;34m\u001b[0m\u001b[0;34m\u001b[0m\u001b[0m\n",
                  "\u001b[0;31mNameError\u001b[0m: name 'plt' is not defined"
                ]
              }
            ],
            "_view_module": "@jupyter-widgets/output",
            "_model_module_version": "1.0.0",
            "_view_count": null,
            "_view_module_version": "1.0.0",
            "layout": "IPY_MODEL_5a1cc1267a904faa8f9d403f16b6c4b3",
            "_model_module": "@jupyter-widgets/output"
          }
        },
        "6890b459ec9d49f19d81692c19b0fbbf": {
          "model_module": "@jupyter-widgets/controls",
          "model_name": "SliderStyleModel",
          "state": {
            "_view_name": "StyleView",
            "handle_color": null,
            "_model_name": "SliderStyleModel",
            "description_width": "",
            "_view_module": "@jupyter-widgets/base",
            "_model_module_version": "1.5.0",
            "_view_count": null,
            "_view_module_version": "1.2.0",
            "_model_module": "@jupyter-widgets/controls"
          }
        },
        "e64a25afd11e435bb941eef2a15e2ce9": {
          "model_module": "@jupyter-widgets/base",
          "model_name": "LayoutModel",
          "state": {
            "_view_name": "LayoutView",
            "grid_template_rows": null,
            "right": null,
            "justify_content": null,
            "_view_module": "@jupyter-widgets/base",
            "overflow": null,
            "_model_module_version": "1.2.0",
            "_view_count": null,
            "flex_flow": null,
            "width": null,
            "min_width": null,
            "border": null,
            "align_items": null,
            "bottom": null,
            "_model_module": "@jupyter-widgets/base",
            "top": null,
            "grid_column": null,
            "overflow_y": null,
            "overflow_x": null,
            "grid_auto_flow": null,
            "grid_area": null,
            "grid_template_columns": null,
            "flex": null,
            "_model_name": "LayoutModel",
            "justify_items": null,
            "grid_row": null,
            "max_height": null,
            "align_content": null,
            "visibility": null,
            "align_self": null,
            "height": null,
            "min_height": null,
            "padding": null,
            "grid_auto_rows": null,
            "grid_gap": null,
            "max_width": null,
            "order": null,
            "_view_module_version": "1.2.0",
            "grid_template_areas": null,
            "object_position": null,
            "object_fit": null,
            "grid_auto_columns": null,
            "margin": null,
            "display": null,
            "left": null
          }
        },
        "cc5a8ec5bfaa4b25978d807b4598c0c7": {
          "model_module": "@jupyter-widgets/controls",
          "model_name": "DescriptionStyleModel",
          "state": {
            "_view_name": "StyleView",
            "_model_name": "DescriptionStyleModel",
            "description_width": "",
            "_view_module": "@jupyter-widgets/base",
            "_model_module_version": "1.5.0",
            "_view_count": null,
            "_view_module_version": "1.2.0",
            "_model_module": "@jupyter-widgets/controls"
          }
        },
        "cfceecd748314c1d986ba1af29445465": {
          "model_module": "@jupyter-widgets/base",
          "model_name": "LayoutModel",
          "state": {
            "_view_name": "LayoutView",
            "grid_template_rows": null,
            "right": null,
            "justify_content": null,
            "_view_module": "@jupyter-widgets/base",
            "overflow": null,
            "_model_module_version": "1.2.0",
            "_view_count": null,
            "flex_flow": null,
            "width": null,
            "min_width": null,
            "border": null,
            "align_items": null,
            "bottom": null,
            "_model_module": "@jupyter-widgets/base",
            "top": null,
            "grid_column": null,
            "overflow_y": null,
            "overflow_x": null,
            "grid_auto_flow": null,
            "grid_area": null,
            "grid_template_columns": null,
            "flex": null,
            "_model_name": "LayoutModel",
            "justify_items": null,
            "grid_row": null,
            "max_height": null,
            "align_content": null,
            "visibility": null,
            "align_self": null,
            "height": null,
            "min_height": null,
            "padding": null,
            "grid_auto_rows": null,
            "grid_gap": null,
            "max_width": null,
            "order": null,
            "_view_module_version": "1.2.0",
            "grid_template_areas": null,
            "object_position": null,
            "object_fit": null,
            "grid_auto_columns": null,
            "margin": null,
            "display": null,
            "left": null
          }
        },
        "b81ee0eca6104fe386edcbefc2c01ff8": {
          "model_module": "@jupyter-widgets/controls",
          "model_name": "ButtonStyleModel",
          "state": {
            "_view_name": "StyleView",
            "_model_name": "ButtonStyleModel",
            "_view_module": "@jupyter-widgets/base",
            "_model_module_version": "1.5.0",
            "_view_count": null,
            "button_color": null,
            "font_weight": "",
            "_view_module_version": "1.2.0",
            "_model_module": "@jupyter-widgets/controls"
          }
        },
        "f101fc1356314da79854382fc2537049": {
          "model_module": "@jupyter-widgets/base",
          "model_name": "LayoutModel",
          "state": {
            "_view_name": "LayoutView",
            "grid_template_rows": null,
            "right": null,
            "justify_content": null,
            "_view_module": "@jupyter-widgets/base",
            "overflow": null,
            "_model_module_version": "1.2.0",
            "_view_count": null,
            "flex_flow": null,
            "width": null,
            "min_width": null,
            "border": null,
            "align_items": null,
            "bottom": null,
            "_model_module": "@jupyter-widgets/base",
            "top": null,
            "grid_column": null,
            "overflow_y": null,
            "overflow_x": null,
            "grid_auto_flow": null,
            "grid_area": null,
            "grid_template_columns": null,
            "flex": null,
            "_model_name": "LayoutModel",
            "justify_items": null,
            "grid_row": null,
            "max_height": null,
            "align_content": null,
            "visibility": null,
            "align_self": null,
            "height": null,
            "min_height": null,
            "padding": null,
            "grid_auto_rows": null,
            "grid_gap": null,
            "max_width": null,
            "order": null,
            "_view_module_version": "1.2.0",
            "grid_template_areas": null,
            "object_position": null,
            "object_fit": null,
            "grid_auto_columns": null,
            "margin": null,
            "display": null,
            "left": null
          }
        }
      }
    }
  },
  "cells": [
    {
      "cell_type": "markdown",
      "metadata": {
        "id": "view-in-github",
        "colab_type": "text"
      },
      "source": [
        "<a href=\"https://colab.research.google.com/github/gvarnavi/generative-art-iap/blob/master/01.16-Thursday/01_oscillator-systems.ipynb\" target=\"_parent\"><img src=\"https://colab.research.google.com/assets/colab-badge.svg\" alt=\"Open In Colab\"/></a>"
      ]
    },
    {
      "cell_type": "markdown",
      "metadata": {
        "id": "6KIyXSD84u8m",
        "colab_type": "text"
      },
      "source": [
        "# Physical Systems - Oscillators\n",
        "\n",
        "As we gradually relax the discrete properties of our physical systems to continuous ones, the next model we will look at is the two-dimensional **Kuramoto model** of interacting oscillators. This is a system designed to model synchronization, such as of circadian systems of plants and animals.\n",
        "![cell_vs_osc](https://drive.google.com/uc?id=1g-qXjj4_XB5YtwBakklxHcERaO1amngy)\n",
        "\n",
        "Much like the cells in our cellular automata, here we consider a lattice of oscillators which interact with one another. However, rather than assigning a binary state, 0 or 1, each oscillator carries a continuous state - a *phase* - which varies from $0$ to $2\\pi$. These phases evolve continuously in time, governed by an ordinary differential equation (ODE) which prescribes their evolution based on nearest-neighbor interactions.\n",
        "\n",
        "First, let's import some necessary packages.\n",
        "\n"
      ]
    },
    {
      "cell_type": "code",
      "metadata": {
        "id": "g3PVoh5pkXtV",
        "colab_type": "code",
        "colab": {}
      },
      "source": [
        "%matplotlib inline\n",
        "import numpy as np\n",
        "from numba import jit # enables compiling for speedup\n",
        "from scipy.integrate import solve_ivp\n",
        "import matplotlib.pyplot as plt\n",
        "import matplotlib\n",
        "from matplotlib.colors import Normalize\n",
        "import time"
      ],
      "execution_count": 0,
      "outputs": []
    },
    {
      "cell_type": "markdown",
      "metadata": {
        "id": "Q8KEHQHLgFW6",
        "colab_type": "text"
      },
      "source": [
        "Before we delve into the mathematical model, let's write a routine to initialize a random lattice of such oscillators.\n",
        "\n",
        "\n",
        "> **Exercise:** Implement the initialization of an $N\\times N$ array of random phases on the range $[0,2\\pi)$.\n",
        "\n",
        "> Note: The ```numpy``` function ```np.random.rand(N,N)``` will return an $N\\times N$ array of random numbers on the range $[0,1)$, and ```np.pi``` returns the value of $\\pi$."
      ]
    },
    {
      "cell_type": "code",
      "metadata": {
        "id": "3FzDLD8wmWi_",
        "colab_type": "code",
        "colab": {}
      },
      "source": [
        "def init_lattice(N, seed):\n",
        "    '''Initialize an NxN lattice of oscillators with random phases.'''\n",
        "    # set random seed.\n",
        "    np.random.seed(seed)\n",
        "    \n",
        "    lat = ?\n",
        "    return lat"
      ],
      "execution_count": 0,
      "outputs": []
    },
    {
      "cell_type": "markdown",
      "metadata": {
        "id": "FybcGHSVghBr",
        "colab_type": "text"
      },
      "source": [
        "Next, we define our helper functions for plotting the lattice."
      ]
    },
    {
      "cell_type": "code",
      "metadata": {
        "id": "Y3HB_-93nKMk",
        "colab_type": "code",
        "colab": {}
      },
      "source": [
        "import matplotlib.animation as animation\n",
        "from IPython.display import HTML\n",
        "\n",
        "# calculate RGB colors from a matplotlib colormap.\n",
        "def get_colors(theta, colormap):\n",
        "    '''\n",
        "    Map an array of periodic values (0 to 2*pi) to RGBA color channels of a matplotlib colormap.\n",
        "    theta - the array of values.\n",
        "    colormap - the name of the colormap to use.\n",
        "    '''\n",
        "    theta = np.mod(theta, 2*np.pi)                            # shift all theta to lie on [0,2*pi], since values are cyclic.\n",
        "    norm = Normalize(vmin=0.,vmax=2*np.pi)                    # set the color range from [0,2*pi]\n",
        "    cmap = plt.get_cmap(colormap)                             # get the colormap object\n",
        "    colors = cmap(norm(theta))                                # evaluate the colormap to get color channels (RGBA)\n",
        "    colors[..., -1] = 0.8                                     # change the opacity\n",
        "    return colors\n",
        "\n",
        "# Plot a single snapshot of the lattice.\n",
        "def plot_lattice(theta, colormap='hsv'):\n",
        "    '''\n",
        "    Plot a lattice of oscillators (phases) as a color image.\n",
        "    theta - the array of oscillator phases.\n",
        "    colormap - an optional specification for a colormap to use.\n",
        "    '''\n",
        "    fig, ax = plt.subplots(1,1,figsize=(6,6))                 # initialize figure\n",
        "    colors = get_colors(theta, colormap)                      # get colors associated with each theta value\n",
        "    im = ax.imshow(colors, extent=[-1, 1, -1, 1])             # plot the colors\n",
        "    ax.tick_params(labelsize=14)                              # axis settings\n",
        "    ax.set_xlim(-1,1); ax.set_ylim(-1,1)\n",
        "    ax.axis('off'); ax.grid(False)\n",
        "    return fig, ax, im\n",
        "\n",
        "# Tile 6 snapshots from a simulation of the oscillators.\n",
        "def tile_lattice(N, sol, colormap='hsv'):\n",
        "    '''\n",
        "    Tile 6 snapshots of a simulation into one figure.\n",
        "    N - the size of the lattice in each dimension.\n",
        "    sol - the solution object returned by the ODE solver.\n",
        "    colormap - an optional specification for a colormap to use.\n",
        "    '''\n",
        "    fig, axes = plt.subplots(2,3,figsize=(12,8))\n",
        "    step = sol.y.shape[1]//6\n",
        "    for i, ax in enumerate(axes.flat):\n",
        "        theta = sol.y[:,i*step].reshape(N,N)\n",
        "        colors = get_colors(theta, colormap)\n",
        "        ax.imshow(colors, extent=[-1, 1, -1, 1])\n",
        "        ax.tick_params(labelsize=14)\n",
        "        ax.set_xlim(-1,1); ax.set_ylim(-1,1)\n",
        "        ax.axis('off')\n",
        "        ax.grid(False)\n",
        "    plt.subplots_adjust(wspace=0.1, hspace=0.1)\n",
        "\n",
        "# generate a sequence of plots assembled into an animation.\n",
        "def animate_lattice(N, sol, colormap='hsv'):\n",
        "    '''\n",
        "    Animate the oscillator system.\n",
        "    N - the size of the lattice in each dimension.\n",
        "    sol - the solution object returned by the ODE solver.\n",
        "    colormap - an optional specification for a colormap to use.\n",
        "    '''\n",
        "    frames = sol.y.shape[1]\n",
        "    theta = sol.y[:,0].reshape(N,N)\n",
        "    fig, ax, im = plot_lattice(theta, colormap)\n",
        "\n",
        "    def animate(i):\n",
        "        '''Plot updates for animation.'''\n",
        "        theta = sol.y[:,i].reshape(N,N)\n",
        "        colors = get_colors(theta, colormap)\n",
        "        im.set_data(colors)\n",
        "        return im,\n",
        "\n",
        "    ani = animation.FuncAnimation(fig, animate, frames=frames, interval=50, blit=True)\n",
        "    plt.close(fig)\n",
        "    return ani"
      ],
      "execution_count": 0,
      "outputs": []
    },
    {
      "cell_type": "markdown",
      "metadata": {
        "id": "4agGpunXhGgx",
        "colab_type": "text"
      },
      "source": [
        "Let's create a system of $100\\times 100$ oscillators."
      ]
    },
    {
      "cell_type": "code",
      "metadata": {
        "id": "GRgUIHWeo9va",
        "colab_type": "code",
        "colab": {}
      },
      "source": [
        "# lattice size\n",
        "N = ?\n",
        "\n",
        "# random seed\n",
        "seed = ?\n",
        "\n",
        "# generate the random lattice\n",
        "lat = init_lattice(N, seed)\n",
        "\n",
        "# plot snapshot\n",
        "fig, ax, im = plot_lattice(lat)\n",
        "plt.show()"
      ],
      "execution_count": 0,
      "outputs": []
    },
    {
      "cell_type": "markdown",
      "metadata": {
        "id": "XTnEh8H_hTdH",
        "colab_type": "text"
      },
      "source": [
        "The differential equation which governs the evolution of each oscillator's phase $\\theta_i$ is given by\n",
        "\n",
        "$$\n",
        "\\frac{d\\theta_i}{dt} = \\omega + K\\sum_{j\\in N(i)}\\sin(\\theta_j-\\theta_i)\n",
        "$$\n",
        "\n",
        "where the sum is performed over all oscillators $j$ in the neighborhood $N(i)$ of oscillator $i$. Here, $\\omega$ is a constant angular velocity, and $K$ a coupling strength between neighbors. We would like to define a function which takes as its input $t$, the array of all $\\theta$, $\\omega$, and $K$, and returns an array $d\\theta/dt$. Since the ODE involves a sum over discrete neighbors, it should appear similar to the update rule for cellular automata. As a result, we can try to use discrete convolution to perform this sum.\n",
        "\n",
        "However, in its current form, $\\sum_{j\\in N(i)}\\sin(\\theta_j-\\theta_i)$ cannot be carried out by convolution, since $\\sin(\\theta_j-\\theta_i)$ is not linear in $\\theta_i$ and $\\theta_j$. What can we do?\n",
        "\n",
        "When in doubt, apply a trigonometric identity! Let's use\n",
        "\n",
        "$$\n",
        "\\sin(\\alpha-\\beta) = \\sin(\\alpha)\\cos(\\beta) - \\cos(\\alpha)\\sin(\\beta)\n",
        "$$\n",
        "\n",
        "to rewrite the above expression to\n",
        "\n",
        "$$\n",
        "\\sum_{j\\in N(i)}\\sin(\\theta_j-\\theta_i) = \\cos(\\theta_i)\\sum_{j\\in N(i)}\\sin(\\theta_j) - \\sin(\\theta_i)\\sum_{j\\in N(i)}\\cos(\\theta_j)\n",
        "$$\n",
        "\n",
        "recognizing that $\\theta_i$ is a constant with respect to the sum and may be pulled out. This looks a lot better suited for convolution! While each of our two sums is not linear in $\\theta_i$ and $\\theta_j$, it *is* linear in their individual trigonometric transformations $\\sin(\\theta_i)$ and $\\sin(\\theta_j)$ (and $\\cos(\\theta_i)$ and $\\cos(\\theta_j)$).\n",
        "\n",
        "We'll make one small extension to our ODE by introducing a constant phase shift $\\alpha$ between $\\theta_i$ and $\\theta_j$:\n",
        "\n",
        "$$\n",
        "\\frac{d\\theta_i}{dt} = \\omega + K\\sum_{j\\in N(i)}\\sin(\\theta_j-\\theta_i - \\alpha)\n",
        "$$\n",
        "\n",
        "By grouping $\\theta_i$ and $\\alpha$ together, we can write this directly in our expression suited for convolution:\n",
        "$$\n",
        "\\sum_{j\\in N(i)}\\sin(\\theta_j-\\theta_i-\\alpha) = \\cos(\\theta_i+\\alpha)\\sum_{j\\in N(i)}\\sin(\\theta_j) - \\sin(\\theta_i+\\alpha)\\sum_{j\\in N(i)}\\cos(\\theta_j)\n",
        "$$\n",
        "\n",
        "Putting everything together,\n",
        "$$\n",
        "\\frac{d\\theta_i}{dt}\n",
        "= \\omega + K\\cos(\\theta_i+\\alpha)\\sum_{j\\in N(i)}\\sin(\\theta_j) - K\\sin(\\theta_i+\\alpha)\\sum_{j\\in N(i)}\\cos(\\theta_j)\n",
        "$$\n",
        "\n",
        "We implement the ODE in the function ```kuramoto``` below using a von Neumann neighborhood of range $r=2$, which corresponds to the convolution kernel\n",
        "\n",
        "$$\n",
        "\\begin{bmatrix}\n",
        "0 & 0 & 1 & 0 & 0 \\\\\n",
        "0 & 1 & 1 & 1 & 0 \\\\\n",
        "1 & 1 & 0 & 1 & 1 \\\\\n",
        "0 & 1 & 1 & 1 & 0 \\\\\n",
        "0 & 0 & 1 & 0 & 0 \n",
        "\\end{bmatrix}\n",
        "$$\n",
        "\n",
        "Notice that the center cell is zero (\"outer totalistic\"), as only the neighbors contribute to the sum."
      ]
    },
    {
      "cell_type": "code",
      "metadata": {
        "id": "nC5kGjh0pcvh",
        "colab_type": "code",
        "colab": {}
      },
      "source": [
        "from scipy.signal import convolve2d\n",
        "\n",
        "def kuramoto(t, theta, N, v, K, a):\n",
        "    '''ODE for the Kuramoto oscillator system.\n",
        "        t - the current time.\n",
        "        theta - a *linear* array of oscillator phases (linear for compatibility with solver).\n",
        "        N - the system size in each dimension.\n",
        "        v - the constant angular velocity.\n",
        "        K - the coupling strength.\n",
        "        a - the phase shift.\n",
        "    '''\n",
        "    theta = theta.reshape(N,N)          # reshape into square format for convolution.\n",
        "\n",
        "    kernel = np.array([[0,0,1,0,0],     # define the convolution kernel with a radius of 2, with ones \n",
        "                       [0,1,1,1,0],     # in all neighbor positions and zero in the center.\n",
        "                       [1,1,0,1,1],\n",
        "                       [0,1,1,1,0],\n",
        "                       [0,0,1,0,0]])\n",
        "    \n",
        "    sint = ?            \n",
        "    cost = ?\n",
        "    sum_sint = convolve2d(sint, kernel,\n",
        "                         mode = 'same',\n",
        "                         boundary = 'wrap') # periodic boundaries\n",
        "    sum_cost = convolve2d(cost, kernel,\n",
        "                         mode = 'same',\n",
        "                         boundary = 'wrap') # periodic boundaries\n",
        "\n",
        "    dtheta = ?\n",
        "    return dtheta.ravel() # ravel back to linear form for solver."
      ],
      "execution_count": 0,
      "outputs": []
    },
    {
      "cell_type": "markdown",
      "metadata": {
        "id": "plwHgi6mouHu",
        "colab_type": "text"
      },
      "source": [
        "The wrapper function ```solve``` below will take our ODE function as input along with specifications for the start and end integration time, the number of evenly spaced outputs to produce along the way, the initial conditions, and any model parameters."
      ]
    },
    {
      "cell_type": "code",
      "metadata": {
        "id": "3tN5e2Arrgcl",
        "colab_type": "code",
        "colab": {}
      },
      "source": [
        "def solve(fun, ti, tf, nt, qi, args, rtol=1e-6, atol=1e-6):\n",
        "    '''\n",
        "    fun - the function to integrate\n",
        "    ti, tf - starting and ending integration times.\n",
        "    nt - number of equally spaced output points on [ti, tf].\n",
        "    qi - initial conditions [x, y, th].\n",
        "    args - tuple of model parameters (J, K).\n",
        "    rtol, atol - tolerance for tuning the accuracy of the solver.\n",
        "    '''\n",
        "    t_span = [ti, tf]                   # integration range\n",
        "    t_eval = np.linspace(ti, tf, nt)    # evaluation points\n",
        "    t1 = time.time()\n",
        "    \n",
        "    # integrate the differential equation using scipy.integrate.solve_ivp\n",
        "    sol = solve_ivp(lambda t, y: fun(t,y,*args), t_span, np.hstack(qi), t_eval=t_eval,\n",
        "                    rtol=rtol, atol=atol)\n",
        "    t2 = time.time()\n",
        "    \n",
        "    #print(\"Elapsed time: %2.2f seconds.\"%((t2-t1)))\n",
        "    return sol"
      ],
      "execution_count": 0,
      "outputs": []
    },
    {
      "cell_type": "markdown",
      "metadata": {
        "id": "SXS-J2etplGI",
        "colab_type": "text"
      },
      "source": [
        "Below, we'll use the widget to test varying the phase shift between oscillators."
      ]
    },
    {
      "cell_type": "code",
      "metadata": {
        "id": "sd1HDg9dpkia",
        "colab_type": "code",
        "outputId": "0ad546db-4085-41b6-e866-f69238217799",
        "colab": {
          "base_uri": "https://localhost:8080/",
          "height": 451,
          "referenced_widgets": [
            "2506c99f5720473cb28ed0f575fded15",
            "dce79c05b3764e4ea54e147fc8616417",
            "7937c172e4fa4969a3ecc2939253abca",
            "08071f8ead0546b6bc95286300b9a2bd",
            "9d8fa6c61fa7480595c7506da4ddac9d",
            "2babd4875bd649f3a500f33dbcefa487",
            "6890b459ec9d49f19d81692c19b0fbbf",
            "e64a25afd11e435bb941eef2a15e2ce9",
            "cc5a8ec5bfaa4b25978d807b4598c0c7",
            "cfceecd748314c1d986ba1af29445465",
            "b81ee0eca6104fe386edcbefc2c01ff8",
            "f101fc1356314da79854382fc2537049"
          ]
        }
      },
      "source": [
        "import ipywidgets as widgets\n",
        "from IPython.display import display\n",
        "\n",
        "phase_slider = widgets.FloatSlider(\n",
        "    value=0., min=0.0, max=3.2, step=0.1,\n",
        "    description='Phase shift:', readout_format='.1f',)\n",
        "\n",
        "@widgets.interact_manual(a = phase_slider,\n",
        "                         colormap = ['hsv','twilight','magma','rainbow','flag'])\n",
        "def interactive_slider_plot(a = 0., colormap='hsv'):\n",
        "    plt.close()\n",
        "    v = 0.5; K = 0.2; N = 80\n",
        "    lat = init_lattice(N, seed=12)\n",
        "    frames = 6\n",
        "    sol = solve(kuramoto, 0, 50, frames, lat.ravel(), args = (N, v, K, a))\n",
        "    tile_lattice(N, sol, colormap)\n",
        "    plt.show()"
      ],
      "execution_count": 0,
      "outputs": [
        {
          "output_type": "display_data",
          "data": {
            "application/vnd.jupyter.widget-view+json": {
              "model_id": "2506c99f5720473cb28ed0f575fded15",
              "version_minor": 0,
              "version_major": 2
            },
            "text/plain": [
              "interactive(children=(FloatSlider(value=0.0, description='Phase shift:', max=3.2, readout_format='.1f'), Dropd…"
            ]
          },
          "metadata": {
            "tags": []
          }
        }
      ]
    },
    {
      "cell_type": "markdown",
      "metadata": {
        "id": "yWdJ6b8j2mQm",
        "colab_type": "text"
      },
      "source": [
        "Below, we can define the phase shift manually and run the cell to make a movie."
      ]
    },
    {
      "cell_type": "code",
      "metadata": {
        "id": "x15qC2a52ei0",
        "colab_type": "code",
        "colab": {}
      },
      "source": [
        "# adjust the phase shift and colormap\n",
        "a = 0.6\n",
        "colormap = 'twilight'\n",
        "\n",
        "# *** setup and movie-making ***\n",
        "# lattice size, random seed, and fixed model parameters.\n",
        "N = 100; seed = 12; v = 0.5; K = 0.2\n",
        "\n",
        "# generate the random lattice\n",
        "lat = init_lattice(N, seed)\n",
        "\n",
        "# run simulation\n",
        "frames = 150\n",
        "sol = solve(kuramoto, 0, 20, frames, lat.ravel(), args = (N, v, K, a))\n",
        "\n",
        "# create animation\n",
        "ani = animate_lattice(N, sol, colormap)\n",
        "\n",
        "# Display the animation\n",
        "HTML(ani.to_html5_video())"
      ],
      "execution_count": 0,
      "outputs": []
    },
    {
      "cell_type": "markdown",
      "metadata": {
        "id": "uRjTN5dumXDz",
        "colab_type": "text"
      },
      "source": [
        "Next, we will consider what happens if we allow our oscillators to move freely in space. Such systems exhibit *spatial* self-organization, much like swarms of insects or flocks of birds. The example presented here is based on the following paper: \n",
        "\n",
        "> O’Keeffe, K.P., Hong, H. & Strogatz, S.H. Oscillators that sync and swarm. Nat Commun 8, 1504 (2017) doi:10.1038/s41467-017-01190-3 https://www.nature.com/articles/s41467-017-01190-3.\n",
        "\n",
        "![cell_vs_swarm](https://drive.google.com/uc?id=1zMMT_zRqTRHocBSRPKDLQ62BO88VfmXn)\n",
        "\n",
        "Not only are the oscillators free to move continuously in 2D space, their interactions are no longer limited to nearest neighbors, but are long-ranged. Still maintaining the notion of continuous states - or phases - of each oscillator, we will see that this model system has interesting analogues to the concept of phases and phase separation in physics. Finally, due to these oscillators' collective swarm-like behavior brought about by long-ranged interactions, and the oscillatory nature of their internal states, the authors name such agents \"swarmalators.\""
      ]
    },
    {
      "cell_type": "code",
      "metadata": {
        "id": "cGh1POoL1v1P",
        "colab_type": "code",
        "colab": {}
      },
      "source": [
        "# define a custom plotting function which plots swarmalator positions x and y, and colors agents by their phase.\n",
        "def plot_swarm(x, y, theta, colormap='hsv'):\n",
        "    fig, ax = plt.subplots(1,1,figsize=(7,7))\n",
        "    scat = ax.scatter(x, y, color=get_colors(theta, colormap))\n",
        "    ax.tick_params(labelsize=14)\n",
        "    ax.set_xlim(-2,2); ax.set_ylim(-2,2)\n",
        "    ax.grid(False)\n",
        "    return fig, ax, scat\n",
        "\n",
        "# tile 6 snapshots of a simulation into one figure.\n",
        "def tile_swarm(N, sol, colormap='hsv'):\n",
        "    fig, axes = plt.subplots(2,3,figsize=(12,8))\n",
        "    step = sol.y.shape[1]//6\n",
        "    for i, ax in enumerate(axes.flat):\n",
        "        x, y, theta = sol.y[:N,i*step], sol.y[N:2*N,i*step], sol.y[2*N:,i*step]\n",
        "        scat = ax.scatter(x, y, color=get_colors(theta, colormap), s=10)\n",
        "        ax.tick_params(labelsize=0)\n",
        "        ax.set_xlim(-2,2); ax.set_ylim(-2,2)\n",
        "        ax.set_xticks([]); ax.set_yticks([])\n",
        "        ax.grid(False)\n",
        "    plt.subplots_adjust(wspace=0.1, hspace=0.1)\n",
        "\n",
        "# generate a sequence of plots assembled into an animation.\n",
        "def animate_swarm(N, sol, colormap='hsv'):\n",
        "    frames = sol.y.shape[1]\n",
        "    x, y, theta = sol.y[:N,0], sol.y[N:2*N,0], sol.y[2*N:,0]\n",
        "    fig, ax, scat = plot_swarm(x, y, theta, colormap)\n",
        "\n",
        "    def animate(i):\n",
        "        '''Plot updates for animation.'''\n",
        "        x, y, theta = sol.y[:N,i], sol.y[N:2*N,i], sol.y[2*N:,i]\n",
        "        scat.set_offsets(np.hstack([x,y]).reshape(2,-1).T)\n",
        "        colors = get_colors(theta, colormap)\n",
        "        scat._facecolors = colors\n",
        "        scat._edgecolors = colors\n",
        "        return scat,\n",
        "\n",
        "    ani = animation.FuncAnimation(fig, animate, frames=frames, interval=50, blit=True)\n",
        "    plt.close(fig)\n",
        "    return ani"
      ],
      "execution_count": 0,
      "outputs": []
    },
    {
      "cell_type": "markdown",
      "metadata": {
        "id": "U9SlhMfRye3u",
        "colab_type": "text"
      },
      "source": [
        "Before we delve into the mathematical details of the model, once again let's start by writing a function to randomly initialize our swarmalator positions and phases. Below is the framework for our initialization function. We'd like to initialize our swarmalators uniformly on the square $x\\in[-1,1],y\\in[-1,1]$. Also, we'd like to randomly assign each agent a phase on $[0,2\\pi)$.\n",
        "\n",
        "\n",
        "> **Exercise:** Implement the initialization of $x$, $y$, and phase for $N$ swarmalators.\n",
        "> Note:```np.random.rand(N)``` generates $N$ random values on $[0,1)$.\n",
        "\n",
        "\n",
        "\n",
        "\n"
      ]
    },
    {
      "cell_type": "code",
      "metadata": {
        "id": "hDXrelrez5MO",
        "colab_type": "code",
        "colab": {}
      },
      "source": [
        "def init_swarm(N, seed):\n",
        "    # set random seed.\n",
        "    np.random.seed(seed)\n",
        "    \n",
        "    x = ?\n",
        "    y = ?\n",
        "    phase = ?\n",
        "    return x, y, phase"
      ],
      "execution_count": 0,
      "outputs": []
    },
    {
      "cell_type": "markdown",
      "metadata": {
        "id": "OOWUc8wZ13qy",
        "colab_type": "text"
      },
      "source": [
        "Now, let's visualize a initial population $N=400$."
      ]
    },
    {
      "cell_type": "code",
      "metadata": {
        "id": "NfBHzyHO1-ef",
        "colab_type": "code",
        "colab": {}
      },
      "source": [
        "# number of swarmalators\n",
        "N = ?\n",
        "\n",
        "# random seed\n",
        "seed = ?\n",
        "\n",
        "x, y, theta = init_swarm(N, seed)\n",
        "\n",
        "# plot initial snapshot\n",
        "fig, ax, scat = plot_swarm(x, y, theta)\n",
        "plt.show()"
      ],
      "execution_count": 0,
      "outputs": []
    },
    {
      "cell_type": "markdown",
      "metadata": {
        "id": "VV8bwlKJzjZV",
        "colab_type": "text"
      },
      "source": [
        "The evolution of the swarmalators in time is governed by a set of ordinary ODEs which prescribe the agent's motion in space in addition to the phase evolution as before. We'll consider a particular case of the model, where the system of ODEs is given by\n",
        "\n",
        "$$\n",
        "\\begin{align}\n",
        "\\frac{dx_i}{dt} &= \\frac{1}{N}\\Bigg[\\sum_{j\\neq{i}}^N\\frac{x_j-x_i}{r_{ij}}(1 + J\\cos(\\theta_j-\\theta_i)) - \\frac{x_j-x_i}{r^2_{ij}}\\Bigg] \\\\\n",
        "\\frac{dy_i}{dt} &= \\frac{1}{N}\\Bigg[\\sum_{j\\neq{i}}^N\\frac{y_j-y_i}{r_{ij}}(1 + J\\cos(\\theta_j-\\theta_i)) - \\frac{y_j-y_i}{r_{ij}^2}\\Bigg] \\\\\n",
        "\\frac{d\\theta_i}{dt} &= \\frac{K}{N}\\sum_{j\\neq{i}}^N\\frac{\\sin(\\theta_j-\\theta_i)}{r_{ij}}\n",
        "\\end{align}\n",
        "$$\n",
        "\n",
        "$N$ is the total number of swarmalators, $r_{ij} = \\sqrt{(x_j-x_i)^2+(y_j-y_i)^2}$ is the distance between two swarmalators, and $J$ and $K$ model parameters. $J$ tunes the influence of phase on spatial proximity, while $K$ adjusts the phase interaction. Let's define this ODE in the function ```swarmalator``` below."
      ]
    },
    {
      "cell_type": "code",
      "metadata": {
        "id": "sD4DAXvPuVef",
        "colab_type": "code",
        "colab": {}
      },
      "source": [
        "@jit\n",
        "def swarmalator(t, q, N, J, K):\n",
        "    x, y, theta = q[:N], q[N:2*N], q[2*N:] # unpack the x-coordinates, y-coordinates, and phases\n",
        "    \n",
        "    # set up arrays to store the derivatives of each degree of freedom.\n",
        "    dx, dy, dtheta = np.zeros(N), np.zeros(N), np.zeros(N)\n",
        "\n",
        "    for i in range(N):\n",
        "        for j in range(i+1,N):\n",
        "            # compute recurring quantities for easy reuse.\n",
        "            xij = x[j] - x[i]                   # x_j - x_i\n",
        "            yij = y[j] - y[i]                   # y_j - y_i\n",
        "            tij = theta[j] - theta[i]           # theta_j - theta_i\n",
        "            rij = np.sqrt(xij*xij + yij*yij)    # r_ij - distance between agents\n",
        "\n",
        "            # spatial attraction - x and y components\n",
        "            x_att = xij/rij*(1 + J*np.cos(tij))\n",
        "            y_att = yij/rij*(1 + J*np.cos(tij))\n",
        "\n",
        "            # spatial repulsion - x and y components\n",
        "            x_rep = ?\n",
        "            y_rep = ?\n",
        "\n",
        "            # phase coupling\n",
        "            th_cou = ?\n",
        "            \n",
        "            # add contributions to the derivative arrays.\n",
        "            dx[i] += x_att + x_rep; dy[i] += y_att + y_rep; dtheta[i] += th_cou\n",
        "            dx[j] -= x_att + x_rep; dy[j] -= y_att + y_rep; dtheta[j] -= th_cou\n",
        "\n",
        "    # unify results into a single array, and normalize by the number of agents.\n",
        "    dq = np.zeros(3*N)\n",
        "    dq[:N], dq[N:2*N], dq[-N:] = dx/float(N), dy/float(N), dtheta/float(N)\n",
        "    return dq"
      ],
      "execution_count": 0,
      "outputs": []
    },
    {
      "cell_type": "markdown",
      "metadata": {
        "id": "ozaSm7222hhc",
        "colab_type": "text"
      },
      "source": [
        "The first term in the expressions for $dx_i/dt$ and $dy_i/dt$ captures the spatially attractive interaction between swarmalators, and the second term a repulsive one. What are some preliminary conclusions we can draw about the model based on these equations?\n",
        "\n",
        "In the first example, let's look at the case where the influence of phase on spatial movement is weak; i.e. $J$ is small. The spatial attrative force will outweigh the repulsive one except at short distances, so we expect our system to form a cohesive cluster. We simulate our system of $N=400$ swarmalators from $t=0$ to $t=20$, outputting evenly spaced snapshots along the way. We can repurpose our ```solve``` routine by plugging in ```swarmalator``` instead of ```kuramoto```."
      ]
    },
    {
      "cell_type": "code",
      "metadata": {
        "id": "9MejEbQm3D4G",
        "colab_type": "code",
        "colab": {}
      },
      "source": [
        "# set coefficients\n",
        "J = 0.1\n",
        "K = 0.5\n",
        "\n",
        "# run simulation\n",
        "frames = 150\n",
        "sol = solve(swarmalator, 0, 30, frames, [x, y, theta], args = (N, J, K))\n",
        "\n",
        "# plot\n",
        "tile_swarm(N, sol)"
      ],
      "execution_count": 0,
      "outputs": []
    },
    {
      "cell_type": "markdown",
      "metadata": {
        "id": "TdrjExKi4Yg4",
        "colab_type": "text"
      },
      "source": [
        "The swarmalators cluster and synchronize into a single phase! Next, let's observe what happens if we make $K$ negative."
      ]
    },
    {
      "cell_type": "code",
      "metadata": {
        "id": "90X-Yh6Y4jny",
        "colab_type": "code",
        "colab": {}
      },
      "source": [
        "J = 0.1\n",
        "K = -0.5\n",
        "\n",
        "# re-initialize randomly\n",
        "x, y, theta = init_swarm(N, seed)\n",
        "\n",
        "# run simulation\n",
        "frames = 150\n",
        "sol = solve(swarmalator, 0, 20, frames, [x, y, theta], args = (N, J, K))\n",
        "\n",
        "# plot\n",
        "tile_swarm(N, sol)"
      ],
      "execution_count": 0,
      "outputs": []
    },
    {
      "cell_type": "markdown",
      "metadata": {
        "id": "14Kl1daBxfbg",
        "colab_type": "text"
      },
      "source": [
        "While we still have a cohesive cluster, the swarmalators resist synchronization. How can we understand this from the model equations?\n",
        "\n",
        "$$\n",
        "\\begin{align}\n",
        "\\frac{dx_i}{dt} &= \\frac{1}{N}\\Bigg[\\sum_{j\\neq{i}}^N\\frac{x_j-x_i}{r_{ij}}(1 + J\\cos(\\theta_j-\\theta_i)) - \\frac{x_j-x_i}{r^2_{ij}}\\Bigg] \\\\\n",
        "\\frac{dy_i}{dt} &= \\frac{1}{N}\\Bigg[\\sum_{j\\neq{i}}^N\\frac{y_j-y_i}{r_{ij}}(1 + J\\cos(\\theta_j-\\theta_i)) - \\frac{y_j-y_i}{r_{ij}^2}\\Bigg] \\\\\n",
        "\\frac{d\\theta_i}{dt} &= \\frac{K}{N}\\sum_{j\\neq{i}}^N\\frac{\\sin(\\theta_j-\\theta_i)}{r_{ij}}\n",
        "\\end{align}\n",
        "$$\n",
        "\n",
        "Consider two swarmalators with nearby phases $\\theta_i$ and $\\theta_j$. When $K$ is positive, $\\theta_i$ and $\\theta_j$ strive to minimize their difference, favoring synchronization. If $K$ is negative, $\\theta_i$ and $\\theta_j$ strive to maximize their difference.\n",
        "\n",
        "Now let's explore the regime of strong spatial effects of phase. For positive $J$, spatial proximity of *like* phases is favored, and thus swarmalators of similar phases should rearrange near each other. To start, let's set $K=0$; that is, phases remain fixed throughout, influencing only the spatial arrangement."
      ]
    },
    {
      "cell_type": "code",
      "metadata": {
        "id": "J5Ym8o3Idc5S",
        "colab_type": "code",
        "colab": {}
      },
      "source": [
        "J = 1.\n",
        "K = 0.\n",
        "\n",
        "# re-initialize randomly\n",
        "x, y, theta = init_swarm(N, seed)\n",
        "\n",
        "# run simulation\n",
        "frames = 150\n",
        "sol = solve(swarmalator, 0, 80, frames, [x, y, theta], args = (N, J, K))\n",
        "\n",
        "# plot\n",
        "tile_swarm(N, sol)"
      ],
      "execution_count": 0,
      "outputs": []
    },
    {
      "cell_type": "markdown",
      "metadata": {
        "id": "Z-mDHskAc-IM",
        "colab_type": "text"
      },
      "source": [
        "The swarmalators quickly arrange to position like phases together!\n",
        "\n",
        "If $K$ is positive, we can expect the effects of spatial rearrangement and phase alignment to create a positive feedback loop, which should lead to a uniform phase as we saw in our first example.\n",
        "\n",
        "However if $K$ is negative, our intuition may not be as clear. Let's slightly perturb $K$ in the negative direction."
      ]
    },
    {
      "cell_type": "code",
      "metadata": {
        "id": "810otUzCfPtv",
        "colab_type": "code",
        "colab": {}
      },
      "source": [
        "J = 1\n",
        "K = -0.2\n",
        "\n",
        "# re-initialize randomly\n",
        "x, y, theta = init_swarm(N, seed)\n",
        "\n",
        "# run simulation\n",
        "frames = 150\n",
        "sol = solve(swarmalator, 0, 150, frames, [x, y, theta], args = (N, J, K))\n",
        "\n",
        "# plot\n",
        "tile_swarm(N, sol)"
      ],
      "execution_count": 0,
      "outputs": []
    },
    {
      "cell_type": "markdown",
      "metadata": {
        "id": "P5UxJb-SfYcR",
        "colab_type": "text"
      },
      "source": [
        "This system does not stabilize, but remains in an active state throughout. Let's visualize this with an animation:"
      ]
    },
    {
      "cell_type": "code",
      "metadata": {
        "id": "fbHIqXfH5vQ3",
        "colab_type": "code",
        "colab": {}
      },
      "source": [
        "# create animation\n",
        "ani = animate_swarm(N, sol)\n",
        "\n",
        "# Display the animation\n",
        "HTML(ani.to_html5_video())"
      ],
      "execution_count": 0,
      "outputs": []
    },
    {
      "cell_type": "markdown",
      "metadata": {
        "id": "OrCox3bV5hl5",
        "colab_type": "text"
      },
      "source": [
        "Finally, let's amplify the negative coupling of phases to $K=-0.5$. Warning: This parameter set may take about a minute to complete."
      ]
    },
    {
      "cell_type": "code",
      "metadata": {
        "id": "NRCVjZsGf3F3",
        "colab_type": "code",
        "colab": {}
      },
      "source": [
        "J = 1\n",
        "K = -0.5\n",
        "\n",
        "# re-initialize randomly\n",
        "x, y, theta = init_swarm(N, seed)\n",
        "\n",
        "# run simulation\n",
        "frames = 150\n",
        "sol = solve(swarmalator, 0, 150, frames, [x, y, theta], args = (N, J, K))\n",
        "\n",
        "# plot\n",
        "tile_swarm(N, sol)"
      ],
      "execution_count": 0,
      "outputs": []
    },
    {
      "cell_type": "code",
      "metadata": {
        "id": "7CV1iuQhgPMK",
        "colab_type": "code",
        "colab": {}
      },
      "source": [
        "# create animation\n",
        "ani = animate_swarm(N, sol)\n",
        "\n",
        "# Display the animation\n",
        "HTML(ani.to_html5_video())"
      ],
      "execution_count": 0,
      "outputs": []
    }
  ]
}