{
 "cells": [
  {
   "cell_type": "markdown",
   "metadata": {},
   "source": [
    "# Geometric Fractals\n",
    "Geometric fractals are formed by repeating a pattern or action at smaller and smaller scales. The following are examples of some geometric fractals:\n",
    "![fractal-examples](https://drive.google.com/uc?id=1TVGEVY3-PRm_dJaGEbTTLnEjpOWF0pnS)\n",
    "\n",
    "### Koch curve\n",
    "Repetition at smaller scales lends itself to a recursive implementation in code. We will look at how to do this with the **Koch curve**:\n",
    "![koch-curve](https://drive.google.com/uc?id=1K2iDHuBmvWVSClFlIQK8dYnS4NzlNftc)\n",
    "\n",
    "The Koch curve is constructed by subdividing a segment into thirds, placing an equilateral triangle in the middle third, and removing its base.\n",
    "The length of the Koch curve grows by $4/3$ at each iteration. This means that in the limit of infinite iterations, the Koch curve traverses an infinite distance, though it is contained in a finite area!\n",
    "\n",
    "Below, we will write a function which recursively draws line segments following the Koch curve to a specified number of iterations (the depth).\n",
    "\n",
    "First, we'll define a helper function to draw a line segment given the $(x,y)$ coordinates of one endpoint, the angle $\\theta$ of the segment with respect to the horizontal, and the length $r$:"
   ]
  },
  {
   "cell_type": "code",
   "execution_count": null,
   "metadata": {},
   "outputs": [],
   "source": [
    "%matplotlib inline\n",
    "import numpy as np\n",
    "import matplotlib.pyplot as plt\n",
    "\n",
    "# plot a line segment given one endpoint, an angle, and length:\n",
    "def draw_line(x, y, theta, r, ax):\n",
    "    ax.plot([x, x + r*np.cos(theta)],\n",
    "            [y, y + r*np.sin(theta)],\n",
    "            color='k', lw=1)"
   ]
  },
  {
   "cell_type": "markdown",
   "metadata": {},
   "source": [
    "### Recursive subdivision\n",
    "Next let's look at how we can recursively draw lines in the pattern of the Koch curve. Instead of our straight segment, we want to subdivide the length into four pieces following the geometry of the Koch curve.\n",
    "\n",
    "![koch-segments](https://drive.google.com/uc?id=1oYIvvh0Zpx5d4-c2NCM_HOBWYtpaCVum)\n",
    "\n",
    "Some trigonometry is needed - the following figure shows an example for getting the new endpoint, length, and orientation of the second segment.\n",
    "![koch-segments](https://drive.google.com/uc?id=1KzDPxHeWv3D4DcaaGZh92-LGUbymRmQC)"
   ]
  },
  {
   "cell_type": "code",
   "execution_count": null,
   "metadata": {},
   "outputs": [],
   "source": [
    "# recursively draw 4 line segments in the pattern of the Koch curve.\n",
    "def koch_curve(k, x, y, theta, r, ax):\n",
    "    # If the recursion depth k = 1, terminate and draw a single line.\n",
    "    if k == 1:\n",
    "        draw_line(x, y, theta, r, ax)\n",
    "        \n",
    "    # otherwise, subdivide the line into 4 segments:\n",
    "    else:\n",
    "        # The first segment starts at current endpoint,\n",
    "        # has no relative rotation, and is 1/3 the length.\n",
    "        x1 = x\n",
    "        y1 = y\n",
    "        koch_curve(k-1, x1, y1, theta, r/3, ax)\n",
    "        \n",
    "        # The second segment starts r/3 along current heading,\n",
    "        # then heads at a 60 degree counterclockwise rotation.\n",
    "        x2 = x + r/3*np.cos(theta)\n",
    "        y2 = y + r/3*np.sin(theta)\n",
    "        koch_curve(k-1, x2, y2, theta + np.pi/3, r/3, ax)\n",
    "        \n",
    "        # The third segment starts at the final endpoint of (x2,y2) segment,\n",
    "        # and has a 60 degree clockwise rotation relative to current theta.\n",
    "        x3 = x2 + r/3*np.cos(theta + np.pi/3)\n",
    "        y3 = y2 + r/3*np.sin(theta + np.pi/3)\n",
    "        koch_curve(k-1, x3, y3, theta - np.pi/3, r/3, ax)\n",
    "        \n",
    "        # The fourth segment starts at 2r/3 along current heading,\n",
    "        # and has no relative rotation.\n",
    "        x4 = x + 2*r/3*np.cos(theta)\n",
    "        y4 = y + 2*r/3*np.sin(theta)\n",
    "        koch_curve(k-1, x4, y4, theta, r/3, ax)"
   ]
  },
  {
   "cell_type": "markdown",
   "metadata": {},
   "source": [
    "Some things to notice about the four recursive function calls:\n",
    "- We are decrementing the iteration counter k by 1 for each new call, so recursion terminates once we reach $k=1$\n",
    "- Each new segment has a new starting endpoint $(x_i,y_i)$ as given by our trig rules\n",
    "- Each new segment has a new orientation relative to the current angle $\\theta$\n",
    "- Each new segment has 1/3 the length\n",
    "- We are passing in the same axis object, so all our segments are drawn on the same plot\n",
    "\n",
    "Let's write a short wrapper function that begins our recursive subdivision with a horizontal segment of length $r=1$:"
   ]
  },
  {
   "cell_type": "code",
   "execution_count": null,
   "metadata": {},
   "outputs": [],
   "source": [
    "# wrapper function to draw the koch curve to specified depth\n",
    "def draw_koch_curve(n, ax):\n",
    "    '''Draw the Koch curve to the specified number of iterations n.'''\n",
    "    if n < 1:\n",
    "        raise ValueError('Iteration must be greater than zero.')\n",
    "    koch_curve(k=n, x=0, y=0, theta=0, r=1, ax=ax)"
   ]
  },
  {
   "cell_type": "markdown",
   "metadata": {},
   "source": [
    "Let's draw the 6th iteration of the Koch curve:"
   ]
  },
  {
   "cell_type": "code",
   "execution_count": null,
   "metadata": {},
   "outputs": [],
   "source": [
    "fig, ax = plt.subplots(1,1,figsize=(12,7))\n",
    "draw_koch_curve(6, ax)\n",
    "ax.axis('equal')\n",
    "ax.axis('off')\n",
    "plt.show()"
   ]
  },
  {
   "cell_type": "markdown",
   "metadata": {},
   "source": [
    "### Try with your group:\n",
    "Repurpose the idea of recursively drawing line segments we've discussed to create a fractal tree, as shown below:\n",
    "![fractal_tree](https://drive.google.com/uc?id=1FnYNTZh0z9zWghxc0MfJMkFFYrEHW8E9)\n",
    "\n",
    "At each recursive step, your function should draw a base segment that extends from $(x,y)$ to $(x+r\\cos\\theta,y+r\\sin\\theta)$, and make recursive calls for two new segments that branch from the second endpoint of the base. The two new segments should have a length $\\alpha{r}$, and be oriented in the directions $\\theta+\\phi$ and $\\theta-\\phi$. To start, use the values $\\alpha=0.6$, $\\phi=\\pi/3$."
   ]
  },
  {
   "cell_type": "code",
   "execution_count": null,
   "metadata": {},
   "outputs": [],
   "source": [
    "def fractal_tree(k, x, y, theta, r, ax):\n",
    "    # If the recursion depth k = 1, terminate and draw a single line.\n",
    "    if k == 1:\n",
    "        draw_line(x, y, theta, r, ax)\n",
    "        \n",
    "    # otherwise, draw the current branch, then create 2 new segments +/- phi away from theta,\n",
    "    # and a factor alpha times the length.\n",
    "    else:\n",
    "        # YOUR CODE HERE #\n"
   ]
  },
  {
   "cell_type": "markdown",
   "metadata": {},
   "source": [
    "Run the line below to test drawing your tree after 10 iterations:"
   ]
  },
  {
   "cell_type": "code",
   "execution_count": null,
   "metadata": {},
   "outputs": [],
   "source": [
    "# wrapper function to draw the fractal tree to specified depth\n",
    "def draw_fractal_tree(n, ax):\n",
    "    '''Draw the fractal tree to the specified number of iterations n.'''\n",
    "    if n < 1:\n",
    "        raise ValueError('Iteration must be greater than zero.')\n",
    "    fractal_tree(k=n, x=0, y=0, theta=np.pi/2, r=1, ax=ax) # main trunk points vertically, length 1\n",
    "\n",
    "fig, ax = plt.subplots(1,1,figsize=(12,7))\n",
    "draw_fractal_tree(10, ax)\n",
    "ax.axis('equal')\n",
    "ax.axis('off')\n",
    "plt.show()"
   ]
  },
  {
   "cell_type": "markdown",
   "metadata": {},
   "source": [
    "Once your fractal tree is working as expected, you can test different variants! What happens if the two branching segments have different angles, $\\phi_1$ and $\\phi_2$, chosen at random? What if the factor by which the branch length decreases, $\\alpha$, is varied?"
   ]
  }
 ],
 "metadata": {
  "kernelspec": {
   "display_name": "Python 3",
   "language": "python",
   "name": "python3"
  },
  "language_info": {
   "codemirror_mode": {
    "name": "ipython",
    "version": 3
   },
   "file_extension": ".py",
   "mimetype": "text/x-python",
   "name": "python",
   "nbconvert_exporter": "python",
   "pygments_lexer": "ipython3",
   "version": "3.7.7"
  }
 },
 "nbformat": 4,
 "nbformat_minor": 4
}
