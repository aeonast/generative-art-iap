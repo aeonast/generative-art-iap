{
 "cells": [
  {
   "cell_type": "markdown",
   "metadata": {},
   "source": [
    "# Discrete Physical Systems\n",
    "\n",
    "We'll investigate how we can model physical systems and then apply those systems to generate visually appealing patterns and generative art!\n",
    "\n",
    "We'll start by using CAs to model discrete physical systems.\n",
    "These systems are discrete in both space (CA cells live on a fixed grid) and time (CA iterations advance in discrete 'time' steps).\n",
    "We'll relax those assumptions going forward."
   ]
  },
  {
   "cell_type": "markdown",
   "metadata": {},
   "source": [
    "<div class=\"alert alert-block alert-warning\">\n",
    "<b>Note: </b>\n",
    "This notebook follows from the <a href=\"https://github.com/gvarnavi/generative-art-iap/blob/master/01.21-Thursday/01_elementary-cellular-automata-wl.ipynb\">01_elementary-cellular-automata-wl.ipynb</a> notebook.\n",
    "</div>"
   ]
  },
  {
   "cell_type": "markdown",
   "metadata": {},
   "source": [
    "First, let's re-define our vectorized implementation of a 9-cell Moore neighborhood"
   ]
  },
  {
   "cell_type": "code",
   "execution_count": null,
   "metadata": {},
   "outputs": [],
   "source": [
    "  Moore[func__, lat_] :=   \n",
    "     MapThread[func, \n",
    "       Map[RotateRight[lat, #] &, \n",
    "         {{0, 0}, {1, 0}, {0, -1}, {-1, 0}, \n",
    "           {0, 1}, {1,  -1}, {-1, -1}, {-1, 1}, \n",
    "           {1, 1}}], 2];"
   ]
  },
  {
   "cell_type": "markdown",
   "metadata": {},
   "source": [
    "## Majority Rule\n",
    "\n",
    "The simplest totalistic 2D rule is the so-called majority rule.\n",
    "Essentially each cell evolves according to what the majority of its Moore Neighborhood dictates."
   ]
  },
  {
   "cell_type": "code",
   "execution_count": null,
   "metadata": {},
   "outputs": [],
   "source": [
    "TableForm[Transpose@Table[{i, Floor[i/5]}, {i, 9}], \n",
    " TableHeadings -> {{\"Number of Alive Cells\", \"Outcome\"}, None}]"
   ]
  },
  {
   "cell_type": "markdown",
   "metadata": {},
   "source": [
    "- If four or less of its neighbors (self included) are \"alive\", the cell gets lonely and \"dies\"\n",
    "- If five or more of its neighbors (self included) are \"alive\", the cell \"lives\".\n",
    "\n",
    "Since each cell has a value of 0 or 1, we can simply divide the total by 5 and take the Floor.\n",
    "This way if the total is 5 or more, the floor of a number $\\in[1,2]$ will be 1 where as if it's less than 5, the floor of a number $\\in[0,1]$ will be 0."
   ]
  },
  {
   "cell_type": "code",
   "execution_count": null,
   "metadata": {},
   "outputs": [],
   "source": [
    "rule[x_] := Floor[x/5]"
   ]
  },
  {
   "cell_type": "markdown",
   "metadata": {},
   "source": [
    "We can see this in action for a single iteration:"
   ]
  },
  {
   "cell_type": "code",
   "execution_count": null,
   "metadata": {},
   "outputs": [],
   "source": [
    "testConfig = RandomInteger[{0, 1}, {10, 10}];\n",
    "{ArrayPlot[testConfig], \n",
    " ArrayPlot[rule[#] & /@ Moore[Plus, testConfig], ImageSize -> Small]}"
   ]
  },
  {
   "cell_type": "markdown",
   "metadata": {},
   "source": [
    "We wrap everything in a `NestList` function and display a movie of the result"
   ]
  },
  {
   "cell_type": "code",
   "execution_count": null,
   "metadata": {},
   "outputs": [],
   "source": [
    "majorityRule[lat_, t_] :=\n",
    "  Module[{rule},\n",
    "  rule[x_] := Floor[x/5]; \n",
    "  Attributes[rule] = Listable;                  \n",
    "  NestList[rule[Moore[Plus, #]] &, lat, t]]\n",
    "\n",
    "SeedRandom[1992];\n",
    "initMajor = RandomInteger[1, {100, 100}];\n",
    "frames = ArrayPlot /@ majorityRule[initMajor, 50];\n",
    "Export[\"gifs/majority-rule-animation.gif\", frames,ImageSize->300]"
   ]
  },
  {
   "cell_type": "markdown",
   "metadata": {},
   "source": [
    "![majority rule](gifs/majority-rule-animation.gif \"majority rule\")"
   ]
  },
  {
   "cell_type": "markdown",
   "metadata": {},
   "source": [
    "As we see - this very quickly reaches a stable equilibrium and no-longer evolves.\n",
    "We'll make incrementally better and better approximations to this below"
   ]
  },
  {
   "cell_type": "markdown",
   "metadata": {},
   "source": [
    "## Crude Phase Separation\n",
    "We'll use a slight modification, by \"flipping\" the interfaces to make it more dynamic:  \n",
    "- If four or less of its neighbors (self included) are \"alive\", the cell gets lonely and \"dies\"\n",
    "  - Cell \"lives\" if exactly 4 neighbors are alive\n",
    "- If five or more of its neighbors (self included) are \"alive\", the cell \"lives\".\n",
    "  - Cell \"dies\" if exactly 5 neighbors are alive"
   ]
  },
  {
   "cell_type": "code",
   "execution_count": null,
   "metadata": {},
   "outputs": [],
   "source": [
    "TableForm[\n",
    " Transpose@\n",
    "  ReplacePart[\n",
    "   Table[{i, Floor[i/5]}, {i, 9}], {{4, 2} -> 1, {5, 2} -> 0}], \n",
    " TableHeadings -> {{\"Number of Alive Neighbors\", \"Outcome\"}, None}]"
   ]
  },
  {
   "cell_type": "code",
   "execution_count": null,
   "metadata": {},
   "outputs": [],
   "source": [
    "spinodalCrude[lat_,t_] :=\n",
    "  Module[{rule},\n",
    "  rule[4] = 1; rule[5] = 0;\n",
    "  rule[x_] := Floor[x/5]; \n",
    "  Attributes[rule] = Listable;                  \n",
    "  NestList[rule[Moore[Plus, #]] &, lat, t]]\n",
    "  \n",
    "SeedRandom[1992];\n",
    "initSpCrude = RandomInteger[1, {100, 100}];\n",
    "framesSpCrude = ArrayPlot /@ spinodalCrude[initSpCrude, 50];\n",
    "Export[\"gifs/spinodal-crude-animation.gif\", framesSpCrude,ImageSize->300]"
   ]
  },
  {
   "cell_type": "markdown",
   "metadata": {},
   "source": [
    "![spinodal crude](gifs/spinodal-crude-animation.gif \"spinodal crude\")"
   ]
  },
  {
   "cell_type": "markdown",
   "metadata": {},
   "source": [
    "Slightly better...\n",
    "Still missing stability of segregated phases and matter conservation"
   ]
  },
  {
   "cell_type": "markdown",
   "metadata": {},
   "source": [
    "## Adding Phase Stability\n",
    "Let's think a little closer what the physics ought to be, in order to achiever a better result.\n",
    "\n",
    "First, since this is a physical system (e.g. obeying pair interactions) it makes sense to weigh first nearest neighbor interactions more importantly than second nearest-neighbor interactions. Moreover, most material boundaries are \"diffuse\" in nature, so we want to avoid sharp transitions.\n",
    "The hyperbolic tangent function can help with that."
   ]
  },
  {
   "cell_type": "code",
   "execution_count": null,
   "metadata": {},
   "outputs": [],
   "source": [
    "Plot[1.3 Tanh[x], {x, -2, 2}]"
   ]
  },
  {
   "cell_type": "markdown",
   "metadata": {},
   "source": [
    "<div class=\"alert alert-block alert-warning\">\n",
    "<b>Note: </b>\n",
    "we chose the pre-factor 1.3 since 1/Tanh[$\\pm$1]$\\approx$ $\\pm$1.3 \n",
    "</div>"
   ]
  },
  {
   "cell_type": "code",
   "execution_count": null,
   "metadata": {},
   "outputs": [],
   "source": [
    "phaseOrderingNonConserved[lat_,d_, t_] := Module[{separate},\n",
    "  separate[x_, n_, e_, s_, w_, ne_, se_, sw_, nw_] := \n",
    "   1.3 Tanh[x] + d ((n + e + s + w)/6 + (ne + se + sw + nw)/12 - x);\n",
    "  NestList[Moore[separate, #] &, lat, t]]\n",
    "  \n",
    "SeedRandom[1992];\n",
    "initSpNonConserved = RandomReal[{-1,1}, {100, 100}];\n",
    "framesSpNonConserved = ArrayPlot /@ phaseOrderingNonConserved[initSpNonConserved, 0.5,50];\n",
    "Export[\"gifs/spinodal-non-conserved.gif\", framesSpNonConserved,ImageSize->300]"
   ]
  },
  {
   "cell_type": "markdown",
   "metadata": {},
   "source": [
    "![spinodal non-conserved](gifs/spinodal-non-conserved.gif \"spinodal non-conserved\")"
   ]
  },
  {
   "cell_type": "markdown",
   "metadata": {},
   "source": [
    "Note how the Tanh dependence is very typical of cell dynamics simulations obeying the Cahn Hilliard equation!"
   ]
  },
  {
   "cell_type": "markdown",
   "metadata": {},
   "source": [
    "## Phase-Ordering Conservation\n",
    "Finally, we can ensure the two species conserve their phases by performing one additional Moore-neighborhood averaging."
   ]
  },
  {
   "cell_type": "code",
   "execution_count": null,
   "metadata": {},
   "outputs": [],
   "source": [
    "phaseOrderingConserved[lat_, d_,  t_] :=\n",
    "  Module[{nnave, Itn},   \n",
    "    nnave[x_, n_, e_, s_, w_, ne_, se_, sw_, \n",
    "    nw_] := (n + e + s + w)/6 + (ne + se + sw + nw)/12;\n",
    "   \n",
    "    Itn[mat_] := d (Moore[nnave, mat] - mat) + 1.3 Tanh[mat] - mat;\n",
    "  \n",
    "    NestList[Function[y, (# + y - Moore[nnave, y])][Itn[#]] &, lat, \n",
    "   t]]\n",
    "   \n",
    "SeedRandom[1992];\n",
    "initSpRealistic = RandomReal[{-0.1,0.1}, {100, 100}];\n",
    "framesSpRealistic = ArrayPlot /@ phaseOrderingConserved[initSpRealistic, 0.5,50];\n",
    "Export[\"gifs/spinodal-conserved.gif\", framesSpRealistic,ImageSize->300]"
   ]
  },
  {
   "cell_type": "markdown",
   "metadata": {},
   "source": [
    "![spinodal conserved](gifs/spinodal-conserved.gif \"spinodal conserved\")"
   ]
  },
  {
   "cell_type": "markdown",
   "metadata": {},
   "source": [
    "## One small step for code..\n",
    "We'll use the Crude Spinodal Rule to illustrate the ease in which the aforementioned procedure can be generalized in three dimensions:"
   ]
  },
  {
   "cell_type": "code",
   "execution_count": null,
   "metadata": {},
   "outputs": [],
   "source": [
    "steps = Tuples[Range[-1, 1], 3];\n",
    "upToNNNN = SortBy[steps, Norm[#] &]"
   ]
  },
  {
   "cell_type": "code",
   "execution_count": null,
   "metadata": {},
   "outputs": [],
   "source": [
    "majorityRule3D[lattice_, t_] := \n",
    " Module[{Moore, rule}, \n",
    "  Moore[func__, lat_] := \n",
    "   MapThread[func, Map[RotateRight[lat, #] &, upToNNNN], 2];\n",
    "   \n",
    "  rule[13] = 1; rule[14] = 0;\n",
    "  rule[x_] := Floor[x/14];\n",
    "  \n",
    "  Attributes[rule] = Listable;\n",
    "  NestList[rule[Moore[Plus, #]] &, lattice, t]]\n",
    "\n",
    "SeedRandom[1992];\n",
    "init3D = RandomInteger[{0,1}, {40,40,40}];\n",
    "frames3D = Image3D /@ majorityRule3D[init3D,20];\n",
    "Export[\"gifs/majority-3D.gif\", frames3D,ImageSize->300]"
   ]
  },
  {
   "cell_type": "markdown",
   "metadata": {},
   "source": [
    "![majority 3D](gifs/majority-3D.gif \"majority 3D\")"
   ]
  },
  {
   "cell_type": "code",
   "execution_count": null,
   "metadata": {},
   "outputs": [],
   "source": []
  }
 ],
 "metadata": {
  "kernelspec": {
   "display_name": "Wolfram Language 12.2",
   "language": "Wolfram Language",
   "name": "wolframlanguage12.2"
  },
  "language_info": {
   "codemirror_mode": "mathematica",
   "file_extension": ".m",
   "mimetype": "application/vnd.wolfram.m",
   "name": "Wolfram Language",
   "pygments_lexer": "mathematica",
   "version": "12.0"
  }
 },
 "nbformat": 4,
 "nbformat_minor": 4
}
