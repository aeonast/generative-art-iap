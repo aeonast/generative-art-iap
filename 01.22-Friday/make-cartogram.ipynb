{
 "cells": [
  {
   "cell_type": "markdown",
   "metadata": {},
   "source": [
    "# Cartograms"
   ]
  },
  {
   "cell_type": "code",
   "execution_count": null,
   "metadata": {},
   "outputs": [],
   "source": [
    "%matplotlib inline\n",
    "import os\n",
    "import numpy as np\n",
    "import matplotlib.pyplot as plt\n",
    "import matplotlib.colors as colors\n",
    "from matplotlib import cm\n",
    "\n",
    "if not os.path.exists('images'):\n",
    "        os.makedirs('images')"
   ]
  },
  {
   "cell_type": "code",
   "execution_count": null,
   "metadata": {},
   "outputs": [],
   "source": [
    "# Helper function to read in a data text file, sort data by state,\n",
    "# and write the sorted numeric data to a binary file.\n",
    "def load_data(feature):\n",
    "    state_names = []\n",
    "    feature_values = []\n",
    "    f = open(\"data/\"+feature+\".txt\",\"r\")\n",
    "    header = f.readline()\n",
    "    for i,line in enumerate(f):\n",
    "        a = line.split()\n",
    "        if len(a) == 2:\n",
    "            state_names += [a[0]]\n",
    "        elif len(a) == 3:\n",
    "            state_names += [a[0]+\" \"+a[1]]\n",
    "        else:\n",
    "            print(\"Encountered invalid line (%d): %s\"%(i+1,a))\n",
    "            break\n",
    "        feature_values += [float(a[-1])]\n",
    "    f.close()\n",
    "    sort_indices = [i for (s,i) in sorted((s,i) for (i,s) in enumerate(state_names))]\n",
    "    feature_values = np.array(feature_values)[sort_indices]\n",
    "    feature_values.astype('float').tofile(feature+\".bin\")\n",
    "    print(\"Saved numeric data to '%s.bin'\"%feature)\n",
    "    return header"
   ]
  },
  {
   "cell_type": "code",
   "execution_count": null,
   "metadata": {},
   "outputs": [],
   "source": [
    "# Helper function to make a truncated colormap.\n",
    "def make_colormap(colormap, minval=0.0, maxval=1.0, n=100):\n",
    "    new_cmap = colors.LinearSegmentedColormap.from_list(\n",
    "        'trunc({n},{a:.2f},{b:.2f})'.format(n=colormap.name, a=minval, b=maxval),\n",
    "        colormap(np.linspace(minval, maxval, n)))\n",
    "    return new_cmap\n",
    "\n",
    "# Helper function to make a plot of a map with associated colorbar.\n",
    "def plot_map(data, colormap, white_edges, feature_transform=None):\n",
    "    # Shift and rescale data.\n",
    "    norm_data = data - np.min(data)\n",
    "    norm_data /= np.max(norm_data)\n",
    "    \n",
    "    # Apply colormap to create a color image.\n",
    "    im = (255.*colormap(norm_data)[:,:,:3]).astype(np.uint8)\n",
    "    im[data==0]=255.\n",
    "    m,n,p = im.shape\n",
    "\n",
    "    # detect edges.\n",
    "    dx, dy = np.gradient(norm_data)\n",
    "    dr = np.sqrt(dx*dx+dy*dy)\n",
    "    if white_edges:\n",
    "        im[dr>0]=255.\n",
    "    else:\n",
    "        im[dr>0]=0.\n",
    "        \n",
    "    if feature_transform:\n",
    "        f = np.fromfile(feature_transform+\"_fields.bin\")\n",
    "        u = f[:m*n].reshape((m,n))\n",
    "        X = f[m*n:2*m*n].reshape((m,n))\n",
    "        Y = f[2*m*n:].reshape((m,n))\n",
    "        X = np.stack([X,Y], axis=-1)\n",
    "        cart = np.zeros((m,n,p),dtype=np.uint8)\n",
    "        for i in range(m):\n",
    "            for j in range(n):\n",
    "                i2=int(X[i,j,0]+0.5)\n",
    "                j2=int(X[i,j,1]+0.5)\n",
    "                if i2<0: i2=0\n",
    "                elif i2>m-1: i2=m-1\n",
    "                if j2<0: j2=0\n",
    "                elif j2>n-1: j2=n-1\n",
    "                cart[i,j,:]=im[i2,j2,:]\n",
    "        im = cart\n",
    "        \n",
    "    # Visualize the map with edges.\n",
    "    fig, ax = plt.subplots(1,1,figsize=(24,16))\n",
    "    ax.imshow(im)\n",
    "    ax.axis('off')\n",
    "    return fig, ax\n",
    "\n",
    "# Add a colorbar.\n",
    "def add_cbar(data, fig, ax, colormap):\n",
    "    cnorm = colors.Normalize(vmin=np.min(data), vmax=np.max(data))\n",
    "    sm = cm.ScalarMappable(cmap=colormap, norm=cnorm)\n",
    "    sm.set_array([])\n",
    "    cbar = fig.colorbar(sm, ax=ax, pad=0.05, shrink=0.7)\n",
    "    return cbar\n",
    "    \n",
    "# Helper function to make a map given a data size and feature.\n",
    "def populate_map(size, feature):\n",
    "    if size == 'large':\n",
    "        m=816; n=1216\n",
    "    elif size == 'med':\n",
    "        m=408; n=608\n",
    "    else:\n",
    "        m=204; n=304\n",
    "    feature_values = np.fromfile(feature+\".bin\")\n",
    "    state_labels = np.fromfile(size+\".bin\", dtype=np.uint8).reshape((m,n))\n",
    "    \n",
    "    # Set values in each state.\n",
    "    feature_map = np.zeros((m,n))\n",
    "    for i in range(m):\n",
    "        for j in range(n):\n",
    "            if state_labels[i,j]>0:\n",
    "                feature_map[i,j] = feature_values[state_labels[i,j]-1]\n",
    "    return feature_map # return a map with feature values populated in each state."
   ]
  },
  {
   "cell_type": "code",
   "execution_count": null,
   "metadata": {},
   "outputs": [],
   "source": [
    "# Select a dataset to work with\n",
    "feature = 'elevation'\n",
    "header = load_data(feature) # returns the header of our dataset, which can be used as a title.\n",
    "\n",
    "# Select a data size ('small', 'med', or 'large'),\n",
    "# and choose colormap and edge color settings.\n",
    "size = 'small'\n",
    "colormap = make_colormap(plt.cm.cubehelix, 0.2, 1.)\n",
    "white_edges = False\n",
    "\n",
    " # Populate a US map given the map size and feature.\n",
    "feature_map = populate_map(size, feature)\n",
    "fig, ax = plot_map(feature_map, colormap, white_edges) # plot the map\n",
    "cbar = add_cbar(feature_map, fig, ax, colormap)        # add a corresponding colorbar\n",
    "\n",
    "# Set size and labels for plot.\n",
    "ax.set_title(header, size=24)\n",
    "cbar.ax.tick_params(labelsize=20)\n",
    "plt.show()"
   ]
  },
  {
   "cell_type": "code",
   "execution_count": null,
   "metadata": {},
   "outputs": [],
   "source": [
    "# Once we are happy with the image, we can save to a file.\n",
    "fig.tight_layout()\n",
    "fig.savefig(\"images/\"+feature+\"_map_\"+size+\".png\")"
   ]
  },
  {
   "cell_type": "code",
   "execution_count": null,
   "metadata": {},
   "outputs": [],
   "source": [
    "# compile the cartogram script.\n",
    "!g++ -O3 -Wall -ansi -pedantic -fopenmp -o cartogram cartogram.cc"
   ]
  },
  {
   "cell_type": "code",
   "execution_count": null,
   "metadata": {},
   "outputs": [],
   "source": [
    "# Run the diffusion simulation to generate a mapping for the cartogram.\n",
    "out = !./cartogram $size $feature\n",
    "print(out[0])\n",
    "print(out[1])"
   ]
  },
  {
   "cell_type": "code",
   "execution_count": null,
   "metadata": {},
   "outputs": [],
   "source": [
    "# Plot the same map with deformation mapping applied:\n",
    "fig, ax = plot_map(feature_map, colormap, white_edges, feature_transform=feature)\n",
    "cbar = add_cbar(feature_map, fig, ax, colormap)\n",
    "ax.set_title(header, size=24)\n",
    "cbar.ax.tick_params(labelsize=20)\n",
    "plt.show()"
   ]
  },
  {
   "cell_type": "code",
   "execution_count": null,
   "metadata": {},
   "outputs": [],
   "source": [
    "# Save to a file.\n",
    "fig.tight_layout()\n",
    "fig.savefig(\"images/\"+feature+\"_cartogram_\"+size+\".png\")"
   ]
  },
  {
   "cell_type": "code",
   "execution_count": null,
   "metadata": {},
   "outputs": [],
   "source": []
  }
 ],
 "metadata": {
  "kernelspec": {
   "display_name": "Python 3",
   "language": "python",
   "name": "python3"
  },
  "language_info": {
   "codemirror_mode": {
    "name": "ipython",
    "version": 3
   },
   "file_extension": ".py",
   "mimetype": "text/x-python",
   "name": "python",
   "nbconvert_exporter": "python",
   "pygments_lexer": "ipython3",
   "version": "3.7.7"
  }
 },
 "nbformat": 4,
 "nbformat_minor": 4
}
