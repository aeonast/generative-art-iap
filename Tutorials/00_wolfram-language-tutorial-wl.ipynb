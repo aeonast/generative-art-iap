{
 "cells": [
  {
   "cell_type": "markdown",
   "metadata": {
    "id": "jsz7X--K7RGA"
   },
   "source": [
    "# Wolfram Language Tutorial (Jupyter Front-End)\n",
    "Here we will cover some programming basics in Wolfram Language that will be useful throughout the workshop.\n",
    "### **Working in a Jupyter notebook**\n",
    "During this workshop, we'll be demoing code examples using a Jupyter notebook environment. To run a code cell in the notebook, first select the code cell anywhere with your cursor. You may execute the cell by using the keyboard shortcut Shift+Enter or Command+Enter.\n",
    "Test running the following cell:"
   ]
  },
  {
   "cell_type": "code",
   "execution_count": null,
   "metadata": {
    "colab": {
     "base_uri": "https://localhost:8080/",
     "height": 34
    },
    "id": "fRemN-2h7KQE",
    "outputId": "fd1c1ba5-a4dc-4eca-caa6-61d017ea14c0"
   },
   "outputs": [],
   "source": [
    "pi = 22/7;\n",
    "StringTemplate[\"`1` is an approximation for pi.\"][pi]"
   ]
  },
  {
   "cell_type": "markdown",
   "metadata": {},
   "source": [
    "<div class=\"alert alert-block alert-warning\">\n",
    "<b>Note: </b>\n",
    "We'll alternate showing content using Python and the Wolfram Language.\n",
    "Make sure the Kernel (under Logout, top-right) lists `Wolfram Language 12.2` or `Python 3`, as appropriate for each notebook.\n",
    "<br></br>\n",
    "<br></br>\n",
    "The notebooks are named with a trailing `wl` or `py` for convenience. \n",
    "You can also usually distinguish by examining the first couple of lines of code - the Wolfram Language, unlike Python, uses capitalized built-in function names.\n",
    "<br></br>\n",
    "<br></br>\n",
    "If you need to change the Kernel, you can do so by navigating to `Kernel > Change Kernel` in the Menu bar.\n",
    "</div>"
   ]
  },
  {
   "cell_type": "markdown",
   "metadata": {
    "id": "jWMww0X38CRu"
   },
   "source": [
    "### **A quick note about jupyter notebooks**\n",
    "Notebooks are a useful way to organize and annotate code especially for demos, support $\\LaTeX$ for writing mathematical expressions, and allow code to be executed in smaller blocks (cells) that can help to simplify a large program. However, there are a couple of important points to keep in mind:\n",
    "- The block structure allows code to be run out of order, so be careful that you've executed your cells in order from top to bottom.\n",
    "- ***Jupyter notebook remembers your history of running code, even after you delete the code.*** Variables, objects, and functions you define persist throughout your notebook while your session is active, even if you delete the cell(s) that defined them. If you want to delete or rename a variable, make sure you update its occurrences throughout the notebook. You can restart your runtime (go to Kernel -> Restart at the top menu) and run all cells to check for any undefined variables."
   ]
  },
  {
   "cell_type": "markdown",
   "metadata": {},
   "source": [
    "## Quick Start\n",
    "Perhaps the easiest way to get started in the `Wolfram Language` is using free-form string input. You've likely come across `Wolfram Alpha` before in your studies, which attempts to interpret a user's string input computationally; the equivalent programmatic way in a Jupyter notebook is using `SemanticInterpretation`:"
   ]
  },
  {
   "cell_type": "code",
   "execution_count": null,
   "metadata": {},
   "outputs": [],
   "source": [
    "SemanticInterpretation[\"plot x^2 from -5 to 5\"]"
   ]
  },
  {
   "cell_type": "markdown",
   "metadata": {},
   "source": [
    "This (often) works for more traditional coding instructions, such as variable assignment:"
   ]
  },
  {
   "cell_type": "code",
   "execution_count": null,
   "metadata": {},
   "outputs": [],
   "source": [
    "SemanticInterpretation[\"assign a to 5\"];\n",
    "a"
   ]
  },
  {
   "cell_type": "markdown",
   "metadata": {},
   "source": [
    "<div class=\"alert alert-block alert-info\">\n",
    "<b>Tip:</b> Feel free to use this model to get started. In-fact in the native Mathematica (or Wolfram Cloud) notebooks, the equivalent method using \"= plot x^2 from -5 to 4\" (note the leading \"=\"), will also return what the valid Wolfram Language input is.\n",
    "</div>"
   ]
  },
  {
   "cell_type": "markdown",
   "metadata": {},
   "source": [
    "This gets quite cumbersome quick, and incurs computational cost in interpreting the string input. As such, we won't be using this model in the workshop."
   ]
  },
  {
   "cell_type": "markdown",
   "metadata": {},
   "source": [
    "## Documentation\n",
    "Mathematica has _thousands_ of built-in functions. These are often intuitively-named, so if you have an idea of what you'd like to do, it's often beneficial to query the Documentation."
   ]
  },
  {
   "cell_type": "code",
   "execution_count": null,
   "metadata": {},
   "outputs": [],
   "source": [
    "?Graphics"
   ]
  },
  {
   "cell_type": "code",
   "execution_count": null,
   "metadata": {},
   "outputs": [],
   "source": [
    "?*Graph*"
   ]
  },
  {
   "cell_type": "markdown",
   "metadata": {},
   "source": [
    "<div class=\"alert alert-block alert-danger\">\n",
    "<b>Alert: </b>\n",
    "The code above on the Wolfram Cloud version of the notebook, returns all built-in functions including the string \"Graph\".\n",
    "However, dynamic content, like the one above - unfortunately don't render properly using the Jupyter Front-End.  \n",
    "</div>"
   ]
  },
  {
   "cell_type": "markdown",
   "metadata": {},
   "source": [
    "## General Syntax\n",
    "### Built-in Functions\n",
    "\n",
    "Generally, most Wolfram Language built-in function are of the form:  \n",
    "\n",
    "`FunctionName[argument1, argument2, ...optionalArgument, \n",
    "option1->optionValue1, option2->optionValue2]`,  \n",
    "\n",
    "where Arguments are ordered; Options are not not"
   ]
  },
  {
   "cell_type": "code",
   "execution_count": null,
   "metadata": {},
   "outputs": [],
   "source": [
    "Plot[ x^2, {x, -5, 5},\n",
    " PlotRange -> {1, 5},\n",
    " PlotStyle -> {Thick, Red},\n",
    " Frame -> True]"
   ]
  },
  {
   "cell_type": "markdown",
   "metadata": {},
   "source": [
    "#### Alternative Function Notation\n",
    "This is entirely optional, but you'll probably see it around:"
   ]
  },
  {
   "cell_type": "code",
   "execution_count": null,
   "metadata": {},
   "outputs": [],
   "source": [
    "f[x]   (*standard notation*)\n",
    "f@x    (*prefix notation*)\n",
    "x // f (*postfix notation*)\n",
    "x~f~y  (*infix notation, for functions with two arguments*)"
   ]
  },
  {
   "cell_type": "markdown",
   "metadata": {},
   "source": [
    "<div class=\"alert alert-block alert-info\">\n",
    "<b>Tip:</b> We just made use of our first in-line comments! Anything between two enclosing `(*` `*)` will be ignored.\n",
    "</div>"
   ]
  },
  {
   "cell_type": "markdown",
   "metadata": {},
   "source": [
    "### Lists\n",
    "The Wolfram Language, unlike python, uses 1-indexing - be careful!  \n",
    "Lists can be directly constructed by placing elements inside curly brackets:"
   ]
  },
  {
   "cell_type": "code",
   "execution_count": null,
   "metadata": {},
   "outputs": [],
   "source": [
    "list={1,Red,\"Cat\",{4,5,6}}"
   ]
  },
  {
   "cell_type": "markdown",
   "metadata": {},
   "source": [
    "Lists are indexed using the short-hand for `Part`, consisting of **two** square brackets ``[[ ]]``"
   ]
  },
  {
   "cell_type": "code",
   "execution_count": null,
   "metadata": {},
   "outputs": [],
   "source": [
    "list[[1]]     (*single element*)\n",
    "list[[{1,3}]] (*multiple elements*)\n",
    "list[[1;;3]]  (*range of elements*)\n",
    "list[[-1]]    (*negative indexing*)\n",
    "list[[-1,2]]  (*nested lists indexing*)"
   ]
  },
  {
   "cell_type": "markdown",
   "metadata": {},
   "source": [
    "### Graphics\n",
    "In the Wolfram Language one generally defines a set of graphics primitives, and their styles, and wraps `Graphics` around them to display:  \n",
    "`Graphics[{style1, style2, object1, object2}, options]`"
   ]
  },
  {
   "cell_type": "code",
   "execution_count": null,
   "metadata": {},
   "outputs": [],
   "source": [
    "Graphics[{Blue, Thick, Circle[{-1, 1}, 1], Orange, \n",
    "  Rectangle[{-1, 1}, {0, 2}],Disk[{-3/2,0},1/2]},ImageSize->Small]"
   ]
  },
  {
   "cell_type": "markdown",
   "metadata": {},
   "source": [
    "The styles are applied incrementally in the order the graphics objects appear. E.g. note that, in the snippet above, `Orange` overwrites `Blue` and gets applied to both `Rectangle` and `Disk`.  \n",
    "\n",
    "It is often good practice to isolate styles by using lists:"
   ]
  },
  {
   "cell_type": "code",
   "execution_count": null,
   "metadata": {},
   "outputs": [],
   "source": [
    "Graphics[\n",
    "{{Blue, Thick, Circle[{-1, 1}, 1]},\n",
    "{Orange, Rectangle[{-1, 1}, {0, 2}]},\n",
    "{Disk[{-3/2,0},1/2]}\n",
    "},ImageSize->Small]"
   ]
  },
  {
   "cell_type": "markdown",
   "metadata": {},
   "source": [
    "## Working With Lists:\n",
    "- Write an arithmetic sequence of numbers: use `Range`"
   ]
  },
  {
   "cell_type": "code",
   "execution_count": null,
   "metadata": {},
   "outputs": [],
   "source": [
    "Range[10, 0, -2]"
   ]
  },
  {
   "cell_type": "markdown",
   "metadata": {},
   "source": [
    "- Write lists with a more complicated logic: use `Table` (similar to Python's list comprehension)"
   ]
  },
  {
   "cell_type": "code",
   "execution_count": null,
   "metadata": {},
   "outputs": [],
   "source": [
    "Table[\n",
    "(*store elements 4n-2*)\n",
    "4*n - 2,\n",
    "\n",
    "(*for n starting from 0 to 10 (in steps of 1)*)\n",
    "{n, 0, 10}]"
   ]
  },
  {
   "cell_type": "markdown",
   "metadata": {},
   "source": [
    "- Return a list with an element added to the end: use `Append`"
   ]
  },
  {
   "cell_type": "code",
   "execution_count": null,
   "metadata": {},
   "outputs": [],
   "source": [
    "Append[Range[0, 10], 12]"
   ]
  },
  {
   "cell_type": "markdown",
   "metadata": {},
   "source": [
    "- Return a list with an element added to the end AND reset its definition: use `AppendTo`"
   ]
  },
  {
   "cell_type": "code",
   "execution_count": null,
   "metadata": {},
   "outputs": [],
   "source": [
    "list1 = Range[0, 10];\n",
    "AppendTo[list1, 12];\n",
    "list1"
   ]
  },
  {
   "cell_type": "markdown",
   "metadata": {},
   "source": [
    "<div class=\"alert alert-block alert-info\">\n",
    "<b>Tip:</b> We're using `;` after some lines in multi-line code blocks to supress the output from printing to the screen.\n",
    "</div>"
   ]
  },
  {
   "cell_type": "markdown",
   "metadata": {},
   "source": [
    "- Similarly, the functions `Prepend` and `PrependTo` add elements to the beginning of a list"
   ]
  },
  {
   "cell_type": "markdown",
   "metadata": {},
   "source": [
    "- Find all possible ordered combinations of a list: use `Tuples`"
   ]
  },
  {
   "cell_type": "code",
   "execution_count": null,
   "metadata": {},
   "outputs": [],
   "source": [
    "(*Find all length-2 combinations with elements drawn from {1,2,3}*)\n",
    "Tuples[Range[3], 2]"
   ]
  },
  {
   "cell_type": "markdown",
   "metadata": {},
   "source": [
    "- You can use `Subsets` if order doesn't matter"
   ]
  },
  {
   "cell_type": "code",
   "execution_count": null,
   "metadata": {},
   "outputs": [],
   "source": [
    "Subsets[Range[3], {2}]"
   ]
  },
  {
   "cell_type": "markdown",
   "metadata": {},
   "source": [
    "- Divide a list into sublists of a given length: use `Partition`"
   ]
  },
  {
   "cell_type": "code",
   "execution_count": null,
   "metadata": {},
   "outputs": [],
   "source": [
    "Partition[Range[9], 2]"
   ]
  },
  {
   "cell_type": "markdown",
   "metadata": {},
   "source": [
    "- Recombine sublists into one big list: use `Flatten`"
   ]
  },
  {
   "cell_type": "code",
   "execution_count": null,
   "metadata": {},
   "outputs": [],
   "source": [
    "Flatten[Partition[Range[9], 2]]"
   ]
  },
  {
   "cell_type": "markdown",
   "metadata": {},
   "source": [
    "## Writing Your Own Functions\n",
    "Since the Wolfram Language capitalizes built-in functions, it's considered good practice to name user defined functions with a lower case letter, and capitalize multi-word function names."
   ]
  },
  {
   "cell_type": "code",
   "execution_count": null,
   "metadata": {},
   "outputs": [],
   "source": [
    "sumFunction[var1_, var2_] := var1 + var2\n",
    "sumFunction[1, 2]"
   ]
  },
  {
   "cell_type": "markdown",
   "metadata": {},
   "source": [
    "Let's break this down: we've defined a function called `sumFunction`, which takes exactly two positional arguments and adds them together.  \n",
    "- Positional arguments are followed by an underscore. In the Wolfram Language this is called a pattern.\n",
    "- We used \":=\" to define our function. This is called `SetDelayed`, and only evaluates the RHS of the function's body when the function gets called"
   ]
  },
  {
   "cell_type": "code",
   "execution_count": null,
   "metadata": {},
   "outputs": [],
   "source": [
    "sumFunction2[var1_, var2_,defaultValueVar3_:4] := var1 + var2 + defaultValueVar3\n",
    "sumFunction2[1, 2]\n",
    "sumFunction2[1, 2, 3]"
   ]
  },
  {
   "cell_type": "markdown",
   "metadata": {},
   "source": [
    "- We can also define optional arguments with default values by using `argument_:argumentValue`. The function can then be called with either two or three arguments\n",
    "- If instead we wanted to define a function which takes an undefined number of positional arguments, we could use two (or three) underscores to signal one (zero) or more arguments"
   ]
  },
  {
   "cell_type": "code",
   "execution_count": null,
   "metadata": {},
   "outputs": [],
   "source": [
    "sumFunction3[vars__] := Apply[Plus,{vars}]\n",
    "sumFunction3[1, 2]\n",
    "sumFunction3[1, 2, 3]"
   ]
  },
  {
   "cell_type": "markdown",
   "metadata": {},
   "source": [
    "- We can use pattern tests to restrict the type of arguments a function can take"
   ]
  },
  {
   "cell_type": "code",
   "execution_count": null,
   "metadata": {},
   "outputs": [],
   "source": [
    "(*Only sum integers*)\n",
    "sumFunction4[vars__Integer] := Apply[Plus,{vars}]\n",
    "sumFunction4[1, 2, 3]\n",
    "\n",
    "(*Returns unevaluated*)\n",
    "sumFunction4[1, 2, 3.]"
   ]
  },
  {
   "cell_type": "markdown",
   "metadata": {},
   "source": [
    "- We can use pattern matching to specify multiple forms of arguments (similar to Julia's Multiple Dispatch)"
   ]
  },
  {
   "cell_type": "code",
   "execution_count": null,
   "metadata": {},
   "outputs": [],
   "source": [
    "flexibleForm[{a_, b_}, c_] := \"tuple first\"\n",
    "flexibleForm[c_, {a_, b_}] := \"number first\"\n",
    "\n",
    "flexibleForm[{Red,\"Car\"},1]\n",
    "flexibleForm[Red,{\"Car\",1}]"
   ]
  },
  {
   "cell_type": "markdown",
   "metadata": {},
   "source": [
    "### Mapping over inputs\n",
    "If you want to apply your function to a whole list of inputs, you can use `Map`:"
   ]
  },
  {
   "cell_type": "code",
   "execution_count": null,
   "metadata": {},
   "outputs": [],
   "source": [
    "square[n_] := n^2\n",
    "\n",
    "(*Map the function square over the list of arguments {0,1,2,3,4,5}*)\n",
    "Map[square, Range[0, 5]]\n",
    "\n",
    "(*Fancy shorthand syntax*)\n",
    "square /@ Range[0, 5]"
   ]
  },
  {
   "cell_type": "markdown",
   "metadata": {},
   "source": [
    "Note, many functions are also `Listable`, which means they automatically `Map` or `Thread` their inputs. In the previous example, the following would also work:"
   ]
  },
  {
   "cell_type": "code",
   "execution_count": null,
   "metadata": {},
   "outputs": [],
   "source": [
    "square[Range[0,5]]"
   ]
  },
  {
   "cell_type": "markdown",
   "metadata": {},
   "source": [
    "### Pure functions (optional, but you'll see it around)\n",
    "If you're only going to use a function in a single context, you don't need to define it outside of that context.\n",
    "\n",
    "Instead, you can use a pure function:\n",
    "`#^2 &`\n",
    "\n",
    "The `#` is called a slot, and it shows where the input is supposed to go\n",
    "The `&` is a label that indicates a pure function is being used and activates the nearest slot"
   ]
  },
  {
   "cell_type": "code",
   "execution_count": null,
   "metadata": {},
   "outputs": [],
   "source": [
    "Map[#^2 &, Range[0, 5]]\n",
    "\n",
    "(*equivalent terse syntax*)\n",
    "#^2 & /@ Range[0, 5]"
   ]
  },
  {
   "cell_type": "markdown",
   "metadata": {},
   "source": [
    "## Nesting\n",
    "Fractal-like behaviour is often the result of nesting.  \n",
    "Nesting means that a function's output is fed back into the same function as input."
   ]
  },
  {
   "cell_type": "code",
   "execution_count": null,
   "metadata": {},
   "outputs": [],
   "source": [
    "function[function[function[x]]]\n",
    "\n",
    "Nest[function, x, 3]"
   ]
  },
  {
   "cell_type": "markdown",
   "metadata": {},
   "source": [
    "Let's write a function to add 3 to the input:"
   ]
  },
  {
   "cell_type": "code",
   "execution_count": null,
   "metadata": {},
   "outputs": [],
   "source": [
    "add3[input_] := input + 3\n",
    "\n",
    "Nest[add3, 1, 3]"
   ]
  },
  {
   "cell_type": "markdown",
   "metadata": {},
   "source": [
    "- If we want to see intermediate results, we can use `NestList` instead:"
   ]
  },
  {
   "cell_type": "code",
   "execution_count": null,
   "metadata": {},
   "outputs": [],
   "source": [
    "NestList[add3, 1, 3]"
   ]
  },
  {
   "cell_type": "markdown",
   "metadata": {},
   "source": [
    "- Keep going until a condition is met with `NestWhile`"
   ]
  },
  {
   "cell_type": "code",
   "execution_count": null,
   "metadata": {},
   "outputs": [],
   "source": [
    "NestWhile[add3, 1, # < 40 &]\n",
    "NestWhileList[add3, 1, # < 40 &]"
   ]
  },
  {
   "cell_type": "markdown",
   "metadata": {},
   "source": [
    "- We can also keep nesting until the result no-longer changes using `FixedPoint`"
   ]
  },
  {
   "cell_type": "code",
   "execution_count": null,
   "metadata": {},
   "outputs": [],
   "source": [
    "(*\n",
    "Starting from the value 1. \n",
    "nest the pure function x = (x +2/x)/2\n",
    "until the result converges\n",
    "*)\n",
    "FixedPointList[(# + 2/#)/2 &, 1.]"
   ]
  },
  {
   "cell_type": "markdown",
   "metadata": {},
   "source": [
    "## Dynamic Outputs\n",
    "The Wolfram Language has powerful `Dynamic` functionality, which allows one to visualize an output as it's being computed in real time."
   ]
  },
  {
   "cell_type": "markdown",
   "metadata": {},
   "source": [
    "<div class=\"alert alert-block alert-danger\">\n",
    "<b>Alert: </b>\n",
    "Unfortunately, these don't play niceley with the Jupyter Front-End. When we deem these are invaluable for the content, we'll switch to using the Wolfram Cloud. Otherwise, we'll precompute frames and output animations as movies.  \n",
    "</div>"
   ]
  },
  {
   "cell_type": "code",
   "execution_count": null,
   "metadata": {},
   "outputs": [],
   "source": []
  }
 ],
 "metadata": {
  "colab": {
   "collapsed_sections": [],
   "name": "Python tutorial-solutions.ipynb",
   "provenance": []
  },
  "kernelspec": {
   "display_name": "Wolfram Language 12.2",
   "language": "Wolfram Language",
   "name": "wolframlanguage12.2"
  },
  "language_info": {
   "codemirror_mode": "mathematica",
   "file_extension": ".m",
   "mimetype": "application/vnd.wolfram.m",
   "name": "Wolfram Language",
   "pygments_lexer": "mathematica",
   "version": "12.0"
  }
 },
 "nbformat": 4,
 "nbformat_minor": 1
}
